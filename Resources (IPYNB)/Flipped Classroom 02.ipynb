{
 "cells": [
  {
   "cell_type": "markdown",
   "id": "5ae82ea0",
   "metadata": {},
   "source": [
    "# Backpropagation\n",
    "\n",
    "In this notebook we have a look at how to implement backpropagation using (batched) matrix multiplication. We will see how activations that are computed in the forward computation of a neural network (or any other function!) can be re-used when computing gradients of the function with respect to its parameters/weights.\n",
    "\n",
    "To do so, we create a small artificial dataset of a 1D sine function."
   ]
  },
  {
   "cell_type": "markdown",
   "id": "9077a194",
   "metadata": {},
   "source": [
    "### (OPTIONAL) Historical background: Learning rule of a single perceptron (layer)\n",
    "\n",
    "A single perceptron (or a layer of perceptrons for multivariate targets) can be trained with a simple learning rule, the **Delta rule** that Frank Rosenblatt came up with already in 1958:\n",
    "$$\\Delta w_k^i = \\eta (y^i- \\hat{y}^i) x_k$$\n",
    "\n",
    "where $\\eta$ is a **learning rate**.\n",
    "\n",
    "Since a single layer of perceptrons can only discriminate between linearly separable input features, there is a need to use multiple perceptron layers stacked on top of each other. This limitation of perceptrons, and the lack of efficient weight update schemes for multi-layer perceptrons (and Rosenblatt's death before he could write a reply to criticism from symbolic AI proponent Marvin Minsky) effectively led to a first winter in ANN research. But now how do we update the weights in an MLP?\n",
    "\n",
    "To know how to update a weight, we need to know its contribution to the output of the MLP. How to do this efficiently was eventually figured out when David Rumelhart and Geoffrey Hinton came up with the idea of **error backpropagation** in 1985 while working on a research program they called _\"Parallel Distributed Processing\"_.\n",
    "\n",
    "The idea of backpropagation is to compute the gradients of the loss with respect to the weights. In the single layer case this could be done by the delta rule, so what the backpropagation represents is a **generalization of the delta rule** to the case where we have multiple layers of perceptrons.\n",
    "\n",
    "Later on, the idea of backpropagation was further generalized to yield algorithms for **automatic differentiation** on any function for which we know the derivatives of the individual local computations involved.\n",
    "\n",
    "Before diving into the idea of automatic differentiation, the aim of which is to have an efficient way of computing the gradients of the loss function with respect to the weights, we need to understand what _gradients of the loss function_ actually means and why finding these gradients would be useful for optimizing neural networks.\n",
    "\n",
    "## Gradient Descent\n",
    "\n",
    "The idea of gradient descent is that we can find minima of a function by following the opposite of its **gradient**. The gradient of a function of a vector of weights $\\vec{w}$ can be written as $\\nabla_{\\vec{w}} f(\\vec{w})$ and it is a vector of the partial derivatives of $f$ with respect to each element $w_i$ in $\\vec{w}$:\n",
    "\n",
    "$$\\nabla_{\\vec{w}} f(\\vec{w}) = \\begin{pmatrix} \\frac{\\partial f}{\\partial w_0} \\\\\\frac{\\partial f}{\\partial w_1} \\\\... \\\\ \\frac{\\partial f}{\\partial w_n}\\end{pmatrix}$$\n",
    "\n",
    "This gradient points in a linearized way into the **locally steepest direction of function value increase**. If we want to minimize an error function, the idea is to follow the opposite direction of this gradient. By iteratively following and re-computing the gradient in **small steps**, we can end up reducing the error function. Given that $f$ is convex (meaning there exist no local minima that are not identical to the global minimum) and we take small enough steps, convergence to the global minimum is guaranteed.\n",
    "\n",
    "## Back to Backpropagation\n",
    "\n",
    "We are interested in finding the partial derivatives of a loss/error function with respect to the weights. From calculus we know a bunch of rules that govern differentiation. Of particular interest to us is the **chain rule of calculus**: \n",
    "\n",
    "If we have a composite function $f(x) = g(h(x))$, then $$f'(x) = g'(h(x)) h'(x)$$\n",
    "\n",
    "Now with an MLP we do have such a composite function in the sense that one layer computes an output which then is the input to the next layer. In fact with two layers, we could define one layer as $g$ and the other layer as $h$ and yet another function $\\mathcal{L}$ as the error or **loss** function. Finding the gradients $\\nabla_w \\mathcal{L(w)}$ can be decomposed into finding partial derivatives of the layers $g$ and $h$. \n",
    "\n",
    "The idea is that we can first compute the partial derivatives of the outermost functions/layers and then, to obtain the derivatives of the earlier layers, we can multiply them with what we already computed for the outer functions. We have  $f = \\mathcal{L}(g(w_1, h(w_0, x)))$ and we want $f_w1'$, we need to first differentiate through the loss function. \n",
    "\n",
    "For the mean squared error $\\mathcal{L}_{\\text{MSE}} = \\frac{1}{2} (\\hat{y}_w - y)^2$ this equals $\\hat{y}_w - y$. To then obtain the gradients w.r.t the weights $w_1$ of the outermost layer $g$, we multiply $\\hat{y}_w - y$ with $g'_w(x)$. The same logic applies to the weights of layer $h$. Once we have the derivatives of the next layer's weights, we can compute the derivatives for the previous layer's weights etc.. It is for this logic that comes from applying the chain rule, that it was called backpropagation.\n",
    "\n",
    "As it turns out, to compute the gradients in this fashion, it is highly useful to keep track of intermediate results during the **forward pass** (calling the MLP on an input). The general logic of training MLPs thus is to first compute a prediction with a model and keep intermediate outputs in memory before using these values in the backward pass.\n",
    "\n",
    "## Automatic Differentiation\n",
    "\n",
    "While the original backpropagation learning rule was special to computations occuring in multi-layer perceptrons, a more modern approach is to have a library that tracks the **computational graph** and for each basic operation knows the derivative. During the backward pass the computational graph is reversely followed, making use of our knowledge of the derivatives of the individual small computations. With an automatic differentiation framework such as Tensorflow we can compute gradients (and thus perform gradient descent based optimization) on arbitrary functions that do not even have to be considered neural networks."
   ]
  },
  {
   "cell_type": "code",
   "execution_count": 1,
   "id": "2b147eaf",
   "metadata": {
    "scrolled": true
   },
   "outputs": [
    {
     "name": "stderr",
     "output_type": "stream",
     "text": [
      "2022-11-03 15:59:33.055713: I tensorflow/core/platform/cpu_feature_guard.cc:193] This TensorFlow binary is optimized with oneAPI Deep Neural Network Library (oneDNN) to use the following CPU instructions in performance-critical operations:  AVX2 FMA\n",
      "To enable them in other operations, rebuild TensorFlow with the appropriate compiler flags.\n",
      "2022-11-03 15:59:33.378791: W tensorflow/stream_executor/platform/default/dso_loader.cc:64] Could not load dynamic library 'libcudart.so.11.0'; dlerror: libcudart.so.11.0: cannot open shared object file: No such file or directory\n",
      "2022-11-03 15:59:33.378818: I tensorflow/stream_executor/cuda/cudart_stub.cc:29] Ignore above cudart dlerror if you do not have a GPU set up on your machine.\n",
      "2022-11-03 15:59:33.419776: E tensorflow/stream_executor/cuda/cuda_blas.cc:2981] Unable to register cuBLAS factory: Attempting to register factory for plugin cuBLAS when one has already been registered\n",
      "2022-11-03 15:59:34.456781: W tensorflow/stream_executor/platform/default/dso_loader.cc:64] Could not load dynamic library 'libnvinfer.so.7'; dlerror: libnvinfer.so.7: cannot open shared object file: No such file or directory\n",
      "2022-11-03 15:59:34.456857: W tensorflow/stream_executor/platform/default/dso_loader.cc:64] Could not load dynamic library 'libnvinfer_plugin.so.7'; dlerror: libnvinfer_plugin.so.7: cannot open shared object file: No such file or directory\n",
      "2022-11-03 15:59:34.456864: W tensorflow/compiler/tf2tensorrt/utils/py_utils.cc:38] TF-TRT Warning: Cannot dlopen some TensorRT libraries. If you would like to use Nvidia GPU with TensorRT, please make sure the missing libraries mentioned above are installed properly.\n",
      "/home/mp/anaconda3/envs/uni/lib/python3.9/site-packages/requests/__init__.py:102: RequestsDependencyWarning: urllib3 (1.26.8) or chardet (5.0.0)/charset_normalizer (2.0.4) doesn't match a supported version!\n",
      "  warnings.warn(\"urllib3 ({}) or chardet ({})/charset_normalizer ({}) doesn't match a supported \"\n"
     ]
    }
   ],
   "source": [
    "import tensorflow as tf\n",
    "import numpy as np\n",
    "import matplotlib.pyplot as plt"
   ]
  },
  {
   "cell_type": "code",
   "execution_count": 2,
   "id": "58d8f8b0",
   "metadata": {},
   "outputs": [
    {
     "data": {
      "image/png": "[encoded data removed]",
      "text/plain": [
       "<Figure size 432x288 with 1 Axes>"
      ]
     },
     "metadata": {
      "needs_background": "light"
     },
     "output_type": "display_data"
    },
    {
     "name": "stderr",
     "output_type": "stream",
     "text": [
      "2022-11-03 15:59:37.215188: W tensorflow/stream_executor/platform/default/dso_loader.cc:64] Could not load dynamic library 'libcuda.so.1'; dlerror: libcuda.so.1: cannot open shared object file: No such file or directory\n",
      "2022-11-03 15:59:37.215465: W tensorflow/stream_executor/cuda/cuda_driver.cc:263] failed call to cuInit: UNKNOWN ERROR (303)\n",
      "2022-11-03 15:59:37.215491: I tensorflow/stream_executor/cuda/cuda_diagnostics.cc:156] kernel driver does not appear to be running on this host (DESKTOP-ATOP1V9): /proc/driver/nvidia/version does not exist\n",
      "2022-11-03 15:59:37.217426: I tensorflow/core/platform/cpu_feature_guard.cc:193] This TensorFlow binary is optimized with oneAPI Deep Neural Network Library (oneDNN) to use the following CPU instructions in performance-critical operations:  AVX2 FMA\n",
      "To enable them in other operations, rebuild TensorFlow with the appropriate compiler flags.\n"
     ]
    }
   ],
   "source": [
    "# this is the non-linear function we want to learn\n",
    "x = np.linspace(0,10, num=128, dtype=np.float32)\n",
    "x = x.reshape(x.shape[0], 1)\n",
    "y = np.sin(x) * 0.5 + 0.5 # sine between 0 and 1\n",
    "\n",
    "# show training data\n",
    "plt.plot(x, y)\n",
    "plt.show()\n",
    "\n",
    "# create data, a single example for simplicity\n",
    "batch_size=1\n",
    "\n",
    "inputs = np.random.uniform(low=0.0, high=10,\n",
    "                           size=batch_size).astype(np.float32)\n",
    "inputs = inputs.reshape(batch_size, 1)\n",
    "target = np.sin(inputs)*0.5 + 0.5\n",
    "\n",
    "# turn numpy arrays into tensorflow tensors\n",
    "inputs = tf.constant(inputs)\n",
    "target = tf.constant(target)\n"
   ]
  },
  {
   "cell_type": "markdown",
   "id": "75f70bb1",
   "metadata": {},
   "source": [
    "Next we create a neural network (multi-layer perceptron) that takes this data and transforms it, using linear transformations (matrix multiplication) and non-linear activation functions (sigmoid), to compute predictions of the sine value.\n",
    "\n",
    "We will use 3 layers. The first layer has 20 hidden units, the second layer has 10 hidden units and the third layer, which is the output layer, has 1 unit (just like the target). We use tensorflow instead of numpy but really we use it in pretty much the same way as numpy.\n",
    "\n",
    "The weight matrices have shape (1,20), (20,10) and (10,1), following the convention (n_in, n_out)."
   ]
  },
  {
   "cell_type": "code",
   "execution_count": 3,
   "id": "c1de0f18",
   "metadata": {},
   "outputs": [],
   "source": [
    "weights_1 = tf.random.uniform(shape=(1,20))\n",
    "weights_2 = tf.random.uniform(shape=(20,10))\n",
    "weights_3 = tf.random.uniform(shape=(10,1))"
   ]
  },
  {
   "cell_type": "markdown",
   "id": "84155702",
   "metadata": {},
   "source": [
    "### The forward computation of an ANN\n",
    "\n",
    "Next we define the computations in which these weights are used.\n",
    "\n",
    "We have 3 layers and we want to apply a sigmoid activation function after every layer.\n",
    "\n",
    "We also compute the error between the output and the target values using a **Mean Squared Error**."
   ]
  },
  {
   "cell_type": "code",
   "execution_count": 4,
   "id": "4e617c39",
   "metadata": {},
   "outputs": [
    {
     "name": "stdout",
     "output_type": "stream",
     "text": [
      "predictions are 0.9623635411262512 \n",
      " while the targets are 0.8839762210845947\n",
      "\n",
      " This makes a mean squared error of 0.0030722860246896744\n"
     ]
    }
   ],
   "source": [
    "# layer 1\n",
    "f7_o = inputs @ weights_1\n",
    "# activation function of layer 1\n",
    "f6_o = tf.nn.sigmoid(f7_o)\n",
    "\n",
    "# layer 2\n",
    "f5_o = f6_o @ weights_2\n",
    "# activation function of layer 2\n",
    "f4_o = tf.nn.sigmoid(f5_o)\n",
    "\n",
    "# layer 3 (output layer)\n",
    "f3_o = f4_o @ weights_3\n",
    "# activation function of layer 3 (output layer)\n",
    "f2_o = tf.nn.sigmoid(f3_o)\n",
    "\n",
    "# error function, here MSE\n",
    "f1_o = tf.reduce_mean(0.5 * (f2_o - target)**2, axis=None) # mean squared error\n",
    "\n",
    "print(f\"predictions are {f2_o.numpy().squeeze()} \\n while the targets are {target.numpy().squeeze()}\")\n",
    "print(f\"\\n This makes a mean squared error of {f1_o}\")"
   ]
  },
  {
   "cell_type": "markdown",
   "id": "a43d3f10",
   "metadata": {},
   "source": [
    "Our model can be described as a composite function of 7 computations, most of which are already composite functions (e.g. sigmoid activation function or the MSE-loss):\n",
    "\n",
    "$$\\mathcal{L} = f_1(f_2(f_3( f_4(f_5(f_6(f_7(x,w_1)), w_2  )  ) ) , w_3)   , \\text{target})$$\n",
    "\n",
    "What we want to find is the tuple of partial derivatives, that is the gradient, of $f_1$ w.r.t. the parameters ($w_1, w_2, w_3$).\n",
    "\n",
    "#### Using the chain rule\n",
    "\n",
    "Because this is a composite function we can apply the **chain rule** of calculus, according to which the derivative is computed as the outer derivative given the unchanged output of the inner function, multiplied by the derivative of the inner function, again keeping its input unchanged, if $x$ in the formula below turns out to be another function:\n",
    "\n",
    "$$\\frac{d}{{dx}}\\left[ {f_1\\left( f_2 \\right)} \\right] = \\frac{d}{{df_2}}\\left[ {f_1\\left( f_2 \\right)} \\right]\\frac{{df_2}}{{dx}}$$"
   ]
  },
  {
   "cell_type": "markdown",
   "id": "5f0a4a73",
   "metadata": {},
   "source": [
    "### Local derivatives\n",
    "\n",
    "All we need to compute the partial derivatives of the loss function w.r.t. the network parameters (here only the weights, since we do not use a bias) is the derivatives of the individual or composite computations involved.\n",
    "\n",
    "Our composite function (the joint forward pass and loss computation of an ANN) makes use of three kinds of composite computations:\n",
    "- Mean squared error (MSE)\n",
    "- Sigmoid activation function\n",
    "- Matrix multiplication\n",
    "\n",
    "### Local derivatives of MSE\n",
    "\n",
    "$\\mathcal{L}_{\\text{MSE}} = f_1(\\text{f2_o}) = \\frac{1}{2} (\\text{f2_o} - \\text{t})^2$\n",
    "\n",
    "The derivative of this w.r.t. the ANN's final layer's output *f2_o* is\n",
    "\n",
    "$\\frac{\\partial \\mathcal{L}}{\\partial \\text{f2_o}} = \\text{f2_o} - \\text{t}$\n",
    "\n",
    "### Local derivatives of the sigmoid activation function\n",
    "\n",
    "Activation functions are typically denoted as $\\sigma(x)$. Here, the sigmoid activation function is defined by:\n",
    "\n",
    "$\\sigma(x) = \\frac{1}{1+\\text{e}^{-x}}$\n",
    "\n",
    "and its derivative turns out to be\n",
    "\n",
    "$\\frac{\\partial \\sigma}{\\partial \\text{x}} = \\sigma(x) ( 1 - \\sigma(x))$\n",
    "\n",
    "Since an activation function is an element-wise operation, we also chain this local derivative $\\sigma'(x)$ with $\\frac{\\partial \\mathcal{L}}{\\partial \\sigma(x)}$ by element-wise multiplication.\n",
    "\n",
    "### Local derivatives of matrix multiplication\n",
    "\n",
    "A matrix multiplication is a linear operation that takes two arguments, so we can differentiate w.r.t. either the first matrix or the second matrix - in neural networks this is either the input to the layer or the weights of that layer.\n",
    "\n",
    "Let's say we have the following matrix multiplication\n",
    "\n",
    "$C = A B$\n",
    "\n",
    "and we already have the gradients of the loss function w.r.t. the output of this matrix multiplication C, that is we have $\\frac{\\partial \\mathcal{L}}{\\partial C}$.\n",
    "\n",
    "The partial derivative of the loss $\\mathcal{L}$ w.r.t. $A$ turns out to be\n",
    "\n",
    "$\\frac{\\partial \\mathcal{L}}{\\partial A} = \\frac{\\partial \\mathcal{L}}{\\partial C} B^{\\text{T}}$.\n",
    "\n",
    "Likewise the partial derivative w.r.t. matrix $B$ turns out to be\n",
    "\n",
    "$\\frac{\\partial \\mathcal{L}}{\\partial B} = A^{\\text{T}} \\frac{\\partial \\mathcal{L}}{\\partial C}$.\n",
    "\n",
    "**For a handwritten explanation, please refer to the additional material provided in the same folder as this notebook.**\n",
    "\n",
    "\n",
    "This is it, we know all the local derivatives involved in the computation of the loss that we want to minimize by changing the weights in the three layers. \n",
    "\n",
    "Let's have another look at the forward computation of the loss, in which we store intermediate computations and later refer to them in the math notation of the backpropagation by their variable names, hopefully making it easier to relate the math to the code:"
   ]
  },
  {
   "cell_type": "code",
   "execution_count": 5,
   "id": "ef201570",
   "metadata": {},
   "outputs": [
    {
     "name": "stdout",
     "output_type": "stream",
     "text": [
      "prediction is 0.9623635411262512 while target is 0.8839762210845947\n",
      "\n",
      " This makes a mean squared error of 0.0030722860246896744\n"
     ]
    }
   ],
   "source": [
    "# layer 1\n",
    "f7_o = tf.matmul(inputs, weights_1)\n",
    "# activation function of layer 1\n",
    "f6_o = tf.nn.sigmoid(f7_o)\n",
    "\n",
    "# layer 2\n",
    "f5_o = tf.matmul(f6_o, weights_2)\n",
    "# activation function of layer 2\n",
    "f4_o = tf.nn.sigmoid(f5_o)\n",
    "\n",
    "# layer 3 (output layer)\n",
    "f3_o = tf.matmul(f4_o, weights_3)\n",
    "# activation function of layer 3 (output layer)\n",
    "f2_o = tf.nn.sigmoid(f3_o)\n",
    "\n",
    "# error function, here MSE\n",
    "f1_o = tf.reduce_mean(0.5 * (f2_o - target)**2,axis=None) # mean squared error\n",
    "\n",
    "print(f\"prediction is {f2_o.numpy().squeeze()} while target is {target.numpy().squeeze()}\")\n",
    "print(f\"\\n This makes a mean squared error of {f1_o}\")"
   ]
  },
  {
   "cell_type": "markdown",
   "id": "5397a32e",
   "metadata": {},
   "source": [
    "### Backpropagation\n",
    "\n",
    "We start with the partial derivative of the mean squared error w.r.t. the network output f2_o:\n",
    "$$\\frac{\\partial \\mathcal{L}}{\\partial f_2} = \\text{f2_o} - \\text{t}$$\n",
    "\n",
    "Next we want to differentiate through the sigmoid activation function. We take an element-wise product between the outer derivative and the inner derivative $\\sigma'(x)$, the definition of which you can find in the *local derivatives* section.\n",
    "\n",
    "$$\\frac{\\partial \\mathcal{L}}{\\partial f_3} = \\frac{\\partial \\mathcal{L}}{\\partial f_2} \\circ \\sigma'(\\text{f3_o})$$\n",
    "\n",
    "We can already compute the gradients w.r.t. the weights of the last layer. We use the result we got above in the *local derivatives* section to know how to do this.\n",
    "\n",
    "$$\\frac{\\partial \\mathcal{L}}{\\partial \\text{W}_3} = \\text{f4_o}^{\\text{T}} \\frac{\\partial \\mathcal{L}}{\\partial f_3}$$\n",
    "\n",
    "Now we want to differentiate with respect to the last layer's input, f4_o - again using the logic from the *local derivatives* section.\n",
    "\n",
    "$$\\frac{\\partial \\mathcal{L}}{\\partial f_4} = \\frac{\\partial \\mathcal{L}}{\\partial f_3} {\\text{W}_3}^{\\text{T}}$$\n",
    "\n",
    "The next step to differentiate through backwards is again a sigmoid activation function. We can thus follow the same procedure as we did before:\n",
    "\n",
    "$$\\frac{\\partial \\mathcal{L}}{\\partial f_5} = \\frac{\\partial \\mathcal{L}}{\\partial f_4} \\circ \\sigma'(\\text{f5_o})$$\n",
    "\n",
    "Now we want to differentiate through the matrix multiplication of layer 2, first w.r.t. the layer's input:\n",
    "\n",
    "$$\\frac{\\partial \\mathcal{L}}{\\partial f_6} = \\frac{\\partial \\mathcal{L}}{\\partial f_5} {\\text{W}_3}^{\\text{T}}$$\n",
    "\n",
    "We can now get the gradients of the weights of layer 2, by differentiating the same matmul operation from the forward computation w.r.t. the weights, following the same logic as before for the gradients of weights_3:\n",
    "\n",
    "$$\\frac{\\partial \\mathcal{L}}{\\partial \\text{W}_2} = \\text{f6_o}^{\\text{T}} \\frac{\\partial \\mathcal{L}}{\\partial f_6}$$\n",
    "\n",
    "This is becoming quite repetitive - given that we have the gradients of the loss function w.r.t. the second layer's inputs, we can differentiate through the activation function of layer 1:\n",
    "\n",
    "$$\\frac{\\partial \\mathcal{L}}{\\partial f_7} = \\frac{\\partial \\mathcal{L}}{\\partial f_6} \\circ \\sigma'(\\text{f7_o})$$\n",
    "\n",
    "Sometimes we are interested in the gradients of the loss w.r.t. the input data. We can obtain these by differentiating through the matrix multiplication of the first layer w.r.t. the inputs:\n",
    "\n",
    "$$\\frac{\\partial \\mathcal{L}}{\\partial \\text{inputs}} = \\frac{\\partial \\mathcal{L}}{\\partial f_7}  {\\text{W}_1}^{\\text{T}}$$\n",
    "\n",
    "Finally, and lastly, we compute the gradients of the loss $\\mathcal{L}$ w.r.t. the first layer's weights:\n",
    "\n",
    "$$\\frac{\\partial \\mathcal{L}}{\\partial \\text{W}_1} = \\text{f7_o}^{\\text{T}} \\frac{\\partial \\mathcal{L}}{\\partial f_7}$$"
   ]
  },
  {
   "cell_type": "code",
   "execution_count": 6,
   "id": "0b3ad30e",
   "metadata": {},
   "outputs": [],
   "source": [
    "# Gradients of MSE (d L/ d f2)\n",
    "grad_f1_o = (f2_o - target)\n",
    "\n",
    "# Chain gradients of MSE with gradients of output activation function\n",
    "# (d L / d f3)\n",
    "grad_f2_o = grad_f1_o *(tf.nn.sigmoid(f3_o)*(1-tf.nn.sigmoid(f3_o)))\n",
    "\n",
    "# compute gradients w.r.t the last layer's weights (weights_3)\n",
    "# (d L / d weights_3)\n",
    "grad_w3 = (tf.transpose(f4_o) @ grad_f2_o) / batch_size\n",
    "\n",
    "# chain with derivative of matrix multiplication of layer 3\n",
    "# d L / d f4\n",
    "grad_f3_o = grad_f2_o @ tf.transpose(weights_3)\n",
    "\n",
    "# chain with derivative of activation function (layer 3)\n",
    "# d L / d f5\n",
    "grad_f4_o = grad_f3_o * (tf.nn.sigmoid(f5_o)*(1-tf.nn.sigmoid(f5_o)))\n",
    "\n",
    "# chain with derivative of matrix multiplication of layer 2\n",
    "# d L / d f6\n",
    "grad_f5_o = grad_f4_o @ tf.transpose(weights_2)\n",
    "\n",
    "# compute gradients w.r.t. layer 2's weight matrix\n",
    "# d L / d weights_2\n",
    "grad_w2 = (tf.transpose(f6_o) @ grad_f4_o) / batch_size\n",
    "\n",
    "# chain with layer 2's sigmoid activation function\n",
    "# d L / d f7\n",
    "grad_f6_o = grad_f5_o * (tf.nn.sigmoid(f7_o)*(1-tf.nn.sigmoid(f7_o)))\n",
    "\n",
    "# compute gradients w.r.t. the input\n",
    "# d L / d inputs\n",
    "grad_inputs = grad_f6_o @ tf.transpose(weights_1)\n",
    "\n",
    "# compute gradients w.r.t. layer 1's weights\n",
    "# d L / d weights_1\n",
    "grad_w1 = (tf.transpose(inputs) @ grad_f6_o) / batch_size"
   ]
  },
  {
   "cell_type": "markdown",
   "id": "2d9e77a0",
   "metadata": {},
   "source": [
    "Let's check whether our implementation that we got by chaining local derivatives of atomic computations involved actually gives us the correct gradients w.r.t. to the network weights.\n",
    "\n",
    "To do this, we rely on Tensorflow's **reverse mode automatic differentiation**, which does exactly what we just did, relying on optimized computational graph structures to reduce the number of operations."
   ]
  },
  {
   "cell_type": "code",
   "execution_count": 7,
   "id": "52b63eaf",
   "metadata": {},
   "outputs": [],
   "source": [
    "with tf.GradientTape() as tape:\n",
    "    tape.watch([weights_1, weights_2, weights_3])\n",
    "    f7_o = tf.matmul(inputs, weights_1)\n",
    "    f6_o = tf.nn.sigmoid(f7_o)\n",
    "    f5_o = tf.matmul(f6_o, weights_2)\n",
    "    f4_o = tf.nn.sigmoid(f5_o)\n",
    "    f3_o = tf.matmul(f4_o, weights_3)\n",
    "    f2_o = tf.nn.sigmoid(f3_o)\n",
    "\n",
    "    f1_o = tf.reduce_mean(0.5 * (f2_o - target)**2) # mean squared error\n",
    "    \n",
    "real_grad_w1, real_grad_w2, real_grad_w3 = tape.gradient(f1_o, [weights_1,\n",
    "                                                                weights_2,\n",
    "                                                                weights_3])"
   ]
  },
  {
   "cell_type": "code",
   "execution_count": 8,
   "id": "e59823c8",
   "metadata": {},
   "outputs": [
    {
     "name": "stdout",
     "output_type": "stream",
     "text": [
      "gradients for weights_1 match tensorflow oracle:     True\n",
      "gradients for weights_2 match tensorflow oracle:     True\n",
      "gradients for weights_3 match tensorflow oracle:     True\n"
     ]
    }
   ],
   "source": [
    "tolerance = 0.000000000001\n",
    "print(f\"gradients for weights_1 match tensorflow oracle: \\\n",
    "    {np.allclose(grad_w1, real_grad_w1, atol=tolerance)}\")\n",
    "print(f\"gradients for weights_2 match tensorflow oracle: \\\n",
    "    {np.allclose(grad_w2, real_grad_w2, atol=tolerance)}\")\n",
    "print(f\"gradients for weights_3 match tensorflow oracle: \\\n",
    "    {np.allclose(grad_w3, real_grad_w3, atol=tolerance)}\")"
   ]
  },
  {
   "cell_type": "markdown",
   "id": "27ab1b8b",
   "metadata": {},
   "source": [
    "## Some (important) notes\n",
    "\n",
    "You may encounter some unanswered questions when trying to find gradients for more complicated composite functions. One possibility is that the same weight matrix (or activation tensor) affects the loss through multiple paths. In this case we need to aggregate the gradients obtained through these paths by summation. The same applies for a case in which we have a batch of inputs and not a single (input, output) example. In this case, you also aggregate the gradients obtained for each example by averaging, as we've done above. Deep Learning frameworks do batched matrix multiplications in a highly optimized way by utilizing the capabilities for parallelism of modern graphic processing units (GPUs) or other accelerators.\n",
    "\n",
    "\n",
    "## Conclusion\n",
    "\n",
    "We have found the computations needed to obtain the gradients of our composite function w.r.t. some variables (here weights). Let's note some important observations that we may have made along the way:\n",
    "\n",
    "\n",
    "- Doing it by hand is tedious and the mathematical expressions for the gradients get very long, even for a shallow neural network of just 3 layers.\n",
    "\n",
    "\n",
    "- We really only need to know the local derivatives of the basic computations involved in a composite function (such as any kind of ANN) to compute gradients of the complete function.\n",
    "\n",
    "\n",
    "- The intermediate computations that arise in the function's forward pass can be re-used in the backward computation of its gradients.\n",
    "\n",
    "\n",
    "- The same logic can be applied for any kind of directed acyclic graph composed of smaller functions that are differentiable. As such, it can be used to compute gradients for any neural network architecture, as long as the individual network components have known local derivatives.\n",
    "\n",
    "\n",
    "- In automatic differentiation frameworks (esp. in tensorflow), functions are constructed on graphs that contain inputs, parameters, as well as the operations, their local derivatives and the intermediate results to be re-used in the backward pass. There is no need to chain derivatives together manually in these frameworks as we did here!"
   ]
  },
  {
   "cell_type": "markdown",
   "id": "f72fb1e3",
   "metadata": {},
   "source": [
    "## Optional: Using the hard-coded backprop to train a neural network on the sine data\n",
    "\n",
    "- we use batches of (x,y) samples from our 1D sine function for each gradient computation\n",
    "\n",
    "- we initialize the weights differently (more on this in two weeks)\n",
    "\n",
    "- we include a bias in our network\n",
    "\n",
    "- we remove the sigmoid on the output, because it is a regression task\n",
    "\n",
    "To train the network weights, we need four functions:\n",
    "- the **forward computation** (including the loss function), that also returns the intermediate results\n",
    "- the **backward (gradient) computation** that takes the results from forward computation and backpropagates the gradients to the network parameters, returning a tuple of parameter gradients.\n",
    "- the **weight update**, in which we pair the gradients with their respective parameter array/tensor and subtract a fraction of the gradients from the parameters\n",
    "- the **training loop** which applies the three functions for a number of iterations, computing the loss (and intermediate activations and pre-activations), backpropagating the error (computing gradients), and applying the gradients to update the weights and the biases of the network."
   ]
  },
  {
   "cell_type": "code",
   "execution_count": 9,
   "id": "1d49c485",
   "metadata": {},
   "outputs": [],
   "source": [
    "# instantiate network parameters\n",
    "n_units_1 = 20\n",
    "n_units_2 = 10\n",
    "n_units_3 = 1\n",
    "\n",
    "# He-Uniform initialization for better learning\n",
    "limit_1 = np.sqrt(6 / 1)\n",
    "limit_2 = np.sqrt(6 / n_units_1)\n",
    "limit_3 = np.sqrt(6/n_units_2)\n",
    "\n",
    "weights_1 = tf.random.uniform(minval=-limit_1,maxval=limit_1,shape=(1,n_units_1))\n",
    "weights_2 = tf.random.uniform(minval=-limit_2,maxval=limit_2,shape=(n_units_1,n_units_2))\n",
    "weights_3 = tf.random.uniform(minval=-limit_3,maxval=limit_3, shape=(n_units_2,n_units_3))\n",
    "\n",
    "# this time using a bias in our model\n",
    "bias_1 = tf.Variable(tf.zeros(n_units_1))\n",
    "bias_2 = tf.Variable(tf.zeros(n_units_2))\n",
    "bias_3 = tf.Variable(tf.zeros(n_units_3))\n",
    "\n",
    "weights_1 = tf.Variable(weights_1)\n",
    "weights_2 = tf.Variable(weights_2)\n",
    "weights_3 = tf.Variable(weights_3)\n",
    "\n",
    "weights = (weights_1, weights_2, weights_3, bias_1, bias_2, bias_3)"
   ]
  },
  {
   "cell_type": "code",
   "execution_count": 17,
   "id": "247813ad",
   "metadata": {},
   "outputs": [],
   "source": [
    "@tf.function(jit_compile=True) # for speed\n",
    "def compute_forward_pass(inputs, target, weights):\n",
    "    \n",
    "    weights_1 = weights[0]\n",
    "    weights_2 = weights[1]\n",
    "    weights_3 = weights[2]\n",
    "    bias_1 = weights[3]\n",
    "    bias_2 = weights[4]\n",
    "    bias_3 = weights[5]\n",
    "    \n",
    "    # layer 1, now with bias\n",
    "    f7_o = tf.matmul(inputs, weights_1) + bias_1\n",
    "    # activation function of layer 1\n",
    "    f6_o = tf.nn.sigmoid(f7_o)\n",
    "    \n",
    "    # layer 2, now with bias\n",
    "    f5_o = tf.matmul(f6_o, weights_2) + bias_2\n",
    "    # activation function of layer 2\n",
    "    f4_o = tf.nn.sigmoid(f5_o)\n",
    "\n",
    "    # layer 3 (output layer), now with bias\n",
    "    f3_o = tf.matmul(f4_o, weights_3) + bias_3\n",
    "    # activation function of layer 3 (output layer)\n",
    "    # skip the last layer's sigmoid f2_o = tf.nn.sigmoid(f3_o) \n",
    "\n",
    "    # error function, here MSE\n",
    "    f1_o = tf.reduce_mean(0.5 * (f3_o - target)**2,axis=None) # mean squared error\n",
    "\n",
    "    return (f1_o, f3_o, f4_o, f5_o, f6_o, f7_o, inputs)"
   ]
  },
  {
   "cell_type": "code",
   "execution_count": 18,
   "id": "fb360018",
   "metadata": {},
   "outputs": [],
   "source": [
    "@tf.function(jit_compile=True) # for speed\n",
    "def compute_gradients(weights, data_from_forward, target, batch_size):\n",
    "    \n",
    "    # unpack weights and data from the forward-step\n",
    "    (weights_1, weights_2, weights_3, bias_1, bias_2, bias_3) = weights\n",
    "    (f1_o, f3_o, f4_o, f5_o, f6_o, f7_o, inputs) = data_from_forward\n",
    "    \n",
    "    # Gradients of MSE (d L/ d f2)\n",
    "    grad_f1_o = (f3_o - target)\n",
    "    \n",
    "    # we skipped the output layer's sigmoid\n",
    "\n",
    "    # chain with derivative of matrix multiplication of layer 3\n",
    "    # d L / d f4\n",
    "    grad_f3_o = grad_f1_o @ tf.transpose(weights_3)\n",
    "    \n",
    "    # compute gradients w.r.t the last layer's weights (weights_3)\n",
    "    # (d L / d weights_3)\n",
    "    grad_w3 = (tf.transpose(f4_o) @ grad_f1_o) / batch_size\n",
    "    \n",
    "    # (d L / d bias_3)\n",
    "    grad_b3 = tf.reduce_sum(grad_f1_o,axis=0) / batch_size\n",
    "\n",
    "    # chain with derivative of activation function (layer 3)\n",
    "    # d L / d f5\n",
    "    grad_f4_o = grad_f3_o * (tf.nn.sigmoid(f5_o)*(1-tf.nn.sigmoid(f5_o)))\n",
    "\n",
    "    # chain with derivative of matrix multiplication of layer 2\n",
    "    # d L / d f6\n",
    "    grad_f5_o = grad_f4_o @ tf.transpose(weights_2)\n",
    "\n",
    "    # compute gradients w.r.t. layer 2's weight matrix\n",
    "    # d L / d weights_2\n",
    "    grad_w2 = (tf.transpose(f6_o) @ grad_f4_o) / batch_size\n",
    "    \n",
    "    # (d L / d bias_2)\n",
    "    grad_b2 = tf.reduce_sum(grad_f4_o,axis=0) / batch_size\n",
    "\n",
    "    # chain with layer 2's sigmoid activation function\n",
    "    # d L / d f7\n",
    "    grad_f6_o = grad_f5_o * (tf.nn.sigmoid(f7_o)*(1-tf.nn.sigmoid(f7_o)))\n",
    "\n",
    "    # compute gradients w.r.t. the input\n",
    "    # d L / d inputs\n",
    "    grad_inputs = grad_f6_o @ tf.transpose(weights_1)\n",
    "\n",
    "    # compute gradients w.r.t. layer 1's weights\n",
    "    # d L / d weights_1\n",
    "    grad_w1 = (tf.transpose(inputs) @ grad_f6_o) / batch_size\n",
    "    \n",
    "    # (d L / d bias_1)\n",
    "    grad_b1 = tf.reduce_sum(grad_f6_o,axis=0) / batch_size\n",
    "\n",
    "    return (grad_w1, grad_w2, grad_w3, grad_b1, grad_b2, grad_b3)"
   ]
  },
  {
   "cell_type": "code",
   "execution_count": 19,
   "id": "c977ed40",
   "metadata": {},
   "outputs": [],
   "source": [
    "def update_weights(weights, weight_gradients, learning_rate=1e-2):\n",
    "    for w, w_grad in zip(weights, weight_gradients):\n",
    "        w = w.assign(w - learning_rate*w_grad)\n",
    "    return weights"
   ]
  },
  {
   "cell_type": "code",
   "execution_count": 20,
   "id": "51cde2a5",
   "metadata": {},
   "outputs": [],
   "source": [
    "def minimize_loss(weights, batch_size, steps, \n",
    "                  learning_rate):\n",
    "    # random subset of data\n",
    "    losses = []\n",
    "    for i in range(steps):\n",
    "        \n",
    "        # create training data on the fly\n",
    "        inputs = np.random.uniform(low=0.0, high=10,size=batch_size).astype(np.float32)\n",
    "        inputs = inputs.reshape(batch_size, 1)\n",
    "        target = np.sin(inputs)*0.5 + 0.5\n",
    "\n",
    "        # turn numpy arrays into tensorflow tensors\n",
    "        random_inputs = tf.constant(inputs)\n",
    "        random_target = tf.constant(target)\n",
    "        \n",
    "        data_from_forward = compute_forward_pass(random_inputs, \n",
    "                                                 random_target, \n",
    "                                                 weights)\n",
    "        # report loss every 100 epochs\n",
    "        losses.append(data_from_forward[0])\n",
    "        if not i%8000: \n",
    "            print(f\"loss is {np.mean(losses)}\")\n",
    "            losses = []\n",
    "\n",
    "        grads = compute_gradients(weights, data_from_forward, \n",
    "                                  random_target, \n",
    "                                  batch_size=batch_size)\n",
    "\n",
    "        weights = update_weights(weights,grads,learning_rate=learning_rate)\n",
    "        \n",
    "    return weights"
   ]
  },
  {
   "cell_type": "code",
   "execution_count": 21,
   "id": "8a610eb1",
   "metadata": {
    "scrolled": false
   },
   "outputs": [
    {
     "name": "stderr",
     "output_type": "stream",
     "text": [
      "2022-11-02 15:12:52.839318: I tensorflow/compiler/xla/service/service.cc:173] XLA service 0x555790ddc5f0 initialized for platform Host (this does not guarantee that XLA will be used). Devices:\n",
      "2022-11-02 15:12:52.839357: I tensorflow/compiler/xla/service/service.cc:181]   StreamExecutor device (0): Host, Default Version\n",
      "2022-11-02 15:12:52.869156: I tensorflow/compiler/mlir/tensorflow/utils/dump_mlir_util.cc:268] disabling MLIR crash reproducer, set env var `MLIR_CRASH_REPRODUCER_DIRECTORY` to enable.\n",
      "2022-11-02 15:12:53.050489: I tensorflow/compiler/jit/xla_compilation_cache.cc:476] Compiled cluster using XLA!  This line is logged at most once for the lifetime of the process.\n"
     ]
    },
    {
     "name": "stdout",
     "output_type": "stream",
     "text": [
      "loss is 1.367553472518921\n",
      "loss is 0.05443808063864708\n",
      "loss is 0.050000909715890884\n",
      "loss is 0.04771801084280014\n",
      "loss is 0.04488663375377655\n"
     ]
    },
    {
     "ename": "KeyboardInterrupt",
     "evalue": "",
     "output_type": "error",
     "traceback": [
      "\u001b[0;31m---------------------------------------------------------------------------\u001b[0m",
      "\u001b[0;31mKeyboardInterrupt\u001b[0m                         Traceback (most recent call last)",
      "\u001b[0;32m/tmp/ipykernel_130/4099368996.py\u001b[0m in \u001b[0;36m<module>\u001b[0;34m\u001b[0m\n\u001b[0;32m----> 1\u001b[0;31m trained_weights = minimize_loss(weights=weights,\n\u001b[0m\u001b[1;32m      2\u001b[0m                       \u001b[0mbatch_size\u001b[0m\u001b[0;34m=\u001b[0m\u001b[0;36m128\u001b[0m\u001b[0;34m,\u001b[0m \u001b[0msteps\u001b[0m\u001b[0;34m=\u001b[0m\u001b[0;36m300000\u001b[0m\u001b[0;34m,\u001b[0m\u001b[0;34m\u001b[0m\u001b[0;34m\u001b[0m\u001b[0m\n\u001b[1;32m      3\u001b[0m                       learning_rate=0.01)\n",
      "\u001b[0;32m/tmp/ipykernel_130/1778138110.py\u001b[0m in \u001b[0;36mminimize_loss\u001b[0;34m(weights, batch_size, steps, learning_rate)\u001b[0m\n\u001b[1;32m     23\u001b[0m             \u001b[0mlosses\u001b[0m \u001b[0;34m=\u001b[0m \u001b[0;34m[\u001b[0m\u001b[0;34m]\u001b[0m\u001b[0;34m\u001b[0m\u001b[0;34m\u001b[0m\u001b[0m\n\u001b[1;32m     24\u001b[0m \u001b[0;34m\u001b[0m\u001b[0m\n\u001b[0;32m---> 25\u001b[0;31m         grads = compute_gradients(weights, data_from_forward, \n\u001b[0m\u001b[1;32m     26\u001b[0m                                   \u001b[0mrandom_target\u001b[0m\u001b[0;34m,\u001b[0m\u001b[0;34m\u001b[0m\u001b[0;34m\u001b[0m\u001b[0m\n\u001b[1;32m     27\u001b[0m                                   batch_size=batch_size)\n",
      "\u001b[0;32m~/anaconda3/envs/uni/lib/python3.9/site-packages/tensorflow/python/util/traceback_utils.py\u001b[0m in \u001b[0;36merror_handler\u001b[0;34m(*args, **kwargs)\u001b[0m\n\u001b[1;32m    148\u001b[0m     \u001b[0mfiltered_tb\u001b[0m \u001b[0;34m=\u001b[0m \u001b[0;32mNone\u001b[0m\u001b[0;34m\u001b[0m\u001b[0;34m\u001b[0m\u001b[0m\n\u001b[1;32m    149\u001b[0m     \u001b[0;32mtry\u001b[0m\u001b[0;34m:\u001b[0m\u001b[0;34m\u001b[0m\u001b[0;34m\u001b[0m\u001b[0m\n\u001b[0;32m--> 150\u001b[0;31m       \u001b[0;32mreturn\u001b[0m \u001b[0mfn\u001b[0m\u001b[0;34m(\u001b[0m\u001b[0;34m*\u001b[0m\u001b[0margs\u001b[0m\u001b[0;34m,\u001b[0m \u001b[0;34m**\u001b[0m\u001b[0mkwargs\u001b[0m\u001b[0;34m)\u001b[0m\u001b[0;34m\u001b[0m\u001b[0;34m\u001b[0m\u001b[0m\n\u001b[0m\u001b[1;32m    151\u001b[0m     \u001b[0;32mexcept\u001b[0m \u001b[0mException\u001b[0m \u001b[0;32mas\u001b[0m \u001b[0me\u001b[0m\u001b[0;34m:\u001b[0m\u001b[0;34m\u001b[0m\u001b[0;34m\u001b[0m\u001b[0m\n\u001b[1;32m    152\u001b[0m       \u001b[0mfiltered_tb\u001b[0m \u001b[0;34m=\u001b[0m \u001b[0m_process_traceback_frames\u001b[0m\u001b[0;34m(\u001b[0m\u001b[0me\u001b[0m\u001b[0;34m.\u001b[0m\u001b[0m__traceback__\u001b[0m\u001b[0;34m)\u001b[0m\u001b[0;34m\u001b[0m\u001b[0;34m\u001b[0m\u001b[0m\n",
      "\u001b[0;32m~/anaconda3/envs/uni/lib/python3.9/site-packages/tensorflow/python/eager/def_function.py\u001b[0m in \u001b[0;36m__call__\u001b[0;34m(self, *args, **kwds)\u001b[0m\n\u001b[1;32m    913\u001b[0m \u001b[0;34m\u001b[0m\u001b[0m\n\u001b[1;32m    914\u001b[0m       \u001b[0;32mwith\u001b[0m \u001b[0mOptionalXlaContext\u001b[0m\u001b[0;34m(\u001b[0m\u001b[0mself\u001b[0m\u001b[0;34m.\u001b[0m\u001b[0m_jit_compile\u001b[0m\u001b[0;34m)\u001b[0m\u001b[0;34m:\u001b[0m\u001b[0;34m\u001b[0m\u001b[0;34m\u001b[0m\u001b[0m\n\u001b[0;32m--> 915\u001b[0;31m         \u001b[0mresult\u001b[0m \u001b[0;34m=\u001b[0m \u001b[0mself\u001b[0m\u001b[0;34m.\u001b[0m\u001b[0m_call\u001b[0m\u001b[0;34m(\u001b[0m\u001b[0;34m*\u001b[0m\u001b[0margs\u001b[0m\u001b[0;34m,\u001b[0m \u001b[0;34m**\u001b[0m\u001b[0mkwds\u001b[0m\u001b[0;34m)\u001b[0m\u001b[0;34m\u001b[0m\u001b[0;34m\u001b[0m\u001b[0m\n\u001b[0m\u001b[1;32m    916\u001b[0m \u001b[0;34m\u001b[0m\u001b[0m\n\u001b[1;32m    917\u001b[0m       \u001b[0mnew_tracing_count\u001b[0m \u001b[0;34m=\u001b[0m \u001b[0mself\u001b[0m\u001b[0;34m.\u001b[0m\u001b[0mexperimental_get_tracing_count\u001b[0m\u001b[0;34m(\u001b[0m\u001b[0;34m)\u001b[0m\u001b[0;34m\u001b[0m\u001b[0;34m\u001b[0m\u001b[0m\n",
      "\u001b[0;32m~/anaconda3/envs/uni/lib/python3.9/site-packages/tensorflow/python/eager/def_function.py\u001b[0m in \u001b[0;36m_call\u001b[0;34m(self, *args, **kwds)\u001b[0m\n\u001b[1;32m    952\u001b[0m       \u001b[0;31m# In this case we have not created variables on the first call. So we can\u001b[0m\u001b[0;34m\u001b[0m\u001b[0;34m\u001b[0m\u001b[0m\n\u001b[1;32m    953\u001b[0m       \u001b[0;31m# run the first trace but we should fail if variables are created.\u001b[0m\u001b[0;34m\u001b[0m\u001b[0;34m\u001b[0m\u001b[0m\n\u001b[0;32m--> 954\u001b[0;31m       \u001b[0mresults\u001b[0m \u001b[0;34m=\u001b[0m \u001b[0mself\u001b[0m\u001b[0;34m.\u001b[0m\u001b[0m_stateful_fn\u001b[0m\u001b[0;34m(\u001b[0m\u001b[0;34m*\u001b[0m\u001b[0margs\u001b[0m\u001b[0;34m,\u001b[0m \u001b[0;34m**\u001b[0m\u001b[0mkwds\u001b[0m\u001b[0;34m)\u001b[0m\u001b[0;34m\u001b[0m\u001b[0;34m\u001b[0m\u001b[0m\n\u001b[0m\u001b[1;32m    955\u001b[0m       \u001b[0;32mif\u001b[0m \u001b[0mself\u001b[0m\u001b[0;34m.\u001b[0m\u001b[0m_created_variables\u001b[0m \u001b[0;32mand\u001b[0m \u001b[0;32mnot\u001b[0m \u001b[0mALLOW_DYNAMIC_VARIABLE_CREATION\u001b[0m\u001b[0;34m:\u001b[0m\u001b[0;34m\u001b[0m\u001b[0;34m\u001b[0m\u001b[0m\n\u001b[1;32m    956\u001b[0m         raise ValueError(\"Creating variables on a non-first call to a function\"\n",
      "\u001b[0;32m~/anaconda3/envs/uni/lib/python3.9/site-packages/tensorflow/python/eager/function.py\u001b[0m in \u001b[0;36m__call__\u001b[0;34m(self, *args, **kwargs)\u001b[0m\n\u001b[1;32m   2493\u001b[0m     \u001b[0;32mwith\u001b[0m \u001b[0mself\u001b[0m\u001b[0;34m.\u001b[0m\u001b[0m_lock\u001b[0m\u001b[0;34m:\u001b[0m\u001b[0;34m\u001b[0m\u001b[0;34m\u001b[0m\u001b[0m\n\u001b[1;32m   2494\u001b[0m       (graph_function,\n\u001b[0;32m-> 2495\u001b[0;31m        filtered_flat_args) = self._maybe_define_function(args, kwargs)\n\u001b[0m\u001b[1;32m   2496\u001b[0m     return graph_function._call_flat(\n\u001b[1;32m   2497\u001b[0m         filtered_flat_args, captured_inputs=graph_function.captured_inputs)  # pylint: disable=protected-access\n",
      "\u001b[0;32m~/anaconda3/envs/uni/lib/python3.9/site-packages/tensorflow/python/eager/function.py\u001b[0m in \u001b[0;36m_maybe_define_function\u001b[0;34m(self, args, kwargs)\u001b[0m\n\u001b[1;32m   2723\u001b[0m     \u001b[0;31m# only active captures should be saved.\u001b[0m\u001b[0;34m\u001b[0m\u001b[0;34m\u001b[0m\u001b[0m\n\u001b[1;32m   2724\u001b[0m     \u001b[0;32mif\u001b[0m \u001b[0mself\u001b[0m\u001b[0;34m.\u001b[0m\u001b[0minput_signature\u001b[0m \u001b[0;32mis\u001b[0m \u001b[0;32mNone\u001b[0m\u001b[0;34m:\u001b[0m\u001b[0;34m\u001b[0m\u001b[0;34m\u001b[0m\u001b[0m\n\u001b[0;32m-> 2725\u001b[0;31m       func_cache_key, _ = function_context.make_cache_key(\n\u001b[0m\u001b[1;32m   2726\u001b[0m           (args, kwargs), captures)\n\u001b[1;32m   2727\u001b[0m     \u001b[0;32melse\u001b[0m\u001b[0;34m:\u001b[0m\u001b[0;34m\u001b[0m\u001b[0;34m\u001b[0m\u001b[0m\n",
      "\u001b[0;32m~/anaconda3/envs/uni/lib/python3.9/site-packages/tensorflow/python/eager/function_context.py\u001b[0m in \u001b[0;36mmake_cache_key\u001b[0;34m(args, captures)\u001b[0m\n\u001b[1;32m    129\u001b[0m     \u001b[0mcaptures\u001b[0m \u001b[0;34m=\u001b[0m \u001b[0mdict\u001b[0m\u001b[0;34m(\u001b[0m\u001b[0;34m)\u001b[0m\u001b[0;34m\u001b[0m\u001b[0;34m\u001b[0m\u001b[0m\n\u001b[1;32m    130\u001b[0m   \u001b[0msignature_context\u001b[0m \u001b[0;34m=\u001b[0m \u001b[0mtrace_type\u001b[0m\u001b[0;34m.\u001b[0m\u001b[0mInternalTracingContext\u001b[0m\u001b[0;34m(\u001b[0m\u001b[0;34m)\u001b[0m\u001b[0;34m\u001b[0m\u001b[0;34m\u001b[0m\u001b[0m\n\u001b[0;32m--> 131\u001b[0;31m   args_signature = trace_type.from_object(\n\u001b[0m\u001b[1;32m    132\u001b[0m       args, signature_context)\n\u001b[1;32m    133\u001b[0m   captures_dict_tracetype = trace_type.from_object(\n",
      "\u001b[0;32m~/anaconda3/envs/uni/lib/python3.9/site-packages/tensorflow/core/function/trace_type/trace_type_builder.py\u001b[0m in \u001b[0;36mfrom_object\u001b[0;34m(obj, context)\u001b[0m\n\u001b[1;32m    109\u001b[0m           named_tuple_type, tuple(from_object(c, context) for c in obj))\n\u001b[1;32m    110\u001b[0m     \u001b[0;32melse\u001b[0m\u001b[0;34m:\u001b[0m\u001b[0;34m\u001b[0m\u001b[0;34m\u001b[0m\u001b[0m\n\u001b[0;32m--> 111\u001b[0;31m       \u001b[0;32mreturn\u001b[0m \u001b[0mdefault_types\u001b[0m\u001b[0;34m.\u001b[0m\u001b[0mTuple\u001b[0m\u001b[0;34m(\u001b[0m\u001b[0;34m*\u001b[0m\u001b[0;34m(\u001b[0m\u001b[0mfrom_object\u001b[0m\u001b[0;34m(\u001b[0m\u001b[0mc\u001b[0m\u001b[0;34m,\u001b[0m \u001b[0mcontext\u001b[0m\u001b[0;34m)\u001b[0m \u001b[0;32mfor\u001b[0m \u001b[0mc\u001b[0m \u001b[0;32min\u001b[0m \u001b[0mobj\u001b[0m\u001b[0;34m)\u001b[0m\u001b[0;34m)\u001b[0m\u001b[0;34m\u001b[0m\u001b[0;34m\u001b[0m\u001b[0m\n\u001b[0m\u001b[1;32m    112\u001b[0m \u001b[0;34m\u001b[0m\u001b[0m\n\u001b[1;32m    113\u001b[0m   \u001b[0;32mif\u001b[0m \u001b[0misinstance\u001b[0m\u001b[0;34m(\u001b[0m\u001b[0mobj\u001b[0m\u001b[0;34m,\u001b[0m \u001b[0mcollections\u001b[0m\u001b[0;34m.\u001b[0m\u001b[0mabc\u001b[0m\u001b[0;34m.\u001b[0m\u001b[0mMapping\u001b[0m\u001b[0;34m)\u001b[0m\u001b[0;34m:\u001b[0m\u001b[0;34m\u001b[0m\u001b[0;34m\u001b[0m\u001b[0m\n",
      "\u001b[0;32m~/anaconda3/envs/uni/lib/python3.9/site-packages/tensorflow/core/function/trace_type/trace_type_builder.py\u001b[0m in \u001b[0;36m<genexpr>\u001b[0;34m(.0)\u001b[0m\n\u001b[1;32m    109\u001b[0m           named_tuple_type, tuple(from_object(c, context) for c in obj))\n\u001b[1;32m    110\u001b[0m     \u001b[0;32melse\u001b[0m\u001b[0;34m:\u001b[0m\u001b[0;34m\u001b[0m\u001b[0;34m\u001b[0m\u001b[0m\n\u001b[0;32m--> 111\u001b[0;31m       \u001b[0;32mreturn\u001b[0m \u001b[0mdefault_types\u001b[0m\u001b[0;34m.\u001b[0m\u001b[0mTuple\u001b[0m\u001b[0;34m(\u001b[0m\u001b[0;34m*\u001b[0m\u001b[0;34m(\u001b[0m\u001b[0mfrom_object\u001b[0m\u001b[0;34m(\u001b[0m\u001b[0mc\u001b[0m\u001b[0;34m,\u001b[0m \u001b[0mcontext\u001b[0m\u001b[0;34m)\u001b[0m \u001b[0;32mfor\u001b[0m \u001b[0mc\u001b[0m \u001b[0;32min\u001b[0m \u001b[0mobj\u001b[0m\u001b[0;34m)\u001b[0m\u001b[0;34m)\u001b[0m\u001b[0;34m\u001b[0m\u001b[0;34m\u001b[0m\u001b[0m\n\u001b[0m\u001b[1;32m    112\u001b[0m \u001b[0;34m\u001b[0m\u001b[0m\n\u001b[1;32m    113\u001b[0m   \u001b[0;32mif\u001b[0m \u001b[0misinstance\u001b[0m\u001b[0;34m(\u001b[0m\u001b[0mobj\u001b[0m\u001b[0;34m,\u001b[0m \u001b[0mcollections\u001b[0m\u001b[0;34m.\u001b[0m\u001b[0mabc\u001b[0m\u001b[0;34m.\u001b[0m\u001b[0mMapping\u001b[0m\u001b[0;34m)\u001b[0m\u001b[0;34m:\u001b[0m\u001b[0;34m\u001b[0m\u001b[0;34m\u001b[0m\u001b[0m\n",
      "\u001b[0;32m~/anaconda3/envs/uni/lib/python3.9/site-packages/tensorflow/core/function/trace_type/trace_type_builder.py\u001b[0m in \u001b[0;36mfrom_object\u001b[0;34m(obj, context)\u001b[0m\n\u001b[1;32m    109\u001b[0m           named_tuple_type, tuple(from_object(c, context) for c in obj))\n\u001b[1;32m    110\u001b[0m     \u001b[0;32melse\u001b[0m\u001b[0;34m:\u001b[0m\u001b[0;34m\u001b[0m\u001b[0;34m\u001b[0m\u001b[0m\n\u001b[0;32m--> 111\u001b[0;31m       \u001b[0;32mreturn\u001b[0m \u001b[0mdefault_types\u001b[0m\u001b[0;34m.\u001b[0m\u001b[0mTuple\u001b[0m\u001b[0;34m(\u001b[0m\u001b[0;34m*\u001b[0m\u001b[0;34m(\u001b[0m\u001b[0mfrom_object\u001b[0m\u001b[0;34m(\u001b[0m\u001b[0mc\u001b[0m\u001b[0;34m,\u001b[0m \u001b[0mcontext\u001b[0m\u001b[0;34m)\u001b[0m \u001b[0;32mfor\u001b[0m \u001b[0mc\u001b[0m \u001b[0;32min\u001b[0m \u001b[0mobj\u001b[0m\u001b[0;34m)\u001b[0m\u001b[0;34m)\u001b[0m\u001b[0;34m\u001b[0m\u001b[0;34m\u001b[0m\u001b[0m\n\u001b[0m\u001b[1;32m    112\u001b[0m \u001b[0;34m\u001b[0m\u001b[0m\n\u001b[1;32m    113\u001b[0m   \u001b[0;32mif\u001b[0m \u001b[0misinstance\u001b[0m\u001b[0;34m(\u001b[0m\u001b[0mobj\u001b[0m\u001b[0;34m,\u001b[0m \u001b[0mcollections\u001b[0m\u001b[0;34m.\u001b[0m\u001b[0mabc\u001b[0m\u001b[0;34m.\u001b[0m\u001b[0mMapping\u001b[0m\u001b[0;34m)\u001b[0m\u001b[0;34m:\u001b[0m\u001b[0;34m\u001b[0m\u001b[0;34m\u001b[0m\u001b[0m\n",
      "\u001b[0;32m~/anaconda3/envs/uni/lib/python3.9/site-packages/tensorflow/core/function/trace_type/trace_type_builder.py\u001b[0m in \u001b[0;36m<genexpr>\u001b[0;34m(.0)\u001b[0m\n\u001b[1;32m    109\u001b[0m           named_tuple_type, tuple(from_object(c, context) for c in obj))\n\u001b[1;32m    110\u001b[0m     \u001b[0;32melse\u001b[0m\u001b[0;34m:\u001b[0m\u001b[0;34m\u001b[0m\u001b[0;34m\u001b[0m\u001b[0m\n\u001b[0;32m--> 111\u001b[0;31m       \u001b[0;32mreturn\u001b[0m \u001b[0mdefault_types\u001b[0m\u001b[0;34m.\u001b[0m\u001b[0mTuple\u001b[0m\u001b[0;34m(\u001b[0m\u001b[0;34m*\u001b[0m\u001b[0;34m(\u001b[0m\u001b[0mfrom_object\u001b[0m\u001b[0;34m(\u001b[0m\u001b[0mc\u001b[0m\u001b[0;34m,\u001b[0m \u001b[0mcontext\u001b[0m\u001b[0;34m)\u001b[0m \u001b[0;32mfor\u001b[0m \u001b[0mc\u001b[0m \u001b[0;32min\u001b[0m \u001b[0mobj\u001b[0m\u001b[0;34m)\u001b[0m\u001b[0;34m)\u001b[0m\u001b[0;34m\u001b[0m\u001b[0;34m\u001b[0m\u001b[0m\n\u001b[0m\u001b[1;32m    112\u001b[0m \u001b[0;34m\u001b[0m\u001b[0m\n\u001b[1;32m    113\u001b[0m   \u001b[0;32mif\u001b[0m \u001b[0misinstance\u001b[0m\u001b[0;34m(\u001b[0m\u001b[0mobj\u001b[0m\u001b[0;34m,\u001b[0m \u001b[0mcollections\u001b[0m\u001b[0;34m.\u001b[0m\u001b[0mabc\u001b[0m\u001b[0;34m.\u001b[0m\u001b[0mMapping\u001b[0m\u001b[0;34m)\u001b[0m\u001b[0;34m:\u001b[0m\u001b[0;34m\u001b[0m\u001b[0;34m\u001b[0m\u001b[0m\n",
      "\u001b[0;32m~/anaconda3/envs/uni/lib/python3.9/site-packages/tensorflow/core/function/trace_type/trace_type_builder.py\u001b[0m in \u001b[0;36mfrom_object\u001b[0;34m(obj, context)\u001b[0m\n\u001b[1;32m     94\u001b[0m     \u001b[0mcontext\u001b[0m \u001b[0;34m=\u001b[0m \u001b[0mInternalTracingContext\u001b[0m\u001b[0;34m(\u001b[0m\u001b[0;34m)\u001b[0m\u001b[0;34m\u001b[0m\u001b[0;34m\u001b[0m\u001b[0m\n\u001b[1;32m     95\u001b[0m \u001b[0;34m\u001b[0m\u001b[0m\n\u001b[0;32m---> 96\u001b[0;31m   \u001b[0;32mif\u001b[0m \u001b[0misinstance\u001b[0m\u001b[0;34m(\u001b[0m\u001b[0mobj\u001b[0m\u001b[0;34m,\u001b[0m \u001b[0mtrace\u001b[0m\u001b[0;34m.\u001b[0m\u001b[0mSupportsTracingProtocol\u001b[0m\u001b[0;34m)\u001b[0m\u001b[0;34m:\u001b[0m\u001b[0;34m\u001b[0m\u001b[0;34m\u001b[0m\u001b[0m\n\u001b[0m\u001b[1;32m     97\u001b[0m     \u001b[0;32mreturn\u001b[0m \u001b[0mobj\u001b[0m\u001b[0;34m.\u001b[0m\u001b[0m__tf_tracing_type__\u001b[0m\u001b[0;34m(\u001b[0m\u001b[0mcontext\u001b[0m\u001b[0;34m)\u001b[0m\u001b[0;34m\u001b[0m\u001b[0;34m\u001b[0m\u001b[0m\n\u001b[1;32m     98\u001b[0m \u001b[0;34m\u001b[0m\u001b[0m\n",
      "\u001b[0;32m~/anaconda3/envs/uni/lib/python3.9/typing.py\u001b[0m in \u001b[0;36m__instancecheck__\u001b[0;34m(cls, instance)\u001b[0m\n\u001b[1;32m   1112\u001b[0m         \u001b[0;31m# assigned in __init__.\u001b[0m\u001b[0;34m\u001b[0m\u001b[0;34m\u001b[0m\u001b[0m\n\u001b[1;32m   1113\u001b[0m         if ((not getattr(cls, '_is_protocol', False) or\n\u001b[0;32m-> 1114\u001b[0;31m                 _is_callable_members_only(cls)) and\n\u001b[0m\u001b[1;32m   1115\u001b[0m                 issubclass(instance.__class__, cls)):\n\u001b[1;32m   1116\u001b[0m             \u001b[0;32mreturn\u001b[0m \u001b[0;32mTrue\u001b[0m\u001b[0;34m\u001b[0m\u001b[0;34m\u001b[0m\u001b[0m\n",
      "\u001b[0;32m~/anaconda3/envs/uni/lib/python3.9/typing.py\u001b[0m in \u001b[0;36m_is_callable_members_only\u001b[0;34m(cls)\u001b[0m\n\u001b[1;32m   1077\u001b[0m \u001b[0;32mdef\u001b[0m \u001b[0m_is_callable_members_only\u001b[0m\u001b[0;34m(\u001b[0m\u001b[0mcls\u001b[0m\u001b[0;34m)\u001b[0m\u001b[0;34m:\u001b[0m\u001b[0;34m\u001b[0m\u001b[0;34m\u001b[0m\u001b[0m\n\u001b[1;32m   1078\u001b[0m     \u001b[0;31m# PEP 544 prohibits using issubclass() with protocols that have non-method members.\u001b[0m\u001b[0;34m\u001b[0m\u001b[0;34m\u001b[0m\u001b[0m\n\u001b[0;32m-> 1079\u001b[0;31m     \u001b[0;32mreturn\u001b[0m \u001b[0mall\u001b[0m\u001b[0;34m(\u001b[0m\u001b[0mcallable\u001b[0m\u001b[0;34m(\u001b[0m\u001b[0mgetattr\u001b[0m\u001b[0;34m(\u001b[0m\u001b[0mcls\u001b[0m\u001b[0;34m,\u001b[0m \u001b[0mattr\u001b[0m\u001b[0;34m,\u001b[0m \u001b[0;32mNone\u001b[0m\u001b[0;34m)\u001b[0m\u001b[0;34m)\u001b[0m \u001b[0;32mfor\u001b[0m \u001b[0mattr\u001b[0m \u001b[0;32min\u001b[0m \u001b[0m_get_protocol_attrs\u001b[0m\u001b[0;34m(\u001b[0m\u001b[0mcls\u001b[0m\u001b[0;34m)\u001b[0m\u001b[0;34m)\u001b[0m\u001b[0;34m\u001b[0m\u001b[0;34m\u001b[0m\u001b[0m\n\u001b[0m\u001b[1;32m   1080\u001b[0m \u001b[0;34m\u001b[0m\u001b[0m\n\u001b[1;32m   1081\u001b[0m \u001b[0;34m\u001b[0m\u001b[0m\n",
      "\u001b[0;32m~/anaconda3/envs/uni/lib/python3.9/typing.py\u001b[0m in \u001b[0;36m_get_protocol_attrs\u001b[0;34m(cls)\u001b[0m\n\u001b[1;32m   1070\u001b[0m         \u001b[0mannotations\u001b[0m \u001b[0;34m=\u001b[0m \u001b[0mgetattr\u001b[0m\u001b[0;34m(\u001b[0m\u001b[0mbase\u001b[0m\u001b[0;34m,\u001b[0m \u001b[0;34m'__annotations__'\u001b[0m\u001b[0;34m,\u001b[0m \u001b[0;34m{\u001b[0m\u001b[0;34m}\u001b[0m\u001b[0;34m)\u001b[0m\u001b[0;34m\u001b[0m\u001b[0;34m\u001b[0m\u001b[0m\n\u001b[1;32m   1071\u001b[0m         \u001b[0;32mfor\u001b[0m \u001b[0mattr\u001b[0m \u001b[0;32min\u001b[0m \u001b[0mlist\u001b[0m\u001b[0;34m(\u001b[0m\u001b[0mbase\u001b[0m\u001b[0;34m.\u001b[0m\u001b[0m__dict__\u001b[0m\u001b[0;34m.\u001b[0m\u001b[0mkeys\u001b[0m\u001b[0;34m(\u001b[0m\u001b[0;34m)\u001b[0m\u001b[0;34m)\u001b[0m \u001b[0;34m+\u001b[0m \u001b[0mlist\u001b[0m\u001b[0;34m(\u001b[0m\u001b[0mannotations\u001b[0m\u001b[0;34m.\u001b[0m\u001b[0mkeys\u001b[0m\u001b[0;34m(\u001b[0m\u001b[0;34m)\u001b[0m\u001b[0;34m)\u001b[0m\u001b[0;34m:\u001b[0m\u001b[0;34m\u001b[0m\u001b[0;34m\u001b[0m\u001b[0m\n\u001b[0;32m-> 1072\u001b[0;31m             \u001b[0;32mif\u001b[0m \u001b[0;32mnot\u001b[0m \u001b[0mattr\u001b[0m\u001b[0;34m.\u001b[0m\u001b[0mstartswith\u001b[0m\u001b[0;34m(\u001b[0m\u001b[0;34m'_abc_'\u001b[0m\u001b[0;34m)\u001b[0m \u001b[0;32mand\u001b[0m \u001b[0mattr\u001b[0m \u001b[0;32mnot\u001b[0m \u001b[0;32min\u001b[0m \u001b[0mEXCLUDED_ATTRIBUTES\u001b[0m\u001b[0;34m:\u001b[0m\u001b[0;34m\u001b[0m\u001b[0;34m\u001b[0m\u001b[0m\n\u001b[0m\u001b[1;32m   1073\u001b[0m                 \u001b[0mattrs\u001b[0m\u001b[0;34m.\u001b[0m\u001b[0madd\u001b[0m\u001b[0;34m(\u001b[0m\u001b[0mattr\u001b[0m\u001b[0;34m)\u001b[0m\u001b[0;34m\u001b[0m\u001b[0;34m\u001b[0m\u001b[0m\n\u001b[1;32m   1074\u001b[0m     \u001b[0;32mreturn\u001b[0m \u001b[0mattrs\u001b[0m\u001b[0;34m\u001b[0m\u001b[0;34m\u001b[0m\u001b[0m\n",
      "\u001b[0;31mKeyboardInterrupt\u001b[0m: "
     ]
    }
   ],
   "source": [
    "trained_weights = minimize_loss(weights=weights,\n",
    "                      batch_size=128, steps=300000,\n",
    "                      learning_rate=0.01)"
   ]
  },
  {
   "cell_type": "code",
   "execution_count": 10,
   "id": "39dcf453",
   "metadata": {},
   "outputs": [],
   "source": [
    "# create test data\n",
    "x = np.linspace(0,10,1000).astype(np.float32)\n",
    "x = x.reshape(1000,1)\n",
    "y = np.sin(x)*0.5 + 0.5"
   ]
  },
  {
   "cell_type": "code",
   "execution_count": 23,
   "id": "5cd4a18b",
   "metadata": {},
   "outputs": [
    {
     "data": {
      "image/png": "[encoded data removed]",
      "text/plain": [
       "<Figure size 432x288 with 1 Axes>"
      ]
     },
     "metadata": {
      "needs_background": "light"
     },
     "output_type": "display_data"
    }
   ],
   "source": [
    "prediction = compute_forward_pass(x, y, weights)[1]\n",
    "plt.plot(x, prediction.numpy())\n",
    "plt.plot(x, y)\n",
    "plt.show()"
   ]
  }
 ],
 "metadata": {
  "kernelspec": {
   "display_name": "Python 3 (ipykernel)",
   "language": "python",
   "name": "python3"
  },
  "language_info": {
   "codemirror_mode": {
    "name": "ipython",
    "version": 3
   },
   "file_extension": ".py",
   "mimetype": "text/x-python",
   "name": "python",
   "nbconvert_exporter": "python",
   "pygments_lexer": "ipython3",
   "version": "3.9.7"
  }
 },
 "nbformat": 4,
 "nbformat_minor": 5
}
