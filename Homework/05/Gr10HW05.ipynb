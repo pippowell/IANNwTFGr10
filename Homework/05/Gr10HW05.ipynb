{
 "cells": [
  {
   "cell_type": "code",
   "execution_count": 9,
   "metadata": {},
   "outputs": [],
   "source": [
    "import tensorflow as tf\n",
    "import keras\n",
    "import numpy as np\n",
    "import matplotlib.pyplot as plt\n",
    "from tensorflow.keras.layers import Dense\n",
    "\n",
    "# loading data\n",
    "from keras.datasets import cifar10\n",
    "\n",
    "(x_train, label_train), (x_test, label_test) = cifar10.load_data()\n",
    "train_ds, test_ds = cifar10.load_data()"
   ]
  },
  {
   "cell_type": "code",
   "execution_count": 11,
   "metadata": {},
   "outputs": [
    {
     "name": "stdout",
     "output_type": "stream",
     "text": [
      "x_train.shape: (50000, 32, 32, 3)\n",
      "y_train.shape: (50000, 1)\n",
      "x_test.shape: (10000, 32, 32, 3)\n",
      "y_test.shape: (10000, 1)\n"
     ]
    }
   ],
   "source": [
    "# info on the dataset \n",
    "print(f\"x_train.shape: {x_train.shape}\") # (50000, 32, 32, 3) *3: color channels\n",
    "print(f\"y_train.shape: {label_train.shape}\") #(50000, 1)\n",
    "\n",
    "print(f\"x_test.shape: {x_test.shape}\") # (10000, 32, 32, 3)\n",
    "print(f\"y_test.shape: {label_test.shape}\") # (10000, 1)\n"
   ]
  },
  {
   "cell_type": "code",
   "execution_count": 4,
   "metadata": {},
   "outputs": [],
   "source": [
    "def preprocess(x_train, y_train, x_test, y_test): # or just preprocess(data)\n",
    "\n",
    "    #  from 1-256 to 0-1 #### Q.why not into -1 to 1?\n",
    "    x_train, x_test = x_train / 255.0, x_test / 255.0\n",
    "    \n",
    "    # flatten the label values\n",
    "    y_train, y_test = y_train.flatten(), y_test.flatten()\n",
    "\n",
    "    return x_train, y_train, x_test, y_test"
   ]
  },
  {
   "cell_type": "code",
   "execution_count": null,
   "metadata": {},
   "outputs": [],
   "source": [
    "def preprocess(dataset):\n",
    "\n",
    "    # convert data from uint8 to float32\n",
    "    dataset = dataset.map(lambda x: tf.cast(x, tf.float32))\n",
    "\n",
    "    # flatten the images into vectors\n",
    "    dataset = dataset.map(lambda x: tf.reshape(x, (-1,)))\n",
    "\n",
    "    # input normalization, just bringing image values from range [0, 255] to [-1, 1]\n",
    "    dataset = dataset.map(lambda img, target: ((img / 128.) - 1., target))"
   ]
  },
  {
   "cell_type": "code",
   "execution_count": 5,
   "metadata": {},
   "outputs": [
    {
     "name": "stdout",
     "output_type": "stream",
     "text": [
      "x_train.shape: (50000, 32, 32, 3)\n",
      "y_train.shape: (50000,)\n",
      "x_test.shape: (10000, 32, 32, 3)\n",
      "y_test.shape: (10000,)\n"
     ]
    }
   ],
   "source": [
    "x_train, y_train, x_test, y_test = preprocess(x_train, label_train, x_test, label_test)\n",
    "print(f\"x_train.shape: {x_train.shape}\") # (50000, 32, 32, 3) *3: color channels\n",
    "print(f\"y_train.shape: {label_train.shape}\") #(50000,)\n",
    "\n",
    "print(f\"x_test.shape: {x_test.shape}\") # (10000, 32, 32, 3)\n",
    "print(f\"y_test.shape: {label_test.shape}\") # (10000,)"
   ]
  },
  {
   "cell_type": "code",
   "execution_count": 8,
   "metadata": {},
   "outputs": [],
   "source": [
    "# straight from the lecture\n",
    "class BasicConv(tf.keras.Model):\n",
    "    def __init__(self):\n",
    "        super(BasicConv, self).__init__()\n",
    "\n",
    "        # input 32x32x3 with 3 as the color channels\n",
    "        self.convlayer1 = tf.keras.layers.Conv2D(filters=24, kernel_size=3, padding='same', activation='relu') # after this: 32x32x24\n",
    "        self.convlayer2 = tf.keras.layers.Conv2D(filters=24, kernel_size=3, padding='same', activation='relu') # 32x32x24\n",
    "        self.pooling = tf.keras.layers.MaxPooling2D(pool_size=2, strides=2) # 16x16x24\n",
    "\n",
    "        self.convlayer3 = tf.keras.layers.Conv2D(filters=48, kernel_size=3, padding='same', activation='relu') # 16x16x48\n",
    "        self.convlayer4 = tf.keras.layers.Conv2D(filters=48, kernel_size=3, padding='same', activation='relu') # 16x16x48\n",
    "        self.global_pool = tf.keras.layers.GlobalAvgPool2D() # 1x1x48\n",
    "\n",
    "        self.out = tf.keras.layers.Dense(10, activation='softmax')\n",
    "\n",
    "    def call(self, x):\n",
    "        x = self.convlayer1(x)\n",
    "        x = self.convlayer2(x)\n",
    "        x = self.pooling(x)\n",
    "        x = self.convlayer3(x)\n",
    "        x = self.convlayer4(x)\n",
    "        x = self.global_pool(x)\n",
    "        x = self.out(x)\n",
    "        return x"
   ]
  },
  {
   "cell_type": "code",
   "execution_count": null,
   "metadata": {},
   "outputs": [],
   "source": []
  }
 ],
 "metadata": {
  "kernelspec": {
   "display_name": "Python 3.10.8 64-bit (microsoft store)",
   "language": "python",
   "name": "python3"
  },
  "language_info": {
   "codemirror_mode": {
    "name": "ipython",
    "version": 3
   },
   "file_extension": ".py",
   "mimetype": "text/x-python",
   "name": "python",
   "nbconvert_exporter": "python",
   "pygments_lexer": "ipython3",
   "version": "3.10.8"
  },
  "orig_nbformat": 4,
  "vscode": {
   "interpreter": {
    "hash": "9045caf6303e7720903cf179822b02fa228c285a06d63d48b635a33538dcbdb3"
   }
  }
 },
 "nbformat": 4,
 "nbformat_minor": 2
}
