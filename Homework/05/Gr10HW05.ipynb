{
 "cells": [
  {
   "cell_type": "code",
   "execution_count": 4,
   "metadata": {},
   "outputs": [],
   "source": [
    "import tensorflow as tf\n",
    "import keras\n",
    "import numpy as np\n",
    "import matplotlib.pyplot as plt\n",
    "\n",
    "# loading data\n",
    "from keras.datasets import cifar10\n",
    "\n",
    "(x_train, y_train), (x_test, y_test) = cifar10.load_data()"
   ]
  },
  {
   "cell_type": "code",
   "execution_count": 12,
   "metadata": {},
   "outputs": [
    {
     "name": "stdout",
     "output_type": "stream",
     "text": [
      "x_train.shape: (50000, 32, 32, 3)\n",
      "y_train.shape: (50000, 1)\n",
      "x_test.shape: (10000, 32, 32, 3)\n",
      "y_test.shape: (10000, 1)\n"
     ]
    }
   ],
   "source": [
    "# info on the dataset \n",
    "print(f\"x_train.shape: {x_train.shape}\") # (50000, 32, 32, 3) *3: color channels\n",
    "print(f\"y_train.shape: {y_train.shape}\") #(50000, 1)\n",
    "\n",
    "print(f\"x_test.shape: {x_test.shape}\") # (10000, 32, 32, 3)\n",
    "print(f\"y_test.shape: {y_test.shape}\") # (10000, 1)\n"
   ]
  },
  {
   "cell_type": "code",
   "execution_count": null,
   "metadata": {},
   "outputs": [],
   "source": [
    "def preprocess(x_train, y_train, x_test, y_test):\n",
    "\n",
    "    #  from 1-256 to 0-1\n",
    "    x_train, x_test = x_train / 255.0, x_test / 255.0\n",
    "    \n",
    "    # flatten the label values\n",
    "    y_train, y_test = y_train.flatten(), y_test.flatten()\n",
    "\n",
    "    return x_train, y_train, x_test, y_test"
   ]
  }
 ],
 "metadata": {
  "kernelspec": {
   "display_name": "Python 3.10.8 64-bit (microsoft store)",
   "language": "python",
   "name": "python3"
  },
  "language_info": {
   "codemirror_mode": {
    "name": "ipython",
    "version": 3
   },
   "file_extension": ".py",
   "mimetype": "text/x-python",
   "name": "python",
   "nbconvert_exporter": "python",
   "pygments_lexer": "ipython3",
   "version": "3.10.8"
  },
  "orig_nbformat": 4,
  "vscode": {
   "interpreter": {
    "hash": "9045caf6303e7720903cf179822b02fa228c285a06d63d48b635a33538dcbdb3"
   }
  }
 },
 "nbformat": 4,
 "nbformat_minor": 2
}
