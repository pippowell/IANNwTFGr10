{
 "cells": [
  {
   "cell_type": "code",
   "execution_count": null,
   "metadata": {
    "collapsed": true
   },
   "outputs": [],
   "source": [
    "# plotting\n",
    "fig, (ax0, ax1, ax2, ax3, ax4, ax5) = plt.subplots(6, 1, figsize=(8, 10))\n",
    "\n",
    "ax0.set_title(\"original\")\n",
    "ax0.plot(original.history[\"total_frobenius_norm\"]/np.max(original.history[\"total_frobenius_norm\"]) * np.max(original.history[\"val_loss\"]))\n",
    "ax0.plot(original.history[\"val_loss\"])\n",
    "ax0.plot(original.history[\"loss\"])\n",
    "ax0.legend(labels=[\"Total Frobenius Norm\", \"Validation Loss\", \"Loss\"])\n",
    "# ax0.savefig(\"convnet_original\")\n",
    "# ax0.show()\n",
    "\n",
    "ax1.set_title(\"L1\")\n",
    "ax1.plot(lassoReg.history[\"total_frobenius_norm\"]/np.max(lassoReg.history[\"total_frobenius_norm\"]) * np.max(lassoReg.history[\"val_loss\"]))\n",
    "ax1.plot(lassoReg.history[\"val_loss\"])\n",
    "ax1.plot(lassoReg.history[\"loss\"])\n",
    "# ax1.legend(labels=[\"Total Frobenius Norm\", \"Validation Loss\", \"Loss\"])\n",
    "# ax1.savefig(\"convnet_L1\")\n",
    "# ax1.show()\n",
    "\n",
    "ax2.set_title(\"L2\")\n",
    "ax2.plot(ridgeReg.history[\"total_frobenius_norm\"]/np.max(ridgeReg.history[\"total_frobenius_norm\"]) * np.max(ridgeReg.history[\"val_loss\"]))\n",
    "ax2.plot(ridgeReg.history[\"val_loss\"])\n",
    "ax2.plot(ridgeReg.history[\"loss\"])\n",
    "# ax2.legend(labels=[\"Total Frobenius Norm\", \"Validation Loss\", \"Loss\"])\n",
    "# ax2.savefig(\"convnet_L2\")\n",
    "# ax2.show()\n",
    "\n",
    "ax3.set_title(\"L2\")\n",
    "ax3.plot(augment.history[\"total_frobenius_norm\"]/np.max(augment.history[\"total_frobenius_norm\"]) * np.max(augment.history[\"val_loss\"]))\n",
    "ax3.plot(augment.history[\"val_loss\"])\n",
    "ax3.plot(augment.history[\"loss\"])\n",
    "# ax3.legend(labels=[\"Total Frobenius Norm\", \"Validation Loss\", \"Loss\"])\n",
    "# ax3.savefig(\"convnet_augment\")\n",
    "# ax3.show()\n",
    "\n",
    "ax4.set_title(\"Dropout\")\n",
    "ax4.plot(dropout.history[\"total_frobenius_norm\"]/np.max(dropout.history[\"total_frobenius_norm\"]) * np.max(dropout.history[\"val_loss\"]))\n",
    "ax4.plot(dropout.history[\"val_loss\"])\n",
    "ax4.plot(dropout.history[\"loss\"])\n",
    "# ax4.legend(labels=[\"Total Frobenius Norm\", \"Validation Loss\", \"Loss\"])\n",
    "# ax4.savefig(\"convnet_dropout\")\n",
    "# ax4.show()\n",
    "\n",
    "ax5.set_title(\"Batch Norm\")\n",
    "ax5.plot(batchnorm.history[\"total_frobenius_norm\"]/np.max(batchnorm.history[\"total_frobenius_norm\"]) * np.max(batchnorm.history[\"val_loss\"]))\n",
    "ax5.plot(batchnorm.history[\"val_loss\"])\n",
    "ax5.plot(batchnorm.history[\"loss\"])\n",
    "# ax5.legend(labels=[\"Total Frobenius Norm\", \"Validation Loss\", \"Loss\"])\n",
    "# ax5.savefig(\"convnet_batchnorm\")\n",
    "# ax5.show()\n",
    "\n",
    "ax5.set_xlabel(\"Epochs\")\n",
    "# ax5.set_ylabel(\"Loss\")\n",
    "\n",
    "plt.legend()\n",
    "fig.savefig(\"5 optimization methods comparison (e=15)\")\n",
    "\n",
    "fig.tight_layout(pad=0.1)\n",
    "plt.show()"
   ]
  }
 ],
 "metadata": {
  "kernelspec": {
   "display_name": "Python 3",
   "language": "python",
   "name": "python3"
  },
  "language_info": {
   "codemirror_mode": {
    "name": "ipython",
    "version": 2
   },
   "file_extension": ".py",
   "mimetype": "text/x-python",
   "name": "python",
   "nbconvert_exporter": "python",
   "pygments_lexer": "ipython2",
   "version": "2.7.6"
  }
 },
 "nbformat": 4,
 "nbformat_minor": 0
}