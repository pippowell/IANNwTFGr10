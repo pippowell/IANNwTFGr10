{
 "cells": [
  {
   "attachments": {},
   "cell_type": "markdown",
   "metadata": {
    "collapsed": false
   },
   "source": [
    " # Homework 5 - opti 0 (original), 1 (L1), 2 (L2), 3 (data augmentation), 4 (dropout), 5 (batchnorm)\n",
    " ## Group 10"
   ]
  },
  {
   "cell_type": "markdown",
   "metadata": {
    "collapsed": false
   },
   "source": [
    "## Assignment 1 - Reviews\n",
    "\n",
    "We review the homeworks for groups 15 and 32."
   ]
  },
  {
   "cell_type": "markdown",
   "metadata": {
    "collapsed": false
   },
   "source": [
    "## Assignment 2 - CIFAR-10 Classification"
   ]
  },
  {
   "cell_type": "code",
   "execution_count": 1,
   "metadata": {},
   "outputs": [
    {
     "name": "stderr",
     "output_type": "stream",
     "text": [
      "C:\\Users\\prizl\\AppData\\Local\\Packages\\PythonSoftwareFoundation.Python.3.10_qbz5n2kfra8p0\\LocalCache\\local-packages\\Python310\\site-packages\\tqdm\\auto.py:22: TqdmWarning: IProgress not found. Please update jupyter and ipywidgets. See https://ipywidgets.readthedocs.io/en/stable/user_install.html\n",
      "  from .autonotebook import tqdm as notebook_tqdm\n"
     ]
    }
   ],
   "source": [
    "# the necessary imports\n",
    "\n",
    "import numpy as np\n",
    "import tensorflow as tf\n",
    "import tensorflow_datasets as tfds\n",
    "import matplotlib.pyplot as plt\n",
    "import datetime as datetime\n",
    "import tqdm\n",
    "import keras_cv # install keras_cv with pip for data augmentation"
   ]
  },
  {
   "cell_type": "markdown",
   "metadata": {
    "collapsed": false,
    "pycharm": {
     "name": "#%% md\n"
    }
   },
   "source": [
    "### 2.1 Prepare the Dataset"
   ]
  },
  {
   "cell_type": "code",
   "execution_count": 2,
   "metadata": {},
   "outputs": [],
   "source": [
    "def preprocess(dataset):\n",
    "\n",
    "    # convert data from uint8 to float32\n",
    "    dataset = dataset.map(lambda img, target: (tf.cast(img, tf.float32), target))\n",
    "\n",
    "    # flatten the images into vectors - we don't do this step for CNN, CNN layers expect standard image format input\n",
    "    # dataset = dataset.map(lambda img, target: (tf.reshape(img, (-1,)), target))\n",
    "\n",
    "    # input normalization, just bringing image values from range [0, 255] to [-1, 1]\n",
    "    dataset = dataset.map(lambda img, target: ((img / 128.) - 1., target))\n",
    "\n",
    "    # create one-hot targets with depth 10 since cifar 10 has 10 classes\n",
    "    dataset = dataset.map(lambda img, target: (img, tf.one_hot(target, depth=10)))\n",
    "\n",
    "    # cache\n",
    "    dataset = dataset.cache()\n",
    "\n",
    "    # shuffle, batch, prefetch\n",
    "    dataset = dataset.shuffle(1000)\n",
    "    dataset = dataset.batch(32)\n",
    "    dataset = dataset.prefetch(tf.data.AUTOTUNE) \n",
    "\n",
    "    # return preprocessed dataset\n",
    "    return dataset"
   ]
  },
  {
   "cell_type": "code",
   "execution_count": 3,
   "metadata": {},
   "outputs": [],
   "source": [
    "def preprocess_aug(dataset, augmentation):\n",
    "\n",
    "    # convert data from uint8 to float32\n",
    "    dataset = dataset.map(lambda img, target: (tf.cast(img, tf.float32), target))\n",
    "\n",
    "    # flatten the images into vectors - we don't do this step for CNN, CNN layers expect standard image format input\n",
    "    # dataset = dataset.map(lambda img, target: (tf.reshape(img, (-1,)), target))\n",
    "\n",
    "    # input normalization, just bringing image values from range [0, 255] to [-1, 1]\n",
    "    dataset = dataset.map(lambda img, target: ((img / 128.) - 1., target))\n",
    "\n",
    "    # create one-hot targets with depth 10 since cifar 10 has 10 classes\n",
    "    dataset = dataset.map(lambda img, target: (img, tf.one_hot(target, depth=10)))\n",
    "\n",
    "    # cache\n",
    "    dataset = dataset.cache()\n",
    "\n",
    "    # shuffle, batch, prefetch\n",
    "    dataset = dataset.shuffle(1000)\n",
    "    dataset = dataset.batch(32)\n",
    "    dataset = dataset.prefetch(tf.data.AUTOTUNE) \n",
    "\n",
    "    if augmentation:\n",
    "        dataset = dataset.map(lambda x,y : (augmentation_model(x), y),num_parallel_calls=tf.data.AUTOTUNE)\n",
    "\n",
    "    # return preprocessed dataset\n",
    "    return dataset"
   ]
  },
  {
   "cell_type": "code",
   "execution_count": 4,
   "metadata": {},
   "outputs": [],
   "source": [
    "(train_ds, test_ds), ds_info = tfds.load ('cifar10', split =['train', 'test'], as_supervised = True, with_info = True)\n",
    "\n",
    "# print(\"ds_info: \\n\", ds_info)\n",
    "\n",
    "# visualize a sample of the dataset\n",
    "# tfds.show_examples(train_ds, ds_info)"
   ]
  },
  {
   "cell_type": "code",
   "execution_count": 5,
   "metadata": {},
   "outputs": [],
   "source": [
    "train_dataset = preprocess(train_ds)\n",
    "test_dataset = preprocess(test_ds)"
   ]
  },
  {
   "cell_type": "code",
   "execution_count": 6,
   "metadata": {},
   "outputs": [],
   "source": [
    "class ConvModel(tf.keras.Model):\n",
    "    def __init__(self, L1_reg=0, L2_reg=0, dropout_rate=0, batch_norm=False):\n",
    "        super().__init__()\n",
    "        \n",
    "        if L2_reg >= 0: # L2 is the default\n",
    "            kernel_regularizer=tf.keras.regularizers.L2(L2_reg)\n",
    "        elif L1_reg > 0:\n",
    "            kernel_regularizer=tf.keras.regularizers.L2(L1_reg)\n",
    "        else:\n",
    "            None\n",
    "\n",
    "        self.dropout_rate = dropout_rate\n",
    "        if self.dropout_rate:\n",
    "            self.dropout_layer = tf.keras.layers.Dropout(dropout_rate)\n",
    "            \n",
    "        self.layer_list = [tf.keras.layers.Conv2D(32, 3, activation=\"relu\", kernel_regularizer=kernel_regularizer), \n",
    "            tf.keras.layers.Conv2D(32, 3,activation=\"relu\", kernel_regularizer=kernel_regularizer),\n",
    "            tf.keras.layers.Conv2D(32, 3, activation=\"relu\", kernel_regularizer=kernel_regularizer),\n",
    "            tf.keras.layers.Conv2D(32, 3, activation=\"relu\", kernel_regularizer=kernel_regularizer),\n",
    "            tf.keras.layers.Flatten(),\n",
    "            tf.keras.layers.Dense(10, activation=\"softmax\", kernel_regularizer=kernel_regularizer)]\n",
    "        if batch_norm:\n",
    "            \n",
    "                self.layer_list = [tf.keras.layers.Conv2D(32, 3, activation=\"relu\", kernel_regularizer=kernel_regularizer), \n",
    "                                   tf.keras.layers.BatchNormalization(),\n",
    "                                    tf.keras.layers.Conv2D(32, 3,activation=\"relu\", kernel_regularizer=kernel_regularizer),\n",
    "                                   tf.keras.layers.BatchNormalization(),\n",
    "                                    tf.keras.layers.Conv2D(32, 3, activation=\"relu\", kernel_regularizer=kernel_regularizer),\n",
    "                                   tf.keras.layers.BatchNormalization(),\n",
    "                                    tf.keras.layers.Conv2D(32, 3, activation=\"relu\", kernel_regularizer=kernel_regularizer),\n",
    "                                   tf.keras.layers.BatchNormalization(),\n",
    "                                    tf.keras.layers.Flatten(),\n",
    "                                   #tf.keras.layers.BatchNormalization(),\n",
    "                                    tf.keras.layers.Dense(10, activation=\"softmax\", kernel_regularizer=kernel_regularizer)]\n",
    "        # metrics to update\n",
    "        self.frobenius_metric = tf.keras.metrics.Mean(name=\"total_frobenius_norm\")\n",
    "        self.loss_metric = tf.keras.metrics.Mean(name=\"loss\")\n",
    "        self.accuracy_metric = tf.keras.metrics.CategoricalAccuracy(name=\"accuracy\")\n",
    "        \n",
    "    def call(self, x, training=False):\n",
    "        for layer in self.layer_list[:-1]:\n",
    "            x = layer(x)\n",
    "            if self.dropout_rate:\n",
    "                x = self.dropout_layer(x, training)\n",
    "        \n",
    "        return self.layer_list[-1](x)\n",
    "    \n",
    "    def reset_metrics(self):\n",
    "        for metric in self.metrics:\n",
    "            metric.reset_states()\n",
    "            \n",
    "    def compute_frobenius(self):\n",
    "        frobenius_norm = tf.zeros((1,))\n",
    "        for var in self.trainable_variables:\n",
    "            frobenius_norm += tf.norm(var, ord=\"euclidean\")\n",
    "        return frobenius_norm\n",
    "    \n",
    "    @tf.function\n",
    "    def train_step(self, data):\n",
    "        x, target = data\n",
    "        with tf.GradientTape() as tape:\n",
    "            prediction = self(x, training=True)\n",
    "            loss = self.compiled_loss(target, prediction, regularization_losses=self.losses)\n",
    "        gradients = tape.gradient(loss, self.trainable_variables)\n",
    "        self.optimizer.apply_gradients(zip(gradients, self.trainable_variables))\n",
    "        \n",
    "        self.frobenius_metric.update_state(self.compute_frobenius())\n",
    "        self.loss_metric.update_state(loss)\n",
    "        self.accuracy_metric.update_state(target, prediction)\n",
    "        \n",
    "        return {metric.name: metric.result() for metric in self.metrics}\n",
    "    \n",
    "    @tf.function\n",
    "    def test_step(self, data):\n",
    "        x, target = data\n",
    "        prediction = self(x, training=False)\n",
    "        loss = self.compiled_loss(target, prediction, regularization_losses=self.losses)\n",
    "        \n",
    "        self.frobenius_metric.update_state(self.compute_frobenius())\n",
    "        self.loss_metric.update_state(loss)\n",
    "        self.accuracy_metric.update_state(target, prediction)\n",
    "        \n",
    "        return {metric.name: metric.result() for metric in self.metrics}"
   ]
  },
  {
   "attachments": {},
   "cell_type": "markdown",
   "metadata": {},
   "source": [
    "## 0. Training the model without any extra regularization (original)"
   ]
  },
  {
   "cell_type": "code",
   "execution_count": 7,
   "metadata": {},
   "outputs": [
    {
     "name": "stdout",
     "output_type": "stream",
     "text": [
      "Epoch 1/2\n",
      "1563/1563 [==============================] - 140s 89ms/step - loss: 1.3621 - total_frobenius_norm: 34.8234 - accuracy: 0.5137 - val_loss: 1.1264 - val_total_frobenius_norm: 42.6865 - val_accuracy: 0.6043\n",
      "Epoch 2/2\n",
      "1563/1563 [==============================] - 115s 73ms/step - loss: 1.0077 - total_frobenius_norm: 49.2290 - accuracy: 0.6481 - val_loss: 1.0284 - val_total_frobenius_norm: 55.1386 - val_accuracy: 0.6452\n"
     ]
    }
   ],
   "source": [
    "model = ConvModel()\n",
    "model.compile(loss=tf.keras.losses.CategoricalCrossentropy(), optimizer=\"adam\")\n",
    "original = model.fit(train_dataset, validation_data=test_dataset, epochs=2)#15)"
   ]
  },
  {
   "attachments": {},
   "cell_type": "markdown",
   "metadata": {},
   "source": [
    "## 1. Training the same model with L1 regularization (lassoReg)"
   ]
  },
  {
   "cell_type": "code",
   "execution_count": 14,
   "metadata": {},
   "outputs": [
    {
     "name": "stdout",
     "output_type": "stream",
     "text": [
      "Epoch 1/2\n",
      "1563/1563 [==============================] - 124s 79ms/step - loss: 1.3489 - total_frobenius_norm: 35.4982 - accuracy: 0.5188 - val_loss: 1.1334 - val_total_frobenius_norm: 43.2012 - val_accuracy: 0.6030\n",
      "Epoch 2/2\n",
      "1563/1563 [==============================] - 118s 75ms/step - loss: 0.9906 - total_frobenius_norm: 49.0221 - accuracy: 0.6567 - val_loss: 1.0151 - val_total_frobenius_norm: 54.7717 - val_accuracy: 0.6509\n"
     ]
    }
   ],
   "source": [
    "model = ConvModel(L1_reg=0.001)\n",
    "model.compile(loss=tf.keras.losses.CategoricalCrossentropy(), optimizer=\"adam\")\n",
    "lassoReg = model.fit(train_dataset, validation_data=test_dataset, epochs=2)#15)"
   ]
  },
  {
   "attachments": {},
   "cell_type": "markdown",
   "metadata": {},
   "source": [
    "## 2. Training the same model with L2 regularization (ridgeReg)"
   ]
  },
  {
   "cell_type": "code",
   "execution_count": 10,
   "metadata": {},
   "outputs": [
    {
     "name": "stdout",
     "output_type": "stream",
     "text": [
      "Epoch 1/2\n",
      "1563/1563 [==============================] - 128s 81ms/step - loss: 1.5507 - total_frobenius_norm: 23.5415 - accuracy: 0.4860 - val_loss: 1.3662 - val_total_frobenius_norm: 25.0185 - val_accuracy: 0.5614\n",
      "Epoch 2/2\n",
      "1563/1563 [==============================] - 126s 81ms/step - loss: 1.2830 - total_frobenius_norm: 26.1253 - accuracy: 0.6047 - val_loss: 1.2223 - val_total_frobenius_norm: 26.9654 - val_accuracy: 0.6345\n"
     ]
    }
   ],
   "source": [
    "model = ConvModel(L2_reg=0.001)\n",
    "model.compile(loss=tf.keras.losses.CategoricalCrossentropy(), optimizer=\"adam\")\n",
    "ridgeReg = model.fit(train_dataset, validation_data=test_dataset, epochs=2)#15)"
   ]
  },
  {
   "attachments": {},
   "cell_type": "markdown",
   "metadata": {},
   "source": [
    "## 3. Training the same model with only data augmentation --> not done (aug)"
   ]
  },
  {
   "cell_type": "code",
   "execution_count": 11,
   "metadata": {},
   "outputs": [
    {
     "name": "stdout",
     "output_type": "stream",
     "text": [
      "Epoch 1/2\n",
      "1563/1563 [==============================] - 124s 79ms/step - loss: 1.3634 - total_frobenius_norm: 35.2591 - accuracy: 0.5101 - val_loss: 1.0977 - val_total_frobenius_norm: 42.9847 - val_accuracy: 0.6137\n",
      "Epoch 2/2\n",
      "1563/1563 [==============================] - 125s 80ms/step - loss: 0.9821 - total_frobenius_norm: 49.6185 - accuracy: 0.6548 - val_loss: 0.9822 - val_total_frobenius_norm: 55.3919 - val_accuracy: 0.6650\n"
     ]
    }
   ],
   "source": [
    "augmentation_model = tf.keras.Sequential([keras_cv.layers.RandAugment(value_range=[0,1],magnitude=0.1)])\n",
    "\n",
    "# new training dataset for data augmentation since we defined two different preprocess methods: one with, the other without augmentation\n",
    "train_dataset_aug = preprocess_aug(train_ds, augmentation=augmentation_model)\n",
    "\n",
    "model = ConvModel()\n",
    "model.compile(loss=tf.keras.losses.CategoricalCrossentropy(), optimizer=\"adam\")\n",
    "augment = model.fit(train_dataset, validation_data=test_dataset, epochs=2)#15"
   ]
  },
  {
   "attachments": {},
   "cell_type": "markdown",
   "metadata": {},
   "source": [
    "## 4. Training the same model with only dropout between layers (dropout)"
   ]
  },
  {
   "cell_type": "code",
   "execution_count": 17,
   "metadata": {},
   "outputs": [
    {
     "name": "stdout",
     "output_type": "stream",
     "text": [
      "Epoch 1/2\n",
      "313/313 [==============================] - 34s 105ms/step - loss: 2.0416 - total_frobenius_norm: 27.2918 - accuracy: 0.2503 - val_loss: 1.7120 - val_total_frobenius_norm: 29.8477 - val_accuracy: 0.3945\n",
      "Epoch 2/2\n",
      "313/313 [==============================] - 33s 105ms/step - loss: 1.6420 - total_frobenius_norm: 31.9657 - accuracy: 0.3989 - val_loss: 1.4341 - val_total_frobenius_norm: 33.6283 - val_accuracy: 0.4883\n"
     ]
    }
   ],
   "source": [
    "model = ConvModel(dropout_rate=0.5)\n",
    "model.compile(loss=tf.keras.losses.CategoricalCrossentropy(), optimizer=\"adam\")\n",
    "dropout = model.fit(test_dataset, validation_data=test_dataset, epochs=2)#15"
   ]
  },
  {
   "attachments": {},
   "cell_type": "markdown",
   "metadata": {},
   "source": [
    "## 5. Training the same model with only batch normalization (batchnorm)"
   ]
  },
  {
   "cell_type": "code",
   "execution_count": 18,
   "metadata": {},
   "outputs": [
    {
     "name": "stdout",
     "output_type": "stream",
     "text": [
      "Epoch 1/2\n",
      "313/313 [==============================] - 31s 96ms/step - loss: 3.1536 - total_frobenius_norm: 48.4922 - accuracy: 0.3341 - val_loss: 3.2137 - val_total_frobenius_norm: 49.6516 - val_accuracy: 0.2369\n",
      "Epoch 2/2\n",
      "313/313 [==============================] - 34s 109ms/step - loss: 1.6511 - total_frobenius_norm: 50.4756 - accuracy: 0.5524 - val_loss: 0.8844 - val_total_frobenius_norm: 51.3398 - val_accuracy: 0.7113\n"
     ]
    }
   ],
   "source": [
    "model = ConvModel(batch_norm=True)\n",
    "model.compile(loss=tf.keras.losses.CategoricalCrossentropy(), optimizer=\"adam\")\n",
    "batchnorm = model.fit(test_dataset, validation_data=test_dataset, epochs=2)#15"
   ]
  },
  {
   "cell_type": "code",
   "execution_count": 20,
   "metadata": {},
   "outputs": [
    {
     "name": "stderr",
     "output_type": "stream",
     "text": [
      "WARNING:matplotlib.legend:No artists with labels found to put in legend.  Note that artists whose label start with an underscore are ignored when legend() is called with no argument.\n"
     ]
    },
    {
     "data": {
      "image/png": "[encoded data removed]",
      "text/plain": [
       "<Figure size 576x720 with 6 Axes>"
      ]
     },
     "metadata": {
      "needs_background": "light"
     },
     "output_type": "display_data"
    }
   ],
   "source": [
    "# plotting\n",
    "fig, (ax0, ax1, ax2, ax3, ax4, ax5) = plt.subplots(6, 1, figsize=(8, 10))\n",
    "\n",
    "ax0.set_title(\"original\")\n",
    "ax0.plot(original.history[\"total_frobenius_norm\"]/np.max(original.history[\"total_frobenius_norm\"]) * np.max(original.history[\"val_loss\"]))\n",
    "ax0.plot(original.history[\"val_loss\"])\n",
    "ax0.plot(original.history[\"loss\"])\n",
    "ax0.legend(labels=[\"Total Frobenius Norm\", \"Validation Loss\", \"Loss\"])\n",
    "# ax0.savefig(\"convnet_original\")\n",
    "# ax0.show()\n",
    "\n",
    "ax1.set_title(\"L1\")\n",
    "ax1.plot(lassoReg.history[\"total_frobenius_norm\"]/np.max(lassoReg.history[\"total_frobenius_norm\"]) * np.max(lassoReg.history[\"val_loss\"]))\n",
    "ax1.plot(lassoReg.history[\"val_loss\"])\n",
    "ax1.plot(lassoReg.history[\"loss\"])\n",
    "ax1.legend(labels=[\"Total Frobenius Norm\", \"Validation Loss\", \"Loss\"])\n",
    "# ax1.savefig(\"convnet_L1\")\n",
    "# ax1.show()\n",
    "\n",
    "ax2.set_title(\"L2\")\n",
    "ax2.plot(ridgeReg.history[\"total_frobenius_norm\"]/np.max(ridgeReg.history[\"total_frobenius_norm\"]) * np.max(ridgeReg.history[\"val_loss\"]))\n",
    "ax2.plot(ridgeReg.history[\"val_loss\"])\n",
    "ax2.plot(ridgeReg.history[\"loss\"])\n",
    "ax2.legend(labels=[\"Total Frobenius Norm\", \"Validation Loss\", \"Loss\"])\n",
    "# ax2.savefig(\"convnet_L2\")\n",
    "# ax2.show()\n",
    "\n",
    "ax3.set_title(\"L2\")\n",
    "ax3.plot(augment.history[\"total_frobenius_norm\"]/np.max(augment.history[\"total_frobenius_norm\"]) * np.max(augment.history[\"val_loss\"]))\n",
    "ax3.plot(augment.history[\"val_loss\"])\n",
    "ax3.plot(augment.history[\"loss\"])\n",
    "ax3.legend(labels=[\"Total Frobenius Norm\", \"Validation Loss\", \"Loss\"])\n",
    "# ax3.savefig(\"convnet_augment\")\n",
    "# ax3.show()\n",
    "\n",
    "ax4.set_title(\"Dropout\")\n",
    "ax4.plot(dropout.history[\"total_frobenius_norm\"]/np.max(dropout.history[\"total_frobenius_norm\"]) * np.max(dropout.history[\"val_loss\"]))\n",
    "ax4.plot(dropout.history[\"val_loss\"])\n",
    "ax4.plot(dropout.history[\"loss\"])\n",
    "ax4.legend(labels=[\"Total Frobenius Norm\", \"Validation Loss\", \"Loss\"])\n",
    "# ax4.savefig(\"convnet_dropout\")\n",
    "# ax4.show()\n",
    "\n",
    "ax5.set_title(\"Batch Norm\")\n",
    "ax5.plot(batchnorm.history[\"total_frobenius_norm\"]/np.max(batchnorm.history[\"total_frobenius_norm\"]) * np.max(batchnorm.history[\"val_loss\"]))\n",
    "ax5.plot(batchnorm.history[\"val_loss\"])\n",
    "ax5.plot(batchnorm.history[\"loss\"])\n",
    "ax5.legend(labels=[\"Total Frobenius Norm\", \"Validation Loss\", \"Loss\"])\n",
    "# ax5.savefig(\"convnet_batchnorm\")\n",
    "# ax5.show()\n",
    "\n",
    "ax5.set_xlabel(\"Epochs\")\n",
    "# ax5.set_ylabel(\"Loss\")\n",
    "\n",
    "plt.legend()\n",
    "fig.savefig(\"5 optimization methods comparison\")\n",
    "\n",
    "fig.tight_layout(pad=0.1)\n",
    "plt.show()"
   ]
  },
  {
   "attachments": {},
   "cell_type": "markdown",
   "metadata": {},
   "source": [
    "revised until here (9.12 Wooki)"
   ]
  },
  {
   "cell_type": "code",
   "execution_count": null,
   "metadata": {
    "collapsed": false,
    "pycharm": {
     "name": "#%%\n"
    }
   },
   "outputs": [],
   "source": [
    "# Initiate the logs and metrics\n",
    "config_name= \"config_name\"\n",
    "current_time = datetime.datetime.now().strftime(\"%Y%m%d-%H%M%S\")\n",
    "\n",
    "train_log_path = f\"logs/{config_name}/{current_time}/train\"\n",
    "val_log_path = f\"logs/{config_name}/{current_time}/val\"\n",
    "\n",
    "# log writer for training metrics\n",
    "train_summary_writer = tf.summary.create_file_writer(train_log_path)\n",
    "\n",
    "# log writer for validation metrics\n",
    "val_summary_writer = tf.summary.create_file_writer(val_log_path)\n",
    "\n",
    "# Initiate epochs and learning rate as global variables\n",
    "epochs = 15\n",
    "learning_rate = 0.05\n",
    "\n",
    "# Define arrays for saving values for later visualization\n",
    "train_losses = []\n",
    "train_accuracies = []\n",
    "val_losses = []\n",
    "val_accuracies = []"
   ]
  },
  {
   "cell_type": "markdown",
   "metadata": {
    "collapsed": false
   },
   "source": [
    "### 2.3 Training"
   ]
  },
  {
   "cell_type": "code",
   "execution_count": null,
   "metadata": {
    "collapsed": false,
    "pycharm": {
     "name": "#%%\n"
    }
   },
   "outputs": [],
   "source": [
    "# define the training loop\n",
    "\n",
    "def training():\n",
    "\n",
    "    # Select the model to use - the original or the modified one for optimization\n",
    "    # network = BasicConv()\n",
    "    network = ConvModel()\n",
    "\n",
    "    # Train the model\n",
    "    for epoch in range(epochs):\n",
    "        print(f\"Epoch: {epoch}, optimizer: {network.optimizer}\")\n",
    "\n",
    "        for data in tqdm.tqdm(train_dataset, position=0, leave=True):\n",
    "            metrics = network.train_step(data)\n",
    "\n",
    "            with train_summary_writer.as_default():\n",
    "                for metric in network.metrics:\n",
    "                    tf.summary.scalar(f\"{metric.name}\", metric.result(), step=epoch)\n",
    "\n",
    "        # print the end acc and loss\n",
    "        print([f\"train_{key}: {value.numpy()}\" for (key, value) in metrics.items()])\n",
    "\n",
    "        # make a list of losses and accuracies\n",
    "        for (key, value) in metrics.items():\n",
    "            if key == \"loss\":\n",
    "                train_losses.append(value.numpy())\n",
    "            elif key == \"acc\":\n",
    "                train_accuracies.append(value.numpy())\n",
    "\n",
    "        # reset metrics for next round\n",
    "        network.reset_metrics()\n",
    "\n",
    "        # Testing\n",
    "        for data in test_dataset:\n",
    "            metrics = network.test_step(data)\n",
    "\n",
    "            # log the accs and losses\n",
    "            with val_summary_writer.as_default():\n",
    "                for metric in network.metrics:\n",
    "                    tf.summary.scalar(f\"{metric.name}\", metric.result(), step = epoch)\n",
    "\n",
    "        # print the end acc and loss\n",
    "        print([f\"val_{key}: {value.numpy()}\" for (key, value) in metrics.items()])\n",
    "\n",
    "        # make a list of losses and accuracies\n",
    "        for (key, value) in metrics.items():\n",
    "            if key == \"loss\":\n",
    "                val_losses.append(value.numpy())\n",
    "            elif key == \"acc\":\n",
    "                val_accuracies.append(value.numpy())\n",
    "\n",
    "        # reset all metrics\n",
    "        network.reset_metrics()"
   ]
  },
  {
   "cell_type": "code",
   "execution_count": null,
   "metadata": {
    "collapsed": false,
    "pycharm": {
     "is_executing": true,
     "name": "#%%\n"
    }
   },
   "outputs": [],
   "source": [
    "# prepare the tensorboard ahead of training\n",
    "\n",
    "%load_ext tensorboard\n",
    "%tensorboard --logdir logs/fit"
   ]
  },
  {
   "cell_type": "code",
   "execution_count": null,
   "metadata": {
    "collapsed": false,
    "pycharm": {
     "is_executing": true,
     "name": "#%%\n"
    }
   },
   "outputs": [],
   "source": [
    "training()"
   ]
  },
  {
   "cell_type": "markdown",
   "metadata": {
    "collapsed": false
   },
   "source": [
    "### 2.4 - Visualization"
   ]
  },
  {
   "cell_type": "code",
   "execution_count": null,
   "metadata": {
    "collapsed": false,
    "pycharm": {
     "is_executing": true,
     "name": "#%%\n"
    }
   },
   "outputs": [],
   "source": [
    "# visualize the results\n",
    "\n",
    "fig = plt.figure()\n",
    "line1, = plt.plot(train_losses)\n",
    "line2, = plt.plot(val_losses)\n",
    "line3, = plt.plot(train_accuracies)\n",
    "line4, = plt.plot(val_accuracies)\n",
    "plt.xlabel(\"Epochs\")\n",
    "plt.ylabel(\"Loss/Accuracy\")\n",
    "plt.legend((line1,line2,line3,line4),(\"Training Loss\",\"Test Loss\",\"Training Accuracy\",\"Test Accuracy\"))\n",
    "fig.savefig(\"CNN Performance CIFAR-10\")\n",
    "plt.show()"
   ]
  },
  {
   "attachments": {},
   "cell_type": "markdown",
   "metadata": {
    "collapsed": false,
    "pycharm": {
     "name": "#%% md\n"
    }
   },
   "source": [
    "## Report re Overfitting\n",
    "\n",
    "Our original model overfit the data, as evidenced by the plateau in validation (testing) performance versus training. This discrepancy indicates it began to use features in the training data which did not help it generalize when it saw the new data in the test batch.\n",
    "\n",
    "## Report re Optimization\n",
    "\n",
    "We attempted the following optimization techniques and report on our reasoning for them and the results we obtained with them below:\n",
    "\n",
    "0. original (no optimization applied)\n",
    "\n",
    "1. L2 Regularization\n",
    "\n",
    "2. Augmentation\n",
    "\n",
    "3. Dropout\n",
    "\n"
   ]
  }
 ],
 "metadata": {
  "kernelspec": {
   "display_name": "Python 3.10.8 64-bit (microsoft store)",
   "language": "python",
   "name": "python3"
  },
  "language_info": {
   "codemirror_mode": {
    "name": "ipython",
    "version": 3
   },
   "file_extension": ".py",
   "mimetype": "text/x-python",
   "name": "python",
   "nbconvert_exporter": "python",
   "pygments_lexer": "ipython3",
   "version": "3.10.9"
  },
  "orig_nbformat": 4,
  "vscode": {
   "interpreter": {
    "hash": "9045caf6303e7720903cf179822b02fa228c285a06d63d48b635a33538dcbdb3"
   }
  }
 },
 "nbformat": 4,
 "nbformat_minor": 2
}
