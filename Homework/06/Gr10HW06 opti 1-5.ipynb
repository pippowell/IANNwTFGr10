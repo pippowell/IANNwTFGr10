{
 "cells": [
  {
   "attachments": {},
   "cell_type": "markdown",
   "metadata": {
    "collapsed": false
   },
   "source": [
    " # Homework 5 - opti 0 (original), 1 (L1), 2 (L2), 3 (data augmentation), 4 (dropout), 5 (batchnorm)\n",
    " ## Group 10"
   ]
  },
  {
   "cell_type": "markdown",
   "metadata": {
    "collapsed": false
   },
   "source": [
    "## Assignment 1 - Reviews\n",
    "\n",
    "We review the homeworks for groups 15 and 32."
   ]
  },
  {
   "cell_type": "markdown",
   "metadata": {
    "collapsed": false
   },
   "source": [
    "## Assignment 2 - CIFAR-10 Classification"
   ]
  },
  {
   "cell_type": "code",
   "execution_count": 33,
   "metadata": {},
   "outputs": [],
   "source": [
    "# the necessary imports\n",
    "\n",
    "import numpy as np\n",
    "import tensorflow as tf\n",
    "import tensorflow_datasets as tfds\n",
    "import matplotlib.pyplot as plt\n",
    "import datetime as datetime\n",
    "import tqdm\n",
    "import keras_cv # install keras_cv with pip for data augmentation"
   ]
  },
  {
   "cell_type": "markdown",
   "metadata": {
    "collapsed": false,
    "pycharm": {
     "name": "#%% md\n"
    }
   },
   "source": [
    "### 2.1 Prepare the Dataset"
   ]
  },
  {
   "cell_type": "code",
   "execution_count": 34,
   "metadata": {},
   "outputs": [],
   "source": [
    "def preprocess(dataset):\n",
    "\n",
    "    # convert data from uint8 to float32\n",
    "    dataset = dataset.map(lambda img, target: (tf.cast(img, tf.float32), target))\n",
    "\n",
    "    # flatten the images into vectors - we don't do this step for CNN, CNN layers expect standard image format input\n",
    "    # dataset = dataset.map(lambda img, target: (tf.reshape(img, (-1,)), target))\n",
    "\n",
    "    # input normalization, just bringing image values from range [0, 255] to [-1, 1]\n",
    "    dataset = dataset.map(lambda img, target: ((img / 128.) - 1., target))\n",
    "\n",
    "    # create one-hot targets with depth 10 since cifar 10 has 10 classes\n",
    "    dataset = dataset.map(lambda img, target: (img, tf.one_hot(target, depth=10)))\n",
    "\n",
    "    # cache\n",
    "    dataset = dataset.cache()\n",
    "\n",
    "    # shuffle, batch, prefetch\n",
    "    dataset = dataset.shuffle(1000)\n",
    "    dataset = dataset.batch(32)\n",
    "    dataset = dataset.prefetch(tf.data.AUTOTUNE) \n",
    "\n",
    "    # return preprocessed dataset\n",
    "    return dataset"
   ]
  },
  {
   "cell_type": "code",
   "execution_count": 44,
   "metadata": {},
   "outputs": [],
   "source": [
    "def preprocess_aug(dataset, augmentation):\n",
    "\n",
    "    # convert data from uint8 to float32\n",
    "    dataset = dataset.map(lambda img, target: (tf.cast(img, tf.float32), target))\n",
    "\n",
    "    # flatten the images into vectors - we don't do this step for CNN, CNN layers expect standard image format input\n",
    "    # dataset = dataset.map(lambda img, target: (tf.reshape(img, (-1,)), target))\n",
    "\n",
    "    # input normalization, just bringing image values from range [0, 255] to [-1, 1]\n",
    "    dataset = dataset.map(lambda img, target: ((img / 128.) - 1., target))\n",
    "\n",
    "    # create one-hot targets with depth 10 since cifar 10 has 10 classes\n",
    "    dataset = dataset.map(lambda img, target: (img, tf.one_hot(target, depth=10)))\n",
    "\n",
    "    # cache\n",
    "    dataset = dataset.cache()\n",
    "\n",
    "    # shuffle, batch, prefetch\n",
    "    dataset = dataset.shuffle(1000)\n",
    "    dataset = dataset.batch(32)\n",
    "    dataset = dataset.prefetch(tf.data.AUTOTUNE) \n",
    "\n",
    "    if augmentation:\n",
    "        dataset = dataset.map(lambda x, y : (augmentation_model(x), y),num_parallel_calls=tf.data.AUTOTUNE)\n",
    "\n",
    "    # return preprocessed dataset\n",
    "    return dataset"
   ]
  },
  {
   "cell_type": "code",
   "execution_count": 35,
   "metadata": {},
   "outputs": [],
   "source": [
    "(train_ds, test_ds), ds_info = tfds.load ('cifar10', split =['train', 'test'], as_supervised = True, with_info = True)\n",
    "\n",
    "# print(\"ds_info: \\n\", ds_info)\n",
    "\n",
    "# visualize a sample of the dataset\n",
    "# tfds.show_examples(train_ds, ds_info)"
   ]
  },
  {
   "cell_type": "code",
   "execution_count": 36,
   "metadata": {},
   "outputs": [],
   "source": [
    "train_dataset = preprocess(train_ds)\n",
    "test_dataset = preprocess(test_ds)"
   ]
  },
  {
   "cell_type": "code",
   "execution_count": 37,
   "metadata": {},
   "outputs": [],
   "source": [
    "class ConvModel(tf.keras.Model):\n",
    "    def __init__(self, L1_reg=0, L2_reg=0, dropout_rate=0, batch_norm=False):\n",
    "        super().__init__()\n",
    "        \n",
    "        if L2_reg >= 0: # L2 is the default\n",
    "            kernel_regularizer=tf.keras.regularizers.L2(L2_reg)\n",
    "        elif L1_reg > 0:\n",
    "            kernel_regularizer=tf.keras.regularizers.L2(L1_reg)\n",
    "        else:\n",
    "            None\n",
    "\n",
    "        self.dropout_rate = dropout_rate\n",
    "        if self.dropout_rate:\n",
    "            self.dropout_layer = tf.keras.layers.Dropout(dropout_rate)\n",
    "            \n",
    "        self.layer_list = [tf.keras.layers.Conv2D(32, 3, activation=\"relu\", kernel_regularizer=kernel_regularizer), \n",
    "            tf.keras.layers.Conv2D(32, 3,activation=\"relu\", kernel_regularizer=kernel_regularizer),\n",
    "            tf.keras.layers.Conv2D(32, 3, activation=\"relu\", kernel_regularizer=kernel_regularizer),\n",
    "            tf.keras.layers.Conv2D(32, 3, activation=\"relu\", kernel_regularizer=kernel_regularizer),\n",
    "            tf.keras.layers.Flatten(),\n",
    "            tf.keras.layers.Dense(10, activation=\"softmax\", kernel_regularizer=kernel_regularizer)]\n",
    "        if batch_norm:\n",
    "            \n",
    "                self.layer_list = [tf.keras.layers.Conv2D(32, 3, activation=\"relu\", kernel_regularizer=kernel_regularizer), \n",
    "                                   tf.keras.layers.BatchNormalization(),\n",
    "                                    tf.keras.layers.Conv2D(32, 3,activation=\"relu\", kernel_regularizer=kernel_regularizer),\n",
    "                                   tf.keras.layers.BatchNormalization(),\n",
    "                                    tf.keras.layers.Conv2D(32, 3, activation=\"relu\", kernel_regularizer=kernel_regularizer),\n",
    "                                   tf.keras.layers.BatchNormalization(),\n",
    "                                    tf.keras.layers.Conv2D(32, 3, activation=\"relu\", kernel_regularizer=kernel_regularizer),\n",
    "                                   tf.keras.layers.BatchNormalization(),\n",
    "                                    tf.keras.layers.Flatten(),\n",
    "                                   #tf.keras.layers.BatchNormalization(),\n",
    "                                    tf.keras.layers.Dense(10, activation=\"softmax\", kernel_regularizer=kernel_regularizer)]\n",
    "        # metrics to update\n",
    "        self.frobenius_metric = tf.keras.metrics.Mean(name=\"total_frobenius_norm\")\n",
    "        self.loss_metric = tf.keras.metrics.Mean(name=\"loss\")\n",
    "        self.accuracy_metric = tf.keras.metrics.CategoricalAccuracy(name=\"accuracy\")\n",
    "        \n",
    "    def call(self, x, training=False):\n",
    "        for layer in self.layer_list[:-1]:\n",
    "            x = layer(x)\n",
    "            if self.dropout_rate:\n",
    "                x = self.dropout_layer(x, training)\n",
    "        \n",
    "        return self.layer_list[-1](x)\n",
    "    \n",
    "    def reset_metrics(self):\n",
    "        for metric in self.metrics:\n",
    "            metric.reset_states()\n",
    "            \n",
    "    def compute_frobenius(self):\n",
    "        frobenius_norm = tf.zeros((1,))\n",
    "        for var in self.trainable_variables:\n",
    "            frobenius_norm += tf.norm(var, ord=\"euclidean\")\n",
    "        return frobenius_norm\n",
    "    \n",
    "    @tf.function\n",
    "    def train_step(self, data):\n",
    "        x, target = data\n",
    "        with tf.GradientTape() as tape:\n",
    "            prediction = self(x, training=True)\n",
    "            loss = self.compiled_loss(target, prediction, regularization_losses=self.losses)\n",
    "        gradients = tape.gradient(loss, self.trainable_variables)\n",
    "        self.optimizer.apply_gradients(zip(gradients, self.trainable_variables))\n",
    "        \n",
    "        self.frobenius_metric.update_state(self.compute_frobenius())\n",
    "        self.loss_metric.update_state(loss)\n",
    "        self.accuracy_metric.update_state(target, prediction)\n",
    "        \n",
    "        return {metric.name: metric.result() for metric in self.metrics}\n",
    "    \n",
    "    @tf.function\n",
    "    def test_step(self, data):\n",
    "        x, target = data\n",
    "        prediction = self(x, training=False)\n",
    "        loss = self.compiled_loss(target, prediction, regularization_losses=self.losses)\n",
    "        \n",
    "        self.frobenius_metric.update_state(self.compute_frobenius())\n",
    "        self.loss_metric.update_state(loss)\n",
    "        self.accuracy_metric.update_state(target, prediction)\n",
    "        \n",
    "        return {metric.name: metric.result() for metric in self.metrics}"
   ]
  },
  {
   "attachments": {},
   "cell_type": "markdown",
   "metadata": {},
   "source": [
    "## 0. Training the model without any extra regularization (original)"
   ]
  },
  {
   "cell_type": "code",
   "execution_count": 38,
   "metadata": {},
   "outputs": [
    {
     "name": "stdout",
     "output_type": "stream",
     "text": [
      "Epoch 1/15\n",
      "1563/1563 [==============================] - 110s 70ms/step - loss: 1.3671 - total_frobenius_norm: 34.8880 - accuracy: 0.5121 - val_loss: 1.0874 - val_total_frobenius_norm: 42.9685 - val_accuracy: 0.6168\n",
      "Epoch 2/15\n",
      "1563/1563 [==============================] - 121s 77ms/step - loss: 0.9778 - total_frobenius_norm: 48.7646 - accuracy: 0.6608 - val_loss: 1.0008 - val_total_frobenius_norm: 54.4744 - val_accuracy: 0.6568\n",
      "Epoch 3/15\n",
      "1563/1563 [==============================] - 112s 72ms/step - loss: 0.8112 - total_frobenius_norm: 59.3986 - accuracy: 0.7188 - val_loss: 1.0356 - val_total_frobenius_norm: 64.7463 - val_accuracy: 0.6561\n",
      "Epoch 4/15\n",
      "1563/1563 [==============================] - 113s 73ms/step - loss: 0.6807 - total_frobenius_norm: 69.0654 - accuracy: 0.7641 - val_loss: 1.1290 - val_total_frobenius_norm: 73.5781 - val_accuracy: 0.6556\n",
      "Epoch 5/15\n",
      "1563/1563 [==============================] - 107s 68ms/step - loss: 0.5545 - total_frobenius_norm: 77.4751 - accuracy: 0.8091 - val_loss: 1.2875 - val_total_frobenius_norm: 81.3833 - val_accuracy: 0.6503\n",
      "Epoch 6/15\n",
      "1563/1563 [==============================] - 105s 67ms/step - loss: 0.4459 - total_frobenius_norm: 84.9216 - accuracy: 0.8439 - val_loss: 1.5197 - val_total_frobenius_norm: 88.4043 - val_accuracy: 0.6374\n",
      "Epoch 7/15\n",
      "1563/1563 [==============================] - 109s 70ms/step - loss: 0.3499 - total_frobenius_norm: 91.6105 - accuracy: 0.8763 - val_loss: 1.7746 - val_total_frobenius_norm: 94.7597 - val_accuracy: 0.6305\n",
      "Epoch 8/15\n",
      "1563/1563 [==============================] - 107s 68ms/step - loss: 0.2761 - total_frobenius_norm: 97.6853 - accuracy: 0.9008 - val_loss: 2.0445 - val_total_frobenius_norm: 100.4741 - val_accuracy: 0.6181\n",
      "Epoch 9/15\n",
      "1563/1563 [==============================] - 111s 71ms/step - loss: 0.2265 - total_frobenius_norm: 103.1075 - accuracy: 0.9197 - val_loss: 2.2607 - val_total_frobenius_norm: 105.5743 - val_accuracy: 0.6253\n",
      "Epoch 10/15\n",
      "1563/1563 [==============================] - 108s 69ms/step - loss: 0.1989 - total_frobenius_norm: 107.9213 - accuracy: 0.9286 - val_loss: 2.4784 - val_total_frobenius_norm: 110.1542 - val_accuracy: 0.6227\n",
      "Epoch 11/15\n",
      "1563/1563 [==============================] - 108s 69ms/step - loss: 0.1767 - total_frobenius_norm: 112.2913 - accuracy: 0.9368 - val_loss: 2.8100 - val_total_frobenius_norm: 114.2994 - val_accuracy: 0.6022\n",
      "Epoch 12/15\n",
      "1563/1563 [==============================] - 106s 68ms/step - loss: 0.1606 - total_frobenius_norm: 116.2817 - accuracy: 0.9433 - val_loss: 2.8195 - val_total_frobenius_norm: 118.1666 - val_accuracy: 0.6112\n",
      "Epoch 13/15\n",
      "1563/1563 [==============================] - 104s 67ms/step - loss: 0.1473 - total_frobenius_norm: 119.9649 - accuracy: 0.9467 - val_loss: 2.8302 - val_total_frobenius_norm: 121.8031 - val_accuracy: 0.6210\n",
      "Epoch 14/15\n",
      "1563/1563 [==============================] - 105s 67ms/step - loss: 0.1414 - total_frobenius_norm: 123.4359 - accuracy: 0.9507 - val_loss: 3.2480 - val_total_frobenius_norm: 125.0507 - val_accuracy: 0.6052\n",
      "Epoch 15/15\n",
      "1563/1563 [==============================] - 105s 67ms/step - loss: 0.1284 - total_frobenius_norm: 126.6531 - accuracy: 0.9540 - val_loss: 3.1704 - val_total_frobenius_norm: 128.2906 - val_accuracy: 0.6182\n"
     ]
    }
   ],
   "source": [
    "model = ConvModel()\n",
    "model.compile(loss=tf.keras.losses.CategoricalCrossentropy(), optimizer=\"adam\")\n",
    "original = model.fit(train_dataset, validation_data=test_dataset, epochs=15)"
   ]
  },
  {
   "attachments": {},
   "cell_type": "markdown",
   "metadata": {},
   "source": [
    "## 1. Training the same model with L1 regularization (lassoReg)"
   ]
  },
  {
   "cell_type": "code",
   "execution_count": 39,
   "metadata": {},
   "outputs": [
    {
     "name": "stdout",
     "output_type": "stream",
     "text": [
      "Epoch 1/15\n",
      "1563/1563 [==============================] - 102s 64ms/step - loss: 1.3683 - total_frobenius_norm: 35.0297 - accuracy: 0.5113 - val_loss: 1.1112 - val_total_frobenius_norm: 42.9417 - val_accuracy: 0.6086\n",
      "Epoch 2/15\n",
      "1563/1563 [==============================] - 99s 63ms/step - loss: 0.9905 - total_frobenius_norm: 48.4770 - accuracy: 0.6540 - val_loss: 0.9789 - val_total_frobenius_norm: 53.7930 - val_accuracy: 0.6617\n",
      "Epoch 3/15\n",
      "1563/1563 [==============================] - 99s 63ms/step - loss: 0.8245 - total_frobenius_norm: 58.7354 - accuracy: 0.7155 - val_loss: 0.9938 - val_total_frobenius_norm: 63.5422 - val_accuracy: 0.6724\n",
      "Epoch 4/15\n",
      "1563/1563 [==============================] - 102s 65ms/step - loss: 0.6836 - total_frobenius_norm: 67.9424 - accuracy: 0.7632 - val_loss: 1.1273 - val_total_frobenius_norm: 72.2695 - val_accuracy: 0.6492\n",
      "Epoch 5/15\n",
      "1563/1563 [==============================] - 101s 64ms/step - loss: 0.5614 - total_frobenius_norm: 76.2155 - accuracy: 0.8051 - val_loss: 1.1882 - val_total_frobenius_norm: 80.0736 - val_accuracy: 0.6590\n",
      "Epoch 6/15\n",
      "1563/1563 [==============================] - 101s 65ms/step - loss: 0.4416 - total_frobenius_norm: 83.6766 - accuracy: 0.8472 - val_loss: 1.3763 - val_total_frobenius_norm: 87.0918 - val_accuracy: 0.6551\n",
      "Epoch 7/15\n",
      "1563/1563 [==============================] - 111s 71ms/step - loss: 0.3469 - total_frobenius_norm: 90.3316 - accuracy: 0.8787 - val_loss: 1.5517 - val_total_frobenius_norm: 93.3237 - val_accuracy: 0.6450\n",
      "Epoch 8/15\n",
      "1563/1563 [==============================] - 110s 70ms/step - loss: 0.2710 - total_frobenius_norm: 96.2376 - accuracy: 0.9042 - val_loss: 1.8217 - val_total_frobenius_norm: 99.0015 - val_accuracy: 0.6437\n",
      "Epoch 9/15\n",
      "1563/1563 [==============================] - 108s 69ms/step - loss: 0.2265 - total_frobenius_norm: 101.5971 - accuracy: 0.9187 - val_loss: 2.0796 - val_total_frobenius_norm: 104.0747 - val_accuracy: 0.6355\n",
      "Epoch 10/15\n",
      "1563/1563 [==============================] - 100s 64ms/step - loss: 0.1912 - total_frobenius_norm: 106.4205 - accuracy: 0.9310 - val_loss: 2.3777 - val_total_frobenius_norm: 108.6313 - val_accuracy: 0.6303\n",
      "Epoch 11/15\n",
      "1563/1563 [==============================] - 109s 69ms/step - loss: 0.1729 - total_frobenius_norm: 110.7318 - accuracy: 0.9372 - val_loss: 2.4780 - val_total_frobenius_norm: 112.7280 - val_accuracy: 0.6254\n",
      "Epoch 12/15\n",
      "1563/1563 [==============================] - 104s 67ms/step - loss: 0.1560 - total_frobenius_norm: 114.7758 - accuracy: 0.9439 - val_loss: 2.6658 - val_total_frobenius_norm: 116.6979 - val_accuracy: 0.6259\n",
      "Epoch 13/15\n",
      "1563/1563 [==============================] - 105s 67ms/step - loss: 0.1486 - total_frobenius_norm: 118.5607 - accuracy: 0.9477 - val_loss: 2.8224 - val_total_frobenius_norm: 120.4066 - val_accuracy: 0.6166\n",
      "Epoch 14/15\n",
      "1563/1563 [==============================] - 104s 67ms/step - loss: 0.1428 - total_frobenius_norm: 122.0587 - accuracy: 0.9500 - val_loss: 2.8742 - val_total_frobenius_norm: 123.6996 - val_accuracy: 0.6229\n",
      "Epoch 15/15\n",
      "1563/1563 [==============================] - 105s 67ms/step - loss: 0.1297 - total_frobenius_norm: 125.2368 - accuracy: 0.9552 - val_loss: 3.0152 - val_total_frobenius_norm: 126.7682 - val_accuracy: 0.6205\n"
     ]
    }
   ],
   "source": [
    "model = ConvModel(L1_reg=0.001)\n",
    "model.compile(loss=tf.keras.losses.CategoricalCrossentropy(), optimizer=\"adam\")\n",
    "lassoReg = model.fit(train_dataset, validation_data=test_dataset, epochs=15)"
   ]
  },
  {
   "attachments": {},
   "cell_type": "markdown",
   "metadata": {},
   "source": [
    "## 2. Training the same model with L2 regularization (ridgeReg)"
   ]
  },
  {
   "cell_type": "code",
   "execution_count": 40,
   "metadata": {},
   "outputs": [
    {
     "name": "stdout",
     "output_type": "stream",
     "text": [
      "Epoch 1/15\n",
      "1563/1563 [==============================] - 108s 68ms/step - loss: 1.5424 - total_frobenius_norm: 23.0698 - accuracy: 0.4864 - val_loss: 1.2870 - val_total_frobenius_norm: 24.7383 - val_accuracy: 0.5880\n",
      "Epoch 2/15\n",
      "1563/1563 [==============================] - 104s 66ms/step - loss: 1.2521 - total_frobenius_norm: 25.9552 - accuracy: 0.6144 - val_loss: 1.1898 - val_total_frobenius_norm: 26.8271 - val_accuracy: 0.6455\n",
      "Epoch 3/15\n",
      "1563/1563 [==============================] - 106s 68ms/step - loss: 1.1566 - total_frobenius_norm: 27.5621 - accuracy: 0.6557 - val_loss: 1.1280 - val_total_frobenius_norm: 28.1940 - val_accuracy: 0.6628\n",
      "Epoch 4/15\n",
      "1563/1563 [==============================] - 142s 91ms/step - loss: 1.1053 - total_frobenius_norm: 28.6765 - accuracy: 0.6794 - val_loss: 1.1767 - val_total_frobenius_norm: 29.1249 - val_accuracy: 0.6461\n",
      "Epoch 5/15\n",
      "1563/1563 [==============================] - 133s 85ms/step - loss: 1.0801 - total_frobenius_norm: 29.6343 - accuracy: 0.6894 - val_loss: 1.1737 - val_total_frobenius_norm: 30.0663 - val_accuracy: 0.6662\n",
      "Epoch 6/15\n",
      "1563/1563 [==============================] - 131s 84ms/step - loss: 1.0616 - total_frobenius_norm: 30.5458 - accuracy: 0.6996 - val_loss: 1.1678 - val_total_frobenius_norm: 30.9491 - val_accuracy: 0.6554\n",
      "Epoch 7/15\n",
      "1563/1563 [==============================] - 136s 87ms/step - loss: 1.0464 - total_frobenius_norm: 31.4252 - accuracy: 0.7088 - val_loss: 1.2450 - val_total_frobenius_norm: 31.8529 - val_accuracy: 0.6554\n",
      "Epoch 8/15\n",
      "1563/1563 [==============================] - 118s 75ms/step - loss: 1.0322 - total_frobenius_norm: 32.2028 - accuracy: 0.7161 - val_loss: 1.1299 - val_total_frobenius_norm: 32.6319 - val_accuracy: 0.6873\n",
      "Epoch 9/15\n",
      "1563/1563 [==============================] - 118s 76ms/step - loss: 1.0234 - total_frobenius_norm: 33.0148 - accuracy: 0.7218 - val_loss: 1.1412 - val_total_frobenius_norm: 33.3965 - val_accuracy: 0.6878\n",
      "Epoch 10/15\n",
      "1563/1563 [==============================] - 126s 81ms/step - loss: 1.0106 - total_frobenius_norm: 33.8549 - accuracy: 0.7293 - val_loss: 1.2064 - val_total_frobenius_norm: 34.2030 - val_accuracy: 0.6622\n",
      "Epoch 11/15\n",
      "1563/1563 [==============================] - 110s 70ms/step - loss: 0.9996 - total_frobenius_norm: 34.6387 - accuracy: 0.7366 - val_loss: 1.1816 - val_total_frobenius_norm: 35.0108 - val_accuracy: 0.6783\n",
      "Epoch 12/15\n",
      "1563/1563 [==============================] - 118s 76ms/step - loss: 0.9916 - total_frobenius_norm: 35.4423 - accuracy: 0.7434 - val_loss: 1.1678 - val_total_frobenius_norm: 35.8155 - val_accuracy: 0.6950\n",
      "Epoch 13/15\n",
      "1563/1563 [==============================] - 122s 78ms/step - loss: 0.9802 - total_frobenius_norm: 36.1933 - accuracy: 0.7513 - val_loss: 1.2017 - val_total_frobenius_norm: 36.5785 - val_accuracy: 0.6832\n",
      "Epoch 14/15\n",
      "1563/1563 [==============================] - 125s 80ms/step - loss: 0.9702 - total_frobenius_norm: 36.9373 - accuracy: 0.7577 - val_loss: 1.2094 - val_total_frobenius_norm: 37.2816 - val_accuracy: 0.6913\n",
      "Epoch 15/15\n",
      "1563/1563 [==============================] - 115s 73ms/step - loss: 0.9633 - total_frobenius_norm: 37.7209 - accuracy: 0.7646 - val_loss: 1.2354 - val_total_frobenius_norm: 38.0394 - val_accuracy: 0.6828\n"
     ]
    }
   ],
   "source": [
    "model = ConvModel(L2_reg=0.001)\n",
    "model.compile(loss=tf.keras.losses.CategoricalCrossentropy(), optimizer=\"adam\")\n",
    "ridgeReg = model.fit(train_dataset, validation_data=test_dataset, epochs=15)"
   ]
  },
  {
   "attachments": {},
   "cell_type": "markdown",
   "metadata": {},
   "source": [
    "## 3. Training the same model with only data augmentation --> not done (aug)"
   ]
  },
  {
   "cell_type": "code",
   "execution_count": 46,
   "metadata": {},
   "outputs": [],
   "source": [
    "augmentation_model = tf.keras.Sequential([keras_cv.layers.RandAugment(value_range=[0,1],magnitude=0.1)])"
   ]
  },
  {
   "cell_type": "code",
   "execution_count": 47,
   "metadata": {},
   "outputs": [
    {
     "name": "stdout",
     "output_type": "stream",
     "text": [
      "Epoch 1/15\n"
     ]
    },
    {
     "ename": "InvalidArgumentError",
     "evalue": "Graph execution error:\n\nindices[0,20] = -65 is not in [0, 256)\n\t [[{{node sequential_6/rand_augment_6/map/while/cond/random_choice_6/switch_case/indexed_case/equalization_6/map/while/cond/GatherV2}}]]\n\t [[IteratorGetNext]] [Op:__inference_train_function_1392730]",
     "output_type": "error",
     "traceback": [
      "\u001b[1;31m---------------------------------------------------------------------------\u001b[0m",
      "\u001b[1;31mInvalidArgumentError\u001b[0m                      Traceback (most recent call last)",
      "\u001b[1;32mc:\\Users\\prizl\\Documents\\GitHub\\IANNwTFGr10\\Homework\\06\\Gr10HW06 opti 1-5.ipynb Cell 19\u001b[0m in \u001b[0;36m<cell line: 6>\u001b[1;34m()\u001b[0m\n\u001b[0;32m      <a href='vscode-notebook-cell:/c%3A/Users/prizl/Documents/GitHub/IANNwTFGr10/Homework/06/Gr10HW06%20opti%201-5.ipynb#X26sZmlsZQ%3D%3D?line=3'>4</a>\u001b[0m model \u001b[39m=\u001b[39m ConvModel()\n\u001b[0;32m      <a href='vscode-notebook-cell:/c%3A/Users/prizl/Documents/GitHub/IANNwTFGr10/Homework/06/Gr10HW06%20opti%201-5.ipynb#X26sZmlsZQ%3D%3D?line=4'>5</a>\u001b[0m model\u001b[39m.\u001b[39mcompile(loss\u001b[39m=\u001b[39mtf\u001b[39m.\u001b[39mkeras\u001b[39m.\u001b[39mlosses\u001b[39m.\u001b[39mCategoricalCrossentropy(), optimizer\u001b[39m=\u001b[39m\u001b[39m\"\u001b[39m\u001b[39madam\u001b[39m\u001b[39m\"\u001b[39m)\n\u001b[1;32m----> <a href='vscode-notebook-cell:/c%3A/Users/prizl/Documents/GitHub/IANNwTFGr10/Homework/06/Gr10HW06%20opti%201-5.ipynb#X26sZmlsZQ%3D%3D?line=5'>6</a>\u001b[0m augment \u001b[39m=\u001b[39m model\u001b[39m.\u001b[39;49mfit(train_dataset_aug, validation_data\u001b[39m=\u001b[39;49mtest_dataset, epochs\u001b[39m=\u001b[39;49m\u001b[39m15\u001b[39;49m)\n",
      "File \u001b[1;32m~\\AppData\\Local\\Packages\\PythonSoftwareFoundation.Python.3.10_qbz5n2kfra8p0\\LocalCache\\local-packages\\Python310\\site-packages\\keras\\utils\\traceback_utils.py:67\u001b[0m, in \u001b[0;36mfilter_traceback.<locals>.error_handler\u001b[1;34m(*args, **kwargs)\u001b[0m\n\u001b[0;32m     65\u001b[0m \u001b[39mexcept\u001b[39;00m \u001b[39mException\u001b[39;00m \u001b[39mas\u001b[39;00m e:  \u001b[39m# pylint: disable=broad-except\u001b[39;00m\n\u001b[0;32m     66\u001b[0m   filtered_tb \u001b[39m=\u001b[39m _process_traceback_frames(e\u001b[39m.\u001b[39m__traceback__)\n\u001b[1;32m---> 67\u001b[0m   \u001b[39mraise\u001b[39;00m e\u001b[39m.\u001b[39mwith_traceback(filtered_tb) \u001b[39mfrom\u001b[39;00m \u001b[39mNone\u001b[39m\n\u001b[0;32m     68\u001b[0m \u001b[39mfinally\u001b[39;00m:\n\u001b[0;32m     69\u001b[0m   \u001b[39mdel\u001b[39;00m filtered_tb\n",
      "File \u001b[1;32m~\\AppData\\Local\\Packages\\PythonSoftwareFoundation.Python.3.10_qbz5n2kfra8p0\\LocalCache\\local-packages\\Python310\\site-packages\\tensorflow\\python\\eager\\execute.py:54\u001b[0m, in \u001b[0;36mquick_execute\u001b[1;34m(op_name, num_outputs, inputs, attrs, ctx, name)\u001b[0m\n\u001b[0;32m     52\u001b[0m \u001b[39mtry\u001b[39;00m:\n\u001b[0;32m     53\u001b[0m   ctx\u001b[39m.\u001b[39mensure_initialized()\n\u001b[1;32m---> 54\u001b[0m   tensors \u001b[39m=\u001b[39m pywrap_tfe\u001b[39m.\u001b[39mTFE_Py_Execute(ctx\u001b[39m.\u001b[39m_handle, device_name, op_name,\n\u001b[0;32m     55\u001b[0m                                       inputs, attrs, num_outputs)\n\u001b[0;32m     56\u001b[0m \u001b[39mexcept\u001b[39;00m core\u001b[39m.\u001b[39m_NotOkStatusException \u001b[39mas\u001b[39;00m e:\n\u001b[0;32m     57\u001b[0m   \u001b[39mif\u001b[39;00m name \u001b[39mis\u001b[39;00m \u001b[39mnot\u001b[39;00m \u001b[39mNone\u001b[39;00m:\n",
      "\u001b[1;31mInvalidArgumentError\u001b[0m: Graph execution error:\n\nindices[0,20] = -65 is not in [0, 256)\n\t [[{{node sequential_6/rand_augment_6/map/while/cond/random_choice_6/switch_case/indexed_case/equalization_6/map/while/cond/GatherV2}}]]\n\t [[IteratorGetNext]] [Op:__inference_train_function_1392730]"
     ]
    }
   ],
   "source": [
    "# new training dataset for data augmentation since we defined two different preprocess methods: one with, the other without augmentation\n",
    "train_dataset_aug = preprocess_aug(train_ds, augmentation=augmentation_model)\n",
    "\n",
    "model = ConvModel()\n",
    "model.compile(loss=tf.keras.losses.CategoricalCrossentropy(), optimizer=\"adam\")\n",
    "augment = model.fit(train_dataset_aug, validation_data=test_dataset, epochs=15)"
   ]
  },
  {
   "attachments": {},
   "cell_type": "markdown",
   "metadata": {},
   "source": [
    "## 4. Training the same model with only dropout between layers (dropout)"
   ]
  },
  {
   "cell_type": "code",
   "execution_count": 43,
   "metadata": {},
   "outputs": [
    {
     "name": "stdout",
     "output_type": "stream",
     "text": [
      "Epoch 1/15\n",
      "1563/1563 [==============================] - 166s 105ms/step - loss: 1.6428 - total_frobenius_norm: 33.5871 - accuracy: 0.3980 - val_loss: 1.3783 - val_total_frobenius_norm: 40.2041 - val_accuracy: 0.5003\n",
      "Epoch 2/15\n",
      "1563/1563 [==============================] - 151s 97ms/step - loss: 1.3576 - total_frobenius_norm: 45.1162 - accuracy: 0.5099 - val_loss: 1.3953 - val_total_frobenius_norm: 49.6262 - val_accuracy: 0.5083\n",
      "Epoch 3/15\n",
      "1563/1563 [==============================] - 148s 95ms/step - loss: 1.2595 - total_frobenius_norm: 53.4868 - accuracy: 0.5475 - val_loss: 1.2781 - val_total_frobenius_norm: 57.2216 - val_accuracy: 0.5475\n",
      "Epoch 4/15\n",
      "1563/1563 [==============================] - 152s 97ms/step - loss: 1.2048 - total_frobenius_norm: 60.5609 - accuracy: 0.5681 - val_loss: 1.2815 - val_total_frobenius_norm: 63.8703 - val_accuracy: 0.5429\n",
      "Epoch 5/15\n",
      "1563/1563 [==============================] - 159s 102ms/step - loss: 1.1738 - total_frobenius_norm: 67.0532 - accuracy: 0.5800 - val_loss: 1.2726 - val_total_frobenius_norm: 70.1243 - val_accuracy: 0.5543\n",
      "Epoch 6/15\n",
      "1563/1563 [==============================] - 165s 106ms/step - loss: 1.1408 - total_frobenius_norm: 72.9079 - accuracy: 0.5909 - val_loss: 1.1669 - val_total_frobenius_norm: 75.6268 - val_accuracy: 0.5881\n",
      "Epoch 7/15\n",
      "1563/1563 [==============================] - 173s 111ms/step - loss: 1.1321 - total_frobenius_norm: 78.1741 - accuracy: 0.5976 - val_loss: 1.2812 - val_total_frobenius_norm: 80.8178 - val_accuracy: 0.5563\n",
      "Epoch 8/15\n",
      "1563/1563 [==============================] - 160s 102ms/step - loss: 1.1140 - total_frobenius_norm: 83.3481 - accuracy: 0.6046 - val_loss: 1.3694 - val_total_frobenius_norm: 85.6929 - val_accuracy: 0.5389\n",
      "Epoch 9/15\n",
      "1563/1563 [==============================] - 147s 94ms/step - loss: 1.1079 - total_frobenius_norm: 87.9559 - accuracy: 0.6062 - val_loss: 1.2756 - val_total_frobenius_norm: 90.1465 - val_accuracy: 0.5597\n",
      "Epoch 10/15\n",
      "1563/1563 [==============================] - 148s 94ms/step - loss: 1.0997 - total_frobenius_norm: 92.3187 - accuracy: 0.6068 - val_loss: 1.3900 - val_total_frobenius_norm: 94.5820 - val_accuracy: 0.5433\n",
      "Epoch 11/15\n",
      "1563/1563 [==============================] - 148s 94ms/step - loss: 1.0857 - total_frobenius_norm: 96.6873 - accuracy: 0.6128 - val_loss: 1.2868 - val_total_frobenius_norm: 98.7524 - val_accuracy: 0.5689\n",
      "Epoch 12/15\n",
      "1563/1563 [==============================] - 146s 93ms/step - loss: 1.0869 - total_frobenius_norm: 100.8602 - accuracy: 0.6131 - val_loss: 1.1198 - val_total_frobenius_norm: 102.8637 - val_accuracy: 0.6161\n",
      "Epoch 13/15\n",
      "1563/1563 [==============================] - 146s 94ms/step - loss: 1.0737 - total_frobenius_norm: 104.7823 - accuracy: 0.6203 - val_loss: 1.2606 - val_total_frobenius_norm: 106.5333 - val_accuracy: 0.5814\n",
      "Epoch 14/15\n",
      "1563/1563 [==============================] - 146s 93ms/step - loss: 1.0703 - total_frobenius_norm: 108.2901 - accuracy: 0.6219 - val_loss: 1.1581 - val_total_frobenius_norm: 109.9666 - val_accuracy: 0.6037\n",
      "Epoch 15/15\n",
      "1563/1563 [==============================] - 146s 93ms/step - loss: 1.0676 - total_frobenius_norm: 111.7211 - accuracy: 0.6191 - val_loss: 1.2811 - val_total_frobenius_norm: 113.5408 - val_accuracy: 0.5710\n"
     ]
    }
   ],
   "source": [
    "model = ConvModel(dropout_rate=0.5)\n",
    "model.compile(loss=tf.keras.losses.CategoricalCrossentropy(), optimizer=\"adam\")\n",
    "dropout = model.fit(train_dataset, validation_data=test_dataset, epochs=15)"
   ]
  },
  {
   "attachments": {},
   "cell_type": "markdown",
   "metadata": {},
   "source": [
    "## 5. Training the same model with only batch normalization (batchnorm)"
   ]
  },
  {
   "cell_type": "code",
   "execution_count": null,
   "metadata": {},
   "outputs": [
    {
     "name": "stdout",
     "output_type": "stream",
     "text": [
      "Epoch 1/15\n",
      "313/313 [==============================] - 35s 107ms/step - loss: 3.1416 - total_frobenius_norm: 48.4365 - accuracy: 0.3435 - val_loss: 3.8199 - val_total_frobenius_norm: 49.5839 - val_accuracy: 0.1975\n",
      "Epoch 2/15\n",
      "313/313 [==============================] - 32s 104ms/step - loss: 1.7147 - total_frobenius_norm: 50.4456 - accuracy: 0.5372 - val_loss: 0.9247 - val_total_frobenius_norm: 51.2802 - val_accuracy: 0.7019\n",
      "Epoch 3/15\n",
      "313/313 [==============================] - 33s 104ms/step - loss: 0.7933 - total_frobenius_norm: 52.1257 - accuracy: 0.7379 - val_loss: 0.4369 - val_total_frobenius_norm: 52.9219 - val_accuracy: 0.8451\n",
      "Epoch 4/15\n",
      "313/313 [==============================] - 32s 102ms/step - loss: 0.3774 - total_frobenius_norm: 53.6462 - accuracy: 0.8641 - val_loss: 0.2723 - val_total_frobenius_norm: 54.3738 - val_accuracy: 0.9060\n",
      "Epoch 5/15\n",
      "313/313 [==============================] - 33s 104ms/step - loss: 0.1932 - total_frobenius_norm: 54.9687 - accuracy: 0.9338 - val_loss: 0.1369 - val_total_frobenius_norm: 55.5362 - val_accuracy: 0.9582\n",
      "Epoch 6/15\n",
      "313/313 [==============================] - 32s 102ms/step - loss: 0.1061 - total_frobenius_norm: 56.0317 - accuracy: 0.9694 - val_loss: 0.0911 - val_total_frobenius_norm: 56.4931 - val_accuracy: 0.9730\n",
      "Epoch 7/15\n",
      "313/313 [==============================] - 32s 102ms/step - loss: 0.0705 - total_frobenius_norm: 56.9024 - accuracy: 0.9815 - val_loss: 0.0830 - val_total_frobenius_norm: 57.3581 - val_accuracy: 0.9733\n",
      "Epoch 8/15\n",
      "313/313 [==============================] - 32s 102ms/step - loss: 0.0932 - total_frobenius_norm: 57.9641 - accuracy: 0.9711 - val_loss: 0.1544 - val_total_frobenius_norm: 58.7585 - val_accuracy: 0.9454\n",
      "Epoch 9/15\n",
      "313/313 [==============================] - 32s 102ms/step - loss: 0.3557 - total_frobenius_norm: 60.3427 - accuracy: 0.8852 - val_loss: 0.5969 - val_total_frobenius_norm: 62.5468 - val_accuracy: 0.8352\n",
      "Epoch 10/15\n",
      "313/313 [==============================] - 32s 102ms/step - loss: 0.5567 - total_frobenius_norm: 64.4413 - accuracy: 0.8264 - val_loss: 0.2662 - val_total_frobenius_norm: 66.0326 - val_accuracy: 0.9163\n",
      "Epoch 11/15\n",
      "313/313 [==============================] - 32s 103ms/step - loss: 0.2257 - total_frobenius_norm: 66.7541 - accuracy: 0.9245 - val_loss: 0.0906 - val_total_frobenius_norm: 67.3236 - val_accuracy: 0.9699\n",
      "Epoch 12/15\n",
      "313/313 [==============================] - 32s 101ms/step - loss: 0.0732 - total_frobenius_norm: 67.6797 - accuracy: 0.9761 - val_loss: 0.0397 - val_total_frobenius_norm: 67.8886 - val_accuracy: 0.9872\n",
      "Epoch 13/15\n",
      "313/313 [==============================] - 33s 106ms/step - loss: 0.0321 - total_frobenius_norm: 68.1064 - accuracy: 0.9893 - val_loss: 0.0181 - val_total_frobenius_norm: 68.2852 - val_accuracy: 0.9955\n",
      "Epoch 14/15\n",
      "313/313 [==============================] - 34s 107ms/step - loss: 0.0137 - total_frobenius_norm: 68.3949 - accuracy: 0.9964 - val_loss: 0.0064 - val_total_frobenius_norm: 68.5037 - val_accuracy: 0.9992\n",
      "Epoch 15/15\n",
      "313/313 [==============================] - 32s 103ms/step - loss: 0.0057 - total_frobenius_norm: 68.5572 - accuracy: 0.9993 - val_loss: 0.0021 - val_total_frobenius_norm: 68.6099 - val_accuracy: 0.9999\n"
     ]
    }
   ],
   "source": [
    "model = ConvModel(batch_norm=True)\n",
    "model.compile(loss=tf.keras.losses.CategoricalCrossentropy(), optimizer=\"adam\")\n",
    "batchnorm = model.fit(train_dataset, validation_data=test_dataset, epochs=15)"
   ]
  },
  {
   "cell_type": "code",
   "execution_count": null,
   "metadata": {},
   "outputs": [
    {
     "name": "stderr",
     "output_type": "stream",
     "text": [
      "WARNING:matplotlib.legend:No artists with labels found to put in legend.  Note that artists whose label start with an underscore are ignored when legend() is called with no argument.\n"
     ]
    },
    {
     "data": {
      "image/png": "[encoded data removed]",
      "text/plain": [
       "<Figure size 576x720 with 6 Axes>"
      ]
     },
     "metadata": {
      "needs_background": "light"
     },
     "output_type": "display_data"
    }
   ],
   "source": [
    "# plotting\n",
    "fig, (ax0, ax1, ax2, ax3, ax4, ax5) = plt.subplots(6, 1, figsize=(8, 10))\n",
    "\n",
    "ax0.set_title(\"original\")\n",
    "ax0.plot(original.history[\"total_frobenius_norm\"]/np.max(original.history[\"total_frobenius_norm\"]) * np.max(original.history[\"val_loss\"]))\n",
    "ax0.plot(original.history[\"val_loss\"])\n",
    "ax0.plot(original.history[\"loss\"])\n",
    "ax0.legend(labels=[\"Total Frobenius Norm\", \"Validation Loss\", \"Loss\"])\n",
    "# ax0.savefig(\"convnet_original\")\n",
    "# ax0.show()\n",
    "\n",
    "ax1.set_title(\"L1\")\n",
    "ax1.plot(lassoReg.history[\"total_frobenius_norm\"]/np.max(lassoReg.history[\"total_frobenius_norm\"]) * np.max(lassoReg.history[\"val_loss\"]))\n",
    "ax1.plot(lassoReg.history[\"val_loss\"])\n",
    "ax1.plot(lassoReg.history[\"loss\"])\n",
    "# ax1.legend(labels=[\"Total Frobenius Norm\", \"Validation Loss\", \"Loss\"])\n",
    "# ax1.savefig(\"convnet_L1\")\n",
    "# ax1.show()\n",
    "\n",
    "ax2.set_title(\"L2\")\n",
    "ax2.plot(ridgeReg.history[\"total_frobenius_norm\"]/np.max(ridgeReg.history[\"total_frobenius_norm\"]) * np.max(ridgeReg.history[\"val_loss\"]))\n",
    "ax2.plot(ridgeReg.history[\"val_loss\"])\n",
    "ax2.plot(ridgeReg.history[\"loss\"])\n",
    "# ax2.legend(labels=[\"Total Frobenius Norm\", \"Validation Loss\", \"Loss\"])\n",
    "# ax2.savefig(\"convnet_L2\")\n",
    "# ax2.show()\n",
    "\n",
    "ax3.set_title(\"L2\")\n",
    "ax3.plot(augment.history[\"total_frobenius_norm\"]/np.max(augment.history[\"total_frobenius_norm\"]) * np.max(augment.history[\"val_loss\"]))\n",
    "ax3.plot(augment.history[\"val_loss\"])\n",
    "ax3.plot(augment.history[\"loss\"])\n",
    "# ax3.legend(labels=[\"Total Frobenius Norm\", \"Validation Loss\", \"Loss\"])\n",
    "# ax3.savefig(\"convnet_augment\")\n",
    "# ax3.show()\n",
    "\n",
    "ax4.set_title(\"Dropout\")\n",
    "ax4.plot(dropout.history[\"total_frobenius_norm\"]/np.max(dropout.history[\"total_frobenius_norm\"]) * np.max(dropout.history[\"val_loss\"]))\n",
    "ax4.plot(dropout.history[\"val_loss\"])\n",
    "ax4.plot(dropout.history[\"loss\"])\n",
    "# ax4.legend(labels=[\"Total Frobenius Norm\", \"Validation Loss\", \"Loss\"])\n",
    "# ax4.savefig(\"convnet_dropout\")\n",
    "# ax4.show()\n",
    "\n",
    "ax5.set_title(\"Batch Norm\")\n",
    "ax5.plot(batchnorm.history[\"total_frobenius_norm\"]/np.max(batchnorm.history[\"total_frobenius_norm\"]) * np.max(batchnorm.history[\"val_loss\"]))\n",
    "ax5.plot(batchnorm.history[\"val_loss\"])\n",
    "ax5.plot(batchnorm.history[\"loss\"])\n",
    "# ax5.legend(labels=[\"Total Frobenius Norm\", \"Validation Loss\", \"Loss\"])\n",
    "# ax5.savefig(\"convnet_batchnorm\")\n",
    "# ax5.show()\n",
    "\n",
    "ax5.set_xlabel(\"Epochs\")\n",
    "# ax5.set_ylabel(\"Loss\")\n",
    "\n",
    "plt.legend()\n",
    "fig.savefig(\"5 optimization methods comparison (e=15)\")\n",
    "\n",
    "fig.tight_layout(pad=0.1)\n",
    "plt.show()"
   ]
  },
  {
   "attachments": {},
   "cell_type": "markdown",
   "metadata": {},
   "source": [
    "revised until here (9.12 Wooki)"
   ]
  },
  {
   "cell_type": "code",
   "execution_count": null,
   "metadata": {
    "collapsed": false,
    "pycharm": {
     "name": "#%%\n"
    }
   },
   "outputs": [],
   "source": [
    "# Initiate the logs and metrics\n",
    "config_name= \"config_name\"\n",
    "current_time = datetime.datetime.now().strftime(\"%Y%m%d-%H%M%S\")\n",
    "\n",
    "train_log_path = f\"logs/{config_name}/{current_time}/train\"\n",
    "val_log_path = f\"logs/{config_name}/{current_time}/val\"\n",
    "\n",
    "# log writer for training metrics\n",
    "train_summary_writer = tf.summary.create_file_writer(train_log_path)\n",
    "\n",
    "# log writer for validation metrics\n",
    "val_summary_writer = tf.summary.create_file_writer(val_log_path)\n",
    "\n",
    "# Initiate epochs and learning rate as global variables\n",
    "epochs = 15\n",
    "learning_rate = 0.05\n",
    "\n",
    "# Define arrays for saving values for later visualization\n",
    "train_losses = []\n",
    "train_accuracies = []\n",
    "val_losses = []\n",
    "val_accuracies = []"
   ]
  },
  {
   "cell_type": "markdown",
   "metadata": {
    "collapsed": false
   },
   "source": [
    "### 2.3 Training"
   ]
  },
  {
   "cell_type": "code",
   "execution_count": null,
   "metadata": {
    "collapsed": false,
    "pycharm": {
     "name": "#%%\n"
    }
   },
   "outputs": [],
   "source": [
    "# define the training loop\n",
    "\n",
    "def training():\n",
    "\n",
    "    # Select the model to use - the original or the modified one for optimization\n",
    "    # network = BasicConv()\n",
    "    network = ConvModel()\n",
    "\n",
    "    # Train the model\n",
    "    for epoch in range(epochs):\n",
    "        print(f\"Epoch: {epoch}, optimizer: {network.optimizer}\")\n",
    "\n",
    "        for data in tqdm.tqdm(train_dataset, position=0, leave=True):\n",
    "            metrics = network.train_step(data)\n",
    "\n",
    "            with train_summary_writer.as_default():\n",
    "                for metric in network.metrics:\n",
    "                    tf.summary.scalar(f\"{metric.name}\", metric.result(), step=epoch)\n",
    "\n",
    "        # print the end acc and loss\n",
    "        print([f\"train_{key}: {value.numpy()}\" for (key, value) in metrics.items()])\n",
    "\n",
    "        # make a list of losses and accuracies\n",
    "        for (key, value) in metrics.items():\n",
    "            if key == \"loss\":\n",
    "                train_losses.append(value.numpy())\n",
    "            elif key == \"acc\":\n",
    "                train_accuracies.append(value.numpy())\n",
    "\n",
    "        # reset metrics for next round\n",
    "        network.reset_metrics()\n",
    "\n",
    "        # Testing\n",
    "        for data in test_dataset:\n",
    "            metrics = network.test_step(data)\n",
    "\n",
    "            # log the accs and losses\n",
    "            with val_summary_writer.as_default():\n",
    "                for metric in network.metrics:\n",
    "                    tf.summary.scalar(f\"{metric.name}\", metric.result(), step = epoch)\n",
    "\n",
    "        # print the end acc and loss\n",
    "        print([f\"val_{key}: {value.numpy()}\" for (key, value) in metrics.items()])\n",
    "\n",
    "        # make a list of losses and accuracies\n",
    "        for (key, value) in metrics.items():\n",
    "            if key == \"loss\":\n",
    "                val_losses.append(value.numpy())\n",
    "            elif key == \"acc\":\n",
    "                val_accuracies.append(value.numpy())\n",
    "\n",
    "        # reset all metrics\n",
    "        network.reset_metrics()"
   ]
  },
  {
   "cell_type": "code",
   "execution_count": null,
   "metadata": {
    "collapsed": false,
    "pycharm": {
     "is_executing": true,
     "name": "#%%\n"
    }
   },
   "outputs": [],
   "source": [
    "# prepare the tensorboard ahead of training\n",
    "\n",
    "%load_ext tensorboard\n",
    "%tensorboard --logdir logs/fit"
   ]
  },
  {
   "cell_type": "code",
   "execution_count": null,
   "metadata": {
    "collapsed": false,
    "pycharm": {
     "is_executing": true,
     "name": "#%%\n"
    }
   },
   "outputs": [],
   "source": [
    "training()"
   ]
  },
  {
   "cell_type": "markdown",
   "metadata": {
    "collapsed": false
   },
   "source": [
    "### 2.4 - Visualization"
   ]
  },
  {
   "cell_type": "code",
   "execution_count": null,
   "metadata": {
    "collapsed": false,
    "pycharm": {
     "is_executing": true,
     "name": "#%%\n"
    }
   },
   "outputs": [],
   "source": [
    "# visualize the results\n",
    "\n",
    "fig = plt.figure()\n",
    "line1, = plt.plot(train_losses)\n",
    "line2, = plt.plot(val_losses)\n",
    "line3, = plt.plot(train_accuracies)\n",
    "line4, = plt.plot(val_accuracies)\n",
    "plt.xlabel(\"Epochs\")\n",
    "plt.ylabel(\"Loss/Accuracy\")\n",
    "plt.legend((line1,line2,line3,line4),(\"Training Loss\",\"Test Loss\",\"Training Accuracy\",\"Test Accuracy\"))\n",
    "fig.savefig(\"CNN Performance CIFAR-10\")\n",
    "plt.show()"
   ]
  },
  {
   "attachments": {},
   "cell_type": "markdown",
   "metadata": {
    "collapsed": false,
    "pycharm": {
     "name": "#%% md\n"
    }
   },
   "source": [
    "## Report re Overfitting\n",
    "\n",
    "Our original model overfit the data, as evidenced by the plateau in validation (testing) performance versus training. This discrepancy indicates it began to use features in the training data which did not help it generalize when it saw the new data in the test batch.\n",
    "\n",
    "## Report re Optimization\n",
    "\n",
    "We attempted the following optimization techniques and report on our reasoning for them and the results we obtained with them below:\n",
    "\n",
    "0. original (no optimization applied)\n",
    "\n",
    "1. L2 Regularization\n",
    "\n",
    "2. Augmentation\n",
    "\n",
    "3. Dropout\n",
    "\n"
   ]
  }
 ],
 "metadata": {
  "kernelspec": {
   "display_name": "Python 3.10.8 64-bit (microsoft store)",
   "language": "python",
   "name": "python3"
  },
  "language_info": {
   "codemirror_mode": {
    "name": "ipython",
    "version": 3
   },
   "file_extension": ".py",
   "mimetype": "text/x-python",
   "name": "python",
   "nbconvert_exporter": "python",
   "pygments_lexer": "ipython3",
   "version": "3.10.9"
  },
  "orig_nbformat": 4,
  "vscode": {
   "interpreter": {
    "hash": "9045caf6303e7720903cf179822b02fa228c285a06d63d48b635a33538dcbdb3"
   }
  }
 },
 "nbformat": 4,
 "nbformat_minor": 2
}
