{
 "cells": [
  {
   "cell_type": "markdown",
   "metadata": {
    "collapsed": true,
    "pycharm": {
     "name": "#%% md\n"
    }
   },
   "source": [
    "# IANNwTF HW 4\n",
    "## Group 10\n",
    "\n",
    "The following contains our solution to the exercises in IANNwTF HW 04. A Jupyter notebook versus a module format was chosen this time for purposes of organization."
   ]
  },
  {
   "cell_type": "markdown",
   "metadata": {
    "collapsed": false,
    "pycharm": {
     "name": "#%% md\n"
    }
   },
   "source": [
    "### Assigment 1: Reviews\n",
    "We review the homeworks for Groups 15 and 32."
   ]
  },
  {
   "cell_type": "markdown",
   "metadata": {
    "collapsed": false,
    "pycharm": {
     "name": "#%% md\n"
    }
   },
   "source": [
    "### Assignment 2: MNIST Math"
   ]
  },
  {
   "cell_type": "markdown",
   "metadata": {
    "collapsed": false,
    "pycharm": {
     "name": "#%% md\n"
    }
   },
   "source": [
    "### 2.1 Preparing the MNIST Math Dataset"
   ]
  },
  {
   "cell_type": "code",
   "execution_count": 102,
   "metadata": {
    "collapsed": false,
    "pycharm": {
     "name": "#%%\n"
    }
   },
   "outputs": [],
   "source": [
    "# Needed Imports\n",
    "import tensorflow as tf\n",
    "import tensorflow_datasets as tfds\n",
    "from tensorflow.keras.layers import Dense\n",
    "import tqdm\n",
    "import datetime\n",
    "import matplotlib.pyplot as plt\n",
    "import numpy as np"
   ]
  },
  {
   "cell_type": "code",
   "execution_count": 103,
   "metadata": {
    "collapsed": false,
    "pycharm": {
     "name": "#%%\n"
    }
   },
   "outputs": [],
   "source": [
    "# 2.1 Load Dataset\n",
    "(train_ds, test_ds), ds_info = tfds.load ('mnist', split =['train', 'test'], as_supervised = True, with_info = True)\n",
    "\n",
    "# Info on the dataset (refresher)\n",
    "# print(\"ds_info: \\n\", ds_info)\n",
    "# tfds.show_examples(train_ds, ds_info)"
   ]
  },
  {
   "cell_type": "code",
   "execution_count": 104,
   "metadata": {
    "collapsed": false,
    "pycharm": {
     "name": "#%%\n"
    }
   },
   "outputs": [],
   "source": [
    "# 2.2 Data Pipeline\n",
    "def prepare_data(dataset, batchsize):\n",
    "\n",
    "    '''\n",
    "    :param dataset: the dataset to be prepared for input into the network\n",
    "    :param batchsize: the desired batchsize\n",
    "    :return: 2 datasets, one each for each of the math problems defined (see below), created after the original database was preprocessed with the\n",
    "    steps below\n",
    "    '''\n",
    "\n",
    "    # Step 1 - General Preprocessing\n",
    "\n",
    "    # convert data from uint8 to float32\n",
    "    dataset = dataset.map(lambda img, target: (tf.cast(img, tf.float32), target))\n",
    "\n",
    "    # flatten the images into vectors\n",
    "    dataset = dataset.map(lambda img, target: (tf.reshape(img, (-1,)), target))\n",
    "\n",
    "    # input normalization, just bringing image values from range [0, 255] to [-1, 1]\n",
    "    dataset = dataset.map(lambda img, target: ((img / 128.) - 1., target))\n",
    "    \n",
    "    # create one-hot targets --> we don't do this fo\n",
    "    # dataset = dataset.map(lambda img, target: (img, tf.one_hot(target, depth=10)))\n",
    "\n",
    "    # Step 2 - Pairing Data Tuples & Respective Parameterized Targets\n",
    "\n",
    "    # create a dataset that contains 2000 samples from the overall dataset paired with 2000 other samples\n",
    "    data = tf.data.Dataset.zip((dataset.shuffle(2000), dataset.shuffle(2000)))\n",
    "\n",
    "    # create the dataset for the first math problem (a + b >= 5) - remembering to cast to int versus boolean!\n",
    "    greateqfive = data.map(lambda x1, x2: (x1[0], x2[0], x1[1]+x2[1]>=5))\n",
    "    greateqfive = greateqfive.map(lambda x1, x2, t: (x1, x2, tf.cast(t, tf.int32)))\n",
    "\n",
    "    # create the dataset for the second math problem (a - b = y)\n",
    "    subtr = data.map(lambda x1, x2: (x1[0], x2[0], x1[1]-x2[1]+9)) # since negative numbers cannot be one-hot it\n",
    "\n",
    "    # Step 3 - Batching & Prefetching\n",
    "    greateqfive = greateqfive.batch(batchsize)\n",
    "    greateqfive = greateqfive.prefetch(tf.data.AUTOTUNE)\n",
    "    subtr = subtr.batch(batchsize)\n",
    "    subtr = subtr.prefetch(tf.data.AUTOTUNE)\n",
    "\n",
    "    # return BOTH datasets\n",
    "    return greateqfive, subtr"
   ]
  },
  {
   "cell_type": "code",
   "execution_count": 105,
   "metadata": {},
   "outputs": [],
   "source": [
    "# 2.2 Data Pipeline\n",
    "def prepare_data(dataset, batchsize):\n",
    "\n",
    "    '''\n",
    "    :param dataset: the dataset to be prepared for input into the network\n",
    "    :param batchsize: the desired batchsize\n",
    "    :return: 2 datasets, one each for each of the math problems defined (see below), created after the original database was preprocessed with the\n",
    "    steps below\n",
    "    '''\n",
    "\n",
    "    # Step 1 - General Preprocessing\n",
    "\n",
    "    # convert data from uint8 to float32\n",
    "    dataset = dataset.map(lambda img, target: (tf.cast(img, tf.float32), target))\n",
    "\n",
    "    # flatten the images into vectors\n",
    "    dataset = dataset.map(lambda img, target: (tf.reshape(img, (-1,)), target))\n",
    "\n",
    "    # input normalization, just bringing image values from range [0, 255] to [-1, 1]\n",
    "    dataset = dataset.map(lambda img, target: ((img / 128.) - 1., target))\n",
    "    \n",
    "    # create one-hot targets --> with regression (subtask 1) doesn't make sense\n",
    "    # dataset = dataset.map(lambda img, target: (img, tf.one_hot(target, depth=10)))\n",
    "\n",
    "    # Step 2 - Pairing Data Tuples & Respective Parameterized Targets\n",
    "\n",
    "    # create a dataset that contains 2000 samples from the overall dataset paired with 2000 other samples\n",
    "    data = tf.data.Dataset.zip((dataset.shuffle(2000), dataset.shuffle(2000)))\n",
    "\n",
    "    # create the dataset for the first math problem (a + b >= 5) - remembering to cast to int versus boolean!\n",
    "    greateqfive = data.map(lambda x1, x2: (x1[0], x2[0], x1[1]+x2[1]>=5))\n",
    "    greateqfive = greateqfive.map(lambda x1, x2, t: (x1, x2, tf.cast(t, tf.int32)))\n",
    "\n",
    "    # create the dataset for the second math problem (a - b = y)\n",
    "    subtr = data.map(lambda x1, x2: (x1[0], x2[0], x1[1]-x2[1])) # since negative numbers cannot be one-hot it\n",
    "\n",
    "    # Step 3 - Batching & Prefetching\n",
    "    greateqfive = greateqfive.batch(batchsize)\n",
    "    greateqfive = greateqfive.prefetch(tf.data.AUTOTUNE)\n",
    "    subtr = subtr.batch(batchsize)\n",
    "    subtr = subtr.prefetch(tf.data.AUTOTUNE)\n",
    "\n",
    "    # return BOTH datasets\n",
    "    return greateqfive, subtr"
   ]
  },
  {
   "cell_type": "code",
   "execution_count": 106,
   "metadata": {
    "collapsed": false,
    "pycharm": {
     "name": "#%%\n"
    }
   },
   "outputs": [
    {
     "name": "stdout",
     "output_type": "stream",
     "text": [
      "(32, 784) (32, 784) (32,)\n",
      "(32, 784) (32, 784) (32,)\n",
      "(32, 784) (32, 784) (32,)\n",
      "(32, 784) (32, 784) (32,)\n"
     ]
    }
   ],
   "source": [
    "# Check data pipeline by examining one example from each of the four created datasets (one for each math problem for train and test)\n",
    "\n",
    "train_ds_gef, train_ds_subtr = prepare_data(train_ds, batchsize = 32)\n",
    "test_ds_gef, test_ds_subtr = prepare_data(test_ds, batchsize = 32)\n",
    "\n",
    "for img1, img2, label in train_ds_gef.take(1):\n",
    "    print(img1.shape, img2.shape, label.shape)\n",
    "\n",
    "for img1, img2, label in train_ds_subtr.take(1):\n",
    "    print(img1.shape, img2.shape, label.shape)\n",
    "\n",
    "for img1, img2, label in test_ds_gef.take(1):\n",
    "    print(img1.shape, img2.shape, label.shape)\n",
    "\n",
    "for img1, img2, label in test_ds_subtr.take(1):\n",
    "    print(img1.shape, img2.shape, label.shape)\n"
   ]
  },
  {
   "cell_type": "code",
   "execution_count": 107,
   "metadata": {
    "collapsed": false,
    "pycharm": {
     "name": "#%%\n"
    }
   },
   "outputs": [],
   "source": [
    "# Initiate the logs and metrics\n",
    "config_name= \"config_name\"\n",
    "current_time = datetime.datetime.now().strftime(\"%Y%m%d-%H%M%S\")\n",
    "\n",
    "train_log_path = f\"logs/{config_name}/{current_time}/train\"\n",
    "val_log_path = f\"logs/{config_name}/{current_time}/val\"\n",
    "\n",
    "# log writer for training metrics\n",
    "train_summary_writer = tf.summary.create_file_writer(train_log_path)\n",
    "\n",
    "# log writer for validation metrics\n",
    "val_summary_writer = tf.summary.create_file_writer(val_log_path)\n",
    "\n",
    "# Initiate epochs and learning rate as global variables\n",
    "epochs = 10\n",
    "learning_rate = 0.01 # 0.01\n",
    "\n",
    "# Define arrays for saving values for later visualization\n",
    "train_losses = []\n",
    "train_accuracies = []\n",
    "val_losses = []\n",
    "val_accuracies = []"
   ]
  },
  {
   "cell_type": "markdown",
   "metadata": {
    "collapsed": false
   },
   "source": [
    "### Assignment 3: Building Shared Weight Models"
   ]
  },
  {
   "cell_type": "code",
   "execution_count": 108,
   "metadata": {
    "collapsed": false,
    "pycharm": {
     "name": "#%%\n"
    }
   },
   "outputs": [],
   "source": [
    "class MyModel(tf.keras.Model):\n",
    "    def __init__(self, numlayers, subtask, optimizer):\n",
    "\n",
    "        '''\n",
    "        param: numlayers - the desired number of hidden layers\n",
    "        param: subtask - the subtask the network is being asked to solve (relevant for output layer)\n",
    "        param: optimizer - the optimizer to be used\n",
    "        '''\n",
    "\n",
    "        super(MyModel, self).__init__()\n",
    "\n",
    "        self.optimizer = optimizer\n",
    "        self.subtask = subtask\n",
    "\n",
    "        self.layerlist = [Dense(layers, activation=\"relu\") for layers in range(numlayers)]\n",
    "\n",
    "        if subtask == 0:\n",
    "            self.output_layer = Dense(units=1, activation=tf.nn.sigmoid)\n",
    "            self.loss_function = tf.keras.losses.BinaryCrossentropy()\n",
    "        elif subtask == 1:\n",
    "            self.output_layer = Dense(units=1, activation=tf.nn.softmax) # not 10 units, since the label.shape is (32,) not (32,10)\n",
    "            self.loss_function = tf.keras.losses.MeanSquaredError()\n",
    "\n",
    "        self.metrics_list = [\n",
    "                    tf.keras.metrics.Mean(name=\"loss\"),\n",
    "                    tf.keras.metrics.BinaryAccuracy(name=\"acc\"), # only for subtask 0, not for subtask 1\n",
    "                    #tf.keras.metrics.TopKCategoricalAccuracy(3,name=\"top-3-acc\")\n",
    "                    ]\n",
    "\n",
    "    @tf.function\n",
    "    def __call__(self, input: tuple, training = False):\n",
    "\n",
    "        # feed both inputs separately into the first layer, then concatenate the results before passing activity through the rest of the network UP TO the output layer\n",
    "        for layer in range(len(self.layerlist)):\n",
    "             if layer == 0:\n",
    "                 i1 = self.layerlist[layer](input[0])\n",
    "                 i2 = self.layerlist[layer](input[1])\n",
    "                 i = tf.concat([i1, i2], axis=1)   # e.g. axis=1: (32,784) + (32,784) -> (32, 1568)\n",
    "             else:\n",
    "                 i = self.layerlist[layer](i)\n",
    "\n",
    "        # run the activity through the output layer after it passes through the hidden layers\n",
    "        output = self.output_layer(i)\n",
    "\n",
    "        return output\n",
    "\n",
    "    @property\n",
    "    def metrics(self):\n",
    "        return self.metrics_list\n",
    "\n",
    "    def reset_metrics(self):\n",
    "        for metric in self.metrics:\n",
    "            metric.reset_states()\n",
    "\n",
    "    @tf.function\n",
    "    def train_step(self, input):\n",
    "        img1, img2, label = input\n",
    "\n",
    "        with tf.GradientTape() as tape:\n",
    "            prediction = self((img1, img2), training=True)\n",
    "            loss = self.loss_function(label, prediction)\n",
    "\n",
    "        gradients = tape.gradient(loss, self.trainable_variables)\n",
    "        self.optimizer.apply_gradients(zip(gradients, self.trainable_variables))\n",
    "\n",
    "        # update loss metric\n",
    "        self.metrics[0].update_state(loss)\n",
    "\n",
    "        # for all metrics except loss, update states (accuracy etc.)\n",
    "        for metric in self.metrics[1:]:\n",
    "            metric.update_state(label, prediction) # + tf.reduce_sum(self.losses)\n",
    "\n",
    "        # Return a dictionary mapping metric names to current value\n",
    "        return {m.name: m.result() for m in self.metrics}\n",
    "\n",
    "    @tf.function\n",
    "    def test_step(self, input):\n",
    "\n",
    "        img1, img2, label = input\n",
    "\n",
    "        prediction = self((img1, img2), training=False)\n",
    "        loss = self.loss_function(label, prediction) # + tf.reduce_sum(self.losses)\n",
    "\n",
    "        # update loss metric\n",
    "        self.metrics[0].update_state(loss)\n",
    "\n",
    "        # for accuracy metrics:\n",
    "        for metric in self.metrics[1:]:\n",
    "            metric.update_state(label, prediction)\n",
    "\n",
    "        # Return a dictionary mapping metric names to current value\n",
    "        return {m.name: m.result() for m in self.metrics}\n"
   ]
  },
  {
   "cell_type": "markdown",
   "metadata": {
    "collapsed": false
   },
   "source": [
    "### Assignment 4: Training the Networks"
   ]
  },
  {
   "cell_type": "code",
   "execution_count": 109,
   "metadata": {
    "collapsed": false,
    "pycharm": {
     "name": "#%%\n"
    }
   },
   "outputs": [],
   "source": [
    "def training(numlayers, subtask, optimizer):\n",
    "    '''\n",
    "    :param: numlayers: the number of layers desired in the network to be trained\n",
    "    :param subtask: defines the subtask to be solved, 0 is a + b >= 5, 1 is a - b = y\n",
    "    :param optimizer: the optimizer function to use\n",
    "    :return:\n",
    "    '''\n",
    "\n",
    "    # Initiate a model with the requested parameters\n",
    "    network = MyModel(numlayers, subtask, optimizer)\n",
    "\n",
    "    # Initialize the train and test datasets, and the loss function, based on the subtask\n",
    "    if subtask == 0:\n",
    "        train = train_ds_gef\n",
    "        test = test_ds_gef\n",
    "\n",
    "    else:\n",
    "        train = train_ds_subtr\n",
    "        test = test_ds_subtr\n",
    "\n",
    "    # Train the model\n",
    "    for epoch in range(epochs):\n",
    "        print(f\"Epoch: {epoch}, optimizer: {optimizer}\")\n",
    "\n",
    "        for data in tqdm.tqdm(train, position=0, leave=True):\n",
    "            metrics = network.train_step(data)\n",
    "\n",
    "            with train_summary_writer.as_default():\n",
    "                for metric in network.metrics:\n",
    "                    tf.summary.scalar(f\"{metric.name}\", metric.result(), step=epoch)\n",
    "\n",
    "        # Piper Attempt at Retrieve Mets for Vis\n",
    "        #train_losses.append(network.metrics[0].result())\n",
    "        #train_accuracies.append(network.metrics[1].result())\n",
    "\n",
    "        # print the end acc and loss\n",
    "        print([f\"train_{key}: {value.numpy()}\" for (key, value) in metrics.items()])\n",
    "\n",
    "        # make a list of losses and accuracies\n",
    "        for (key, value) in metrics.items():\n",
    "            if key == \"loss\":\n",
    "                train_losses.append(value.numpy())\n",
    "            elif key == \"acc\":\n",
    "                train_accuracies.append(value.numpy())\n",
    "\n",
    "        # reset metrics for next round\n",
    "        network.reset_metrics()\n",
    "\n",
    "        # Testing\n",
    "        for data in test:\n",
    "            metrics = network.test_step(data)\n",
    "\n",
    "            # log the accs and losses\n",
    "            with val_summary_writer.as_default():\n",
    "                for metric in network.metrics:\n",
    "                    tf.summary.scalar(f\"{metric.name}\", metric.result(), step = epoch)\n",
    "\n",
    "        # Piper Attempt at Retrieve Mets for Vis\n",
    "        #test_losses.append(network.metrics[2].result())\n",
    "        #test_accuracies.append(network.metrics[3].result())\n",
    "\n",
    "        # print the end acc and loss\n",
    "        print([f\"val_{key}: {value.numpy()}\" for (key, value) in metrics.items()])\n",
    "\n",
    "        # make a list of losses and accuracies\n",
    "        for (key, value) in metrics.items():\n",
    "            if key == \"loss\":\n",
    "                val_losses.append(value.numpy())\n",
    "            elif key == \"acc\":\n",
    "                val_accuracies.append(value.numpy())\n",
    "\n",
    "        # reset all metrics\n",
    "        network.reset_metrics()\n",
    "\n",
    "        #return train_losses,train_accuracies,test_losses,test_accuracies\n"
   ]
  },
  {
   "cell_type": "markdown",
   "metadata": {},
   "source": [
    "### Assignment 5 - Experiments\n",
    "\n",
    "Run training w/ classic SGD (no momentum)\n",
    "\n",
    "Run training w/ Adam\n",
    "\n",
    "Run training w/ SGD + Momentum\n",
    "\n",
    "Run training w/ RMSrop\n",
    "\n",
    "Run training w/ AdaGrad"
   ]
  },
  {
   "cell_type": "code",
   "execution_count": null,
   "metadata": {
    "collapsed": false,
    "pycharm": {
     "name": "#%%\n"
    }
   },
   "outputs": [],
   "source": [
    "# Train a model to solve the first math problem & save lists of loss and acc for visualization\n",
    "training(2, 0, tf.keras.optimizers.Adam())\n",
    "Adam_0 = [train_losses, train_accuracies, val_losses, val_accuracies]\n",
    "\n",
    "training(2, 0, tf.keras.optimizers.SGD(learning_rate=learning_rate, momentum=0.0))\n",
    "SDG_0 = [train_losses, train_accuracies, val_losses, val_accuracies]\n",
    "\n",
    "training(2, 0, tf.keras.optimizers.SGD(learning_rate=learning_rate, momentum=0.5))\n",
    "SDG_w_mom_0 = [train_losses, train_accuracies, val_losses, val_accuracies]\n",
    "\n",
    "training(2, 0, tf.keras.optimizers.RMSprop())\n",
    "RMS_0 = [train_losses, train_accuracies, val_losses, val_accuracies]\n",
    "\n",
    "training(2, 0, tf.keras.optimizers.Adagrad())\n",
    "Adagrad_0 = [train_losses, train_accuracies, val_losses, val_accuracies]\n"
   ]
  },
  {
   "cell_type": "code",
   "execution_count": 121,
   "metadata": {},
   "outputs": [
    {
     "data": {
      "image/png": "[encoded data removed]",
      "text/plain": [
       "<Figure size 576x720 with 5 Axes>"
      ]
     },
     "metadata": {
      "needs_background": "light"
     },
     "output_type": "display_data"
    }
   ],
   "source": [
    "# multiple plots for subtask 0\n",
    "fig, (ax1, ax2, ax3, ax4, ax5) = plt.subplots(5, 1, figsize=(8, 10))\n",
    "\n",
    "ax1.set_title(\"Adam_0\")\n",
    "ax1.plot(Adam_0[0], label='train_losses')\n",
    "ax1.plot(Adam_0[1], label='train_accuracies')\n",
    "ax1.plot(Adam_0[2], label='val_losses')\n",
    "ax1.plot(Adam_0[3], label='val_accuracies')\n",
    "\n",
    "# ax1.set_xlabel(\"Epochs\")\n",
    "ax1.set_ylabel(\"Loss/Accuracy\")\n",
    "\n",
    "ax2.set_title(\"SDG_0\")\n",
    "ax2.plot(SDG_0[0], label='train_losses')\n",
    "ax2.plot(SDG_0[1], label='train_accuracies')\n",
    "ax2.plot(SDG_0[2], label='val_losses')\n",
    "ax2.plot(SDG_0[3], label='val_accuracies')\n",
    "\n",
    "# ax2.set_xlabel(\"Epochs\")\n",
    "ax2.set_ylabel(\"Loss/Accuracy\")\n",
    "\n",
    "ax3.set_title(\"SDG_w_mom_0\")\n",
    "ax3.plot(SDG_w_mom_0[0], label='train_losses')\n",
    "ax3.plot(SDG_w_mom_0[1], label='train_accuracies')\n",
    "ax3.plot(SDG_w_mom_0[2], label='val_losses')\n",
    "ax3.plot(SDG_w_mom_0[3], label='val_accuracies')\n",
    "\n",
    "# ax3.set_xlabel(\"Epochs\")\n",
    "ax3.set_ylabel(\"Loss/Accuracy\")\n",
    "\n",
    "ax4.set_title(\"RMS_0\")\n",
    "ax4.plot(RMS_0[0], label='train_losses')\n",
    "ax4.plot(RMS_0[1], label='train_accuracies')\n",
    "ax4.plot(RMS_0[2], label='val_losses')\n",
    "ax4.plot(RMS_0[3], label='val_accuracies')\n",
    "\n",
    "# ax4.set_xlabel(\"Epochs\")\n",
    "ax4.set_ylabel(\"Loss/Accuracy\")\n",
    "\n",
    "ax5.set_title(\"Adagrad_0\")\n",
    "ax5.plot(Adagrad_0[0], label='train_losses')\n",
    "ax5.plot(Adagrad_0[1], label='train_accuracies')\n",
    "ax5.plot(Adagrad_0[2], label='val_losses')\n",
    "ax5.plot(Adagrad_0[3], label='val_accuracies')\n",
    "\n",
    "ax5.set_xlabel(\"Epochs\")\n",
    "ax5.set_ylabel(\"Loss/Accuracy\")\n",
    "\n",
    "plt.legend()\n",
    "fig.savefig(\"Plots for subtask 0\")\n",
    "\n",
    "fig.tight_layout(pad=0.1)\n",
    "plt.show()\n"
   ]
  },
  {
   "cell_type": "code",
   "execution_count": 122,
   "metadata": {},
   "outputs": [
    {
     "name": "stdout",
     "output_type": "stream",
     "text": [
      "Epoch: 0, optimizer: <keras.optimizers.optimizer_v2.adam.Adam object at 0x00000198CF1D3A90>\n"
     ]
    },
    {
     "name": "stderr",
     "output_type": "stream",
     "text": [
      "100%|██████████| 1875/1875 [00:12<00:00, 151.90it/s]\n"
     ]
    },
    {
     "name": "stdout",
     "output_type": "stream",
     "text": [
      "['train_loss: 17.73153305053711', 'train_acc: 0.08953333646059036']\n",
      "['val_loss: 17.785743713378906', 'val_acc: 0.09830000251531601']\n",
      "Epoch: 1, optimizer: <keras.optimizers.optimizer_v2.adam.Adam object at 0x00000198CF1D3A90>\n"
     ]
    },
    {
     "name": "stderr",
     "output_type": "stream",
     "text": [
      "100%|██████████| 1875/1875 [00:08<00:00, 218.19it/s]\n"
     ]
    },
    {
     "name": "stdout",
     "output_type": "stream",
     "text": [
      "['train_loss: 17.717100143432617', 'train_acc: 0.08776666969060898']\n",
      "['val_loss: 17.90125846862793', 'val_acc: 0.09009999781847']\n",
      "Epoch: 2, optimizer: <keras.optimizers.optimizer_v2.adam.Adam object at 0x00000198CF1D3A90>\n"
     ]
    },
    {
     "name": "stderr",
     "output_type": "stream",
     "text": [
      "100%|██████████| 1875/1875 [00:08<00:00, 223.43it/s]\n"
     ]
    },
    {
     "name": "stdout",
     "output_type": "stream",
     "text": [
      "['train_loss: 17.654600143432617', 'train_acc: 0.09033333510160446']\n",
      "['val_loss: 18.017072677612305', 'val_acc: 0.08900000154972076']\n",
      "Epoch: 3, optimizer: <keras.optimizers.optimizer_v2.adam.Adam object at 0x00000198CF1D3A90>\n"
     ]
    },
    {
     "name": "stderr",
     "output_type": "stream",
     "text": [
      "100%|██████████| 1875/1875 [00:07<00:00, 234.72it/s]\n"
     ]
    },
    {
     "name": "stdout",
     "output_type": "stream",
     "text": [
      "['train_loss: 17.83333396911621', 'train_acc: 0.0919666662812233']\n",
      "['val_loss: 17.806610107421875', 'val_acc: 0.09269999712705612']\n",
      "Epoch: 4, optimizer: <keras.optimizers.optimizer_v2.adam.Adam object at 0x00000198CF1D3A90>\n"
     ]
    },
    {
     "name": "stderr",
     "output_type": "stream",
     "text": [
      "100%|██████████| 1875/1875 [00:08<00:00, 228.84it/s]\n"
     ]
    },
    {
     "name": "stdout",
     "output_type": "stream",
     "text": [
      "['train_loss: 17.61566734313965', 'train_acc: 0.08844999969005585']\n",
      "['val_loss: 17.777755737304688', 'val_acc: 0.08879999816417694']\n",
      "Epoch: 5, optimizer: <keras.optimizers.optimizer_v2.adam.Adam object at 0x00000198CF1D3A90>\n"
     ]
    },
    {
     "name": "stderr",
     "output_type": "stream",
     "text": [
      "100%|██████████| 1875/1875 [00:08<00:00, 228.87it/s]\n"
     ]
    },
    {
     "name": "stdout",
     "output_type": "stream",
     "text": [
      "['train_loss: 17.60140037536621', 'train_acc: 0.09263333678245544']\n",
      "['val_loss: 17.935503005981445', 'val_acc: 0.0934000015258789']\n",
      "Epoch: 6, optimizer: <keras.optimizers.optimizer_v2.adam.Adam object at 0x00000198CF1D3A90>\n"
     ]
    },
    {
     "name": "stderr",
     "output_type": "stream",
     "text": [
      "100%|██████████| 1875/1875 [00:08<00:00, 223.40it/s]\n"
     ]
    },
    {
     "name": "stdout",
     "output_type": "stream",
     "text": [
      "['train_loss: 17.617700576782227', 'train_acc: 0.08985000103712082']\n",
      "['val_loss: 17.81439781188965', 'val_acc: 0.09350000321865082']\n",
      "Epoch: 7, optimizer: <keras.optimizers.optimizer_v2.adam.Adam object at 0x00000198CF1D3A90>\n"
     ]
    },
    {
     "name": "stderr",
     "output_type": "stream",
     "text": [
      "100%|██████████| 1875/1875 [00:07<00:00, 235.98it/s]\n"
     ]
    },
    {
     "name": "stdout",
     "output_type": "stream",
     "text": [
      "['train_loss: 17.757932662963867', 'train_acc: 0.08973333239555359']\n",
      "['val_loss: 17.634784698486328', 'val_acc: 0.08820000290870667']\n",
      "Epoch: 8, optimizer: <keras.optimizers.optimizer_v2.adam.Adam object at 0x00000198CF1D3A90>\n"
     ]
    },
    {
     "name": "stderr",
     "output_type": "stream",
     "text": [
      "100%|██████████| 1875/1875 [00:08<00:00, 232.72it/s]\n"
     ]
    },
    {
     "name": "stdout",
     "output_type": "stream",
     "text": [
      "['train_loss: 17.779966354370117', 'train_acc: 0.08969999849796295']\n",
      "['val_loss: 17.736820220947266', 'val_acc: 0.08910000324249268']\n",
      "Epoch: 9, optimizer: <keras.optimizers.optimizer_v2.adam.Adam object at 0x00000198CF1D3A90>\n"
     ]
    },
    {
     "name": "stderr",
     "output_type": "stream",
     "text": [
      "100%|██████████| 1875/1875 [00:08<00:00, 233.20it/s]\n"
     ]
    },
    {
     "name": "stdout",
     "output_type": "stream",
     "text": [
      "['train_loss: 17.645366668701172', 'train_acc: 0.08935000002384186']\n",
      "['val_loss: 18.08156967163086', 'val_acc: 0.09109999984502792']\n",
      "Epoch: 0, optimizer: <keras.optimizers.optimizer_v2.gradient_descent.SGD object at 0x00000198CF1D3A90>\n"
     ]
    },
    {
     "name": "stderr",
     "output_type": "stream",
     "text": [
      "100%|██████████| 1875/1875 [00:08<00:00, 224.90it/s]\n"
     ]
    },
    {
     "name": "stdout",
     "output_type": "stream",
     "text": [
      "['train_loss: 17.64853286743164', 'train_acc: 0.08996666967868805']\n",
      "['val_loss: 18.185302734375', 'val_acc: 0.08460000157356262']\n",
      "Epoch: 1, optimizer: <keras.optimizers.optimizer_v2.gradient_descent.SGD object at 0x00000198CF1D3A90>\n"
     ]
    },
    {
     "name": "stderr",
     "output_type": "stream",
     "text": [
      "100%|██████████| 1875/1875 [00:08<00:00, 226.58it/s]\n"
     ]
    },
    {
     "name": "stdout",
     "output_type": "stream",
     "text": [
      "['train_loss: 17.721567153930664', 'train_acc: 0.09175000339746475']\n",
      "['val_loss: 17.78095054626465', 'val_acc: 0.0957999974489212']\n",
      "Epoch: 2, optimizer: <keras.optimizers.optimizer_v2.gradient_descent.SGD object at 0x00000198CF1D3A90>\n"
     ]
    },
    {
     "name": "stderr",
     "output_type": "stream",
     "text": [
      "100%|██████████| 1875/1875 [00:09<00:00, 204.67it/s]\n"
     ]
    },
    {
     "name": "stdout",
     "output_type": "stream",
     "text": [
      "['train_loss: 17.709333419799805', 'train_acc: 0.09031666815280914']\n",
      "['val_loss: 18.017770767211914', 'val_acc: 0.0885000005364418']\n",
      "Epoch: 3, optimizer: <keras.optimizers.optimizer_v2.gradient_descent.SGD object at 0x00000198CF1D3A90>\n"
     ]
    },
    {
     "name": "stderr",
     "output_type": "stream",
     "text": [
      "100%|██████████| 1875/1875 [00:07<00:00, 235.51it/s]\n"
     ]
    },
    {
     "name": "stdout",
     "output_type": "stream",
     "text": [
      "['train_loss: 17.753700256347656', 'train_acc: 0.09003333002328873']\n",
      "['val_loss: 17.790334701538086', 'val_acc: 0.0885000005364418']\n",
      "Epoch: 4, optimizer: <keras.optimizers.optimizer_v2.gradient_descent.SGD object at 0x00000198CF1D3A90>\n"
     ]
    },
    {
     "name": "stderr",
     "output_type": "stream",
     "text": [
      "100%|██████████| 1875/1875 [00:09<00:00, 206.12it/s]\n"
     ]
    },
    {
     "name": "stdout",
     "output_type": "stream",
     "text": [
      "['train_loss: 17.68193244934082', 'train_acc: 0.08896666765213013']\n",
      "['val_loss: 17.84774398803711', 'val_acc: 0.0908999964594841']\n",
      "Epoch: 5, optimizer: <keras.optimizers.optimizer_v2.gradient_descent.SGD object at 0x00000198CF1D3A90>\n"
     ]
    },
    {
     "name": "stderr",
     "output_type": "stream",
     "text": [
      "100%|██████████| 1875/1875 [00:08<00:00, 227.37it/s]\n"
     ]
    },
    {
     "name": "stdout",
     "output_type": "stream",
     "text": [
      "['train_loss: 17.64419937133789', 'train_acc: 0.08986666798591614']\n",
      "['val_loss: 17.334863662719727', 'val_acc: 0.08919999748468399']\n",
      "Epoch: 6, optimizer: <keras.optimizers.optimizer_v2.gradient_descent.SGD object at 0x00000198CF1D3A90>\n"
     ]
    },
    {
     "name": "stderr",
     "output_type": "stream",
     "text": [
      "100%|██████████| 1875/1875 [00:07<00:00, 235.30it/s]\n"
     ]
    },
    {
     "name": "stdout",
     "output_type": "stream",
     "text": [
      "['train_loss: 17.632266998291016', 'train_acc: 0.09021666646003723']\n",
      "['val_loss: 17.946285247802734', 'val_acc: 0.0869000032544136']\n",
      "Epoch: 7, optimizer: <keras.optimizers.optimizer_v2.gradient_descent.SGD object at 0x00000198CF1D3A90>\n"
     ]
    },
    {
     "name": "stderr",
     "output_type": "stream",
     "text": [
      "100%|██████████| 1875/1875 [00:08<00:00, 227.31it/s]\n"
     ]
    },
    {
     "name": "stdout",
     "output_type": "stream",
     "text": [
      "['train_loss: 17.68956756591797', 'train_acc: 0.09126666933298111']\n",
      "['val_loss: 17.649959564208984', 'val_acc: 0.08569999784231186']\n",
      "Epoch: 8, optimizer: <keras.optimizers.optimizer_v2.gradient_descent.SGD object at 0x00000198CF1D3A90>\n"
     ]
    },
    {
     "name": "stderr",
     "output_type": "stream",
     "text": [
      "100%|██████████| 1875/1875 [00:07<00:00, 235.51it/s]\n"
     ]
    },
    {
     "name": "stdout",
     "output_type": "stream",
     "text": [
      "['train_loss: 17.691099166870117', 'train_acc: 0.09106666594743729']\n",
      "['val_loss: 17.67931365966797', 'val_acc: 0.09030000120401382']\n",
      "Epoch: 9, optimizer: <keras.optimizers.optimizer_v2.gradient_descent.SGD object at 0x00000198CF1D3A90>\n"
     ]
    },
    {
     "name": "stderr",
     "output_type": "stream",
     "text": [
      "100%|██████████| 1875/1875 [00:08<00:00, 231.27it/s]\n"
     ]
    },
    {
     "name": "stdout",
     "output_type": "stream",
     "text": [
      "['train_loss: 17.696434020996094', 'train_acc: 0.09080000221729279']\n",
      "['val_loss: 17.55850601196289', 'val_acc: 0.09300000220537186']\n",
      "Epoch: 0, optimizer: <keras.optimizers.optimizer_v2.gradient_descent.SGD object at 0x00000198C7EC2890>\n"
     ]
    },
    {
     "name": "stderr",
     "output_type": "stream",
     "text": [
      "100%|██████████| 1875/1875 [00:08<00:00, 214.26it/s]\n"
     ]
    },
    {
     "name": "stdout",
     "output_type": "stream",
     "text": [
      "['train_loss: 17.690866470336914', 'train_acc: 0.09234999865293503']\n",
      "['val_loss: 17.69938087463379', 'val_acc: 0.09529999643564224']\n",
      "Epoch: 1, optimizer: <keras.optimizers.optimizer_v2.gradient_descent.SGD object at 0x00000198C7EC2890>\n"
     ]
    },
    {
     "name": "stderr",
     "output_type": "stream",
     "text": [
      "100%|██████████| 1875/1875 [00:07<00:00, 237.31it/s]\n"
     ]
    },
    {
     "name": "stdout",
     "output_type": "stream",
     "text": [
      "['train_loss: 17.569133758544922', 'train_acc: 0.09093333035707474']\n",
      "['val_loss: 17.70866584777832', 'val_acc: 0.09019999951124191']\n",
      "Epoch: 2, optimizer: <keras.optimizers.optimizer_v2.gradient_descent.SGD object at 0x00000198C7EC2890>\n"
     ]
    },
    {
     "name": "stderr",
     "output_type": "stream",
     "text": [
      "100%|██████████| 1875/1875 [00:07<00:00, 234.70it/s]\n"
     ]
    },
    {
     "name": "stdout",
     "output_type": "stream",
     "text": [
      "['train_loss: 17.713132858276367', 'train_acc: 0.08955000340938568']\n",
      "['val_loss: 17.54163360595703', 'val_acc: 0.09650000184774399']\n",
      "Epoch: 3, optimizer: <keras.optimizers.optimizer_v2.gradient_descent.SGD object at 0x00000198C7EC2890>\n"
     ]
    },
    {
     "name": "stderr",
     "output_type": "stream",
     "text": [
      "100%|██████████| 1875/1875 [00:08<00:00, 229.71it/s]\n"
     ]
    },
    {
     "name": "stdout",
     "output_type": "stream",
     "text": [
      "['train_loss: 17.542165756225586', 'train_acc: 0.0909833312034607']\n",
      "['val_loss: 17.88318634033203', 'val_acc: 0.09130000323057175']\n",
      "Epoch: 4, optimizer: <keras.optimizers.optimizer_v2.gradient_descent.SGD object at 0x00000198C7EC2890>\n"
     ]
    },
    {
     "name": "stderr",
     "output_type": "stream",
     "text": [
      "100%|██████████| 1875/1875 [00:08<00:00, 229.46it/s]\n"
     ]
    },
    {
     "name": "stdout",
     "output_type": "stream",
     "text": [
      "['train_loss: 17.61953353881836', 'train_acc: 0.08866667002439499']\n",
      "['val_loss: 17.58975601196289', 'val_acc: 0.09440000355243683']\n",
      "Epoch: 5, optimizer: <keras.optimizers.optimizer_v2.gradient_descent.SGD object at 0x00000198C7EC2890>\n"
     ]
    },
    {
     "name": "stderr",
     "output_type": "stream",
     "text": [
      "100%|██████████| 1875/1875 [00:08<00:00, 224.02it/s]\n"
     ]
    },
    {
     "name": "stdout",
     "output_type": "stream",
     "text": [
      "['train_loss: 17.763866424560547', 'train_acc: 0.08966666460037231']\n",
      "['val_loss: 17.76108169555664', 'val_acc: 0.0892999991774559']\n",
      "Epoch: 6, optimizer: <keras.optimizers.optimizer_v2.gradient_descent.SGD object at 0x00000198C7EC2890>\n"
     ]
    },
    {
     "name": "stderr",
     "output_type": "stream",
     "text": [
      "100%|██████████| 1875/1875 [00:14<00:00, 131.46it/s]\n"
     ]
    },
    {
     "name": "stdout",
     "output_type": "stream",
     "text": [
      "['train_loss: 17.729000091552734', 'train_acc: 0.09194999933242798']\n",
      "['val_loss: 17.774761199951172', 'val_acc: 0.09070000052452087']\n",
      "Epoch: 7, optimizer: <keras.optimizers.optimizer_v2.gradient_descent.SGD object at 0x00000198C7EC2890>\n"
     ]
    },
    {
     "name": "stderr",
     "output_type": "stream",
     "text": [
      "100%|██████████| 1875/1875 [00:14<00:00, 131.34it/s]\n"
     ]
    },
    {
     "name": "stdout",
     "output_type": "stream",
     "text": [
      "['train_loss: 17.82003402709961', 'train_acc: 0.0890333354473114']\n",
      "['val_loss: 17.340354919433594', 'val_acc: 0.09220000356435776']\n",
      "Epoch: 8, optimizer: <keras.optimizers.optimizer_v2.gradient_descent.SGD object at 0x00000198C7EC2890>\n"
     ]
    },
    {
     "name": "stderr",
     "output_type": "stream",
     "text": [
      "100%|██████████| 1875/1875 [00:13<00:00, 142.24it/s]\n"
     ]
    },
    {
     "name": "stdout",
     "output_type": "stream",
     "text": [
      "['train_loss: 17.57200050354004', 'train_acc: 0.09245000034570694']\n",
      "['val_loss: 17.397165298461914', 'val_acc: 0.0957999974489212']\n",
      "Epoch: 9, optimizer: <keras.optimizers.optimizer_v2.gradient_descent.SGD object at 0x00000198C7EC2890>\n"
     ]
    },
    {
     "name": "stderr",
     "output_type": "stream",
     "text": [
      "100%|██████████| 1875/1875 [00:14<00:00, 133.71it/s]\n"
     ]
    },
    {
     "name": "stdout",
     "output_type": "stream",
     "text": [
      "['train_loss: 17.809600830078125', 'train_acc: 0.08895000070333481']\n",
      "['val_loss: 17.879093170166016', 'val_acc: 0.08839999884366989']\n",
      "Epoch: 0, optimizer: <keras.optimizers.optimizer_v2.rmsprop.RMSprop object at 0x00000198C7EC2890>\n"
     ]
    },
    {
     "name": "stderr",
     "output_type": "stream",
     "text": [
      "100%|██████████| 1875/1875 [00:15<00:00, 120.93it/s]\n"
     ]
    },
    {
     "name": "stdout",
     "output_type": "stream",
     "text": [
      "['train_loss: 17.704334259033203', 'train_acc: 0.09025000035762787']\n",
      "['val_loss: 17.699081420898438', 'val_acc: 0.08879999816417694']\n",
      "Epoch: 1, optimizer: <keras.optimizers.optimizer_v2.rmsprop.RMSprop object at 0x00000198C7EC2890>\n"
     ]
    },
    {
     "name": "stderr",
     "output_type": "stream",
     "text": [
      "100%|██████████| 1875/1875 [00:14<00:00, 128.43it/s]\n"
     ]
    },
    {
     "name": "stdout",
     "output_type": "stream",
     "text": [
      "['train_loss: 17.727033615112305', 'train_acc: 0.08829999715089798']\n",
      "['val_loss: 17.477136611938477', 'val_acc: 0.0892999991774559']\n",
      "Epoch: 2, optimizer: <keras.optimizers.optimizer_v2.rmsprop.RMSprop object at 0x00000198C7EC2890>\n"
     ]
    },
    {
     "name": "stderr",
     "output_type": "stream",
     "text": [
      "100%|██████████| 1875/1875 [00:14<00:00, 126.49it/s]\n"
     ]
    },
    {
     "name": "stdout",
     "output_type": "stream",
     "text": [
      "['train_loss: 17.801332473754883', 'train_acc: 0.09158333390951157']\n",
      "['val_loss: 17.65155792236328', 'val_acc: 0.09440000355243683']\n",
      "Epoch: 3, optimizer: <keras.optimizers.optimizer_v2.rmsprop.RMSprop object at 0x00000198C7EC2890>\n"
     ]
    },
    {
     "name": "stderr",
     "output_type": "stream",
     "text": [
      "100%|██████████| 1875/1875 [00:14<00:00, 126.29it/s]\n"
     ]
    },
    {
     "name": "stdout",
     "output_type": "stream",
     "text": [
      "['train_loss: 17.751432418823242', 'train_acc: 0.09033333510160446']\n",
      "['val_loss: 17.885482788085938', 'val_acc: 0.08799999952316284']\n",
      "Epoch: 4, optimizer: <keras.optimizers.optimizer_v2.rmsprop.RMSprop object at 0x00000198C7EC2890>\n"
     ]
    },
    {
     "name": "stderr",
     "output_type": "stream",
     "text": [
      "100%|██████████| 1875/1875 [00:14<00:00, 125.40it/s]\n"
     ]
    },
    {
     "name": "stdout",
     "output_type": "stream",
     "text": [
      "['train_loss: 17.579633712768555', 'train_acc: 0.0909833312034607']\n",
      "['val_loss: 17.83875846862793', 'val_acc: 0.09179999679327011']\n",
      "Epoch: 5, optimizer: <keras.optimizers.optimizer_v2.rmsprop.RMSprop object at 0x00000198C7EC2890>\n"
     ]
    },
    {
     "name": "stderr",
     "output_type": "stream",
     "text": [
      "100%|██████████| 1875/1875 [00:14<00:00, 130.61it/s]\n"
     ]
    },
    {
     "name": "stdout",
     "output_type": "stream",
     "text": [
      "['train_loss: 17.68826675415039', 'train_acc: 0.0882333368062973']\n",
      "['val_loss: 17.67342185974121', 'val_acc: 0.08799999952316284']\n",
      "Epoch: 6, optimizer: <keras.optimizers.optimizer_v2.rmsprop.RMSprop object at 0x00000198C7EC2890>\n"
     ]
    },
    {
     "name": "stderr",
     "output_type": "stream",
     "text": [
      "100%|██████████| 1875/1875 [00:14<00:00, 132.66it/s]\n"
     ]
    },
    {
     "name": "stdout",
     "output_type": "stream",
     "text": [
      "['train_loss: 17.73150062561035', 'train_acc: 0.09096666425466537']\n",
      "['val_loss: 17.668230056762695', 'val_acc: 0.08950000256299973']\n",
      "Epoch: 7, optimizer: <keras.optimizers.optimizer_v2.rmsprop.RMSprop object at 0x00000198C7EC2890>\n"
     ]
    },
    {
     "name": "stderr",
     "output_type": "stream",
     "text": [
      "100%|██████████| 1875/1875 [00:14<00:00, 133.76it/s]\n"
     ]
    },
    {
     "name": "stdout",
     "output_type": "stream",
     "text": [
      "['train_loss: 17.602100372314453', 'train_acc: 0.09179999679327011']\n",
      "['val_loss: 17.6699275970459', 'val_acc: 0.0908999964594841']\n",
      "Epoch: 8, optimizer: <keras.optimizers.optimizer_v2.rmsprop.RMSprop object at 0x00000198C7EC2890>\n"
     ]
    },
    {
     "name": "stderr",
     "output_type": "stream",
     "text": [
      "100%|██████████| 1875/1875 [00:15<00:00, 124.47it/s]\n"
     ]
    },
    {
     "name": "stdout",
     "output_type": "stream",
     "text": [
      "['train_loss: 17.733932495117188', 'train_acc: 0.0888499990105629']\n",
      "['val_loss: 17.685802459716797', 'val_acc: 0.09160000085830688']\n",
      "Epoch: 9, optimizer: <keras.optimizers.optimizer_v2.rmsprop.RMSprop object at 0x00000198C7EC2890>\n"
     ]
    },
    {
     "name": "stderr",
     "output_type": "stream",
     "text": [
      "100%|██████████| 1875/1875 [00:13<00:00, 138.74it/s]\n"
     ]
    },
    {
     "name": "stdout",
     "output_type": "stream",
     "text": [
      "['train_loss: 17.715267181396484', 'train_acc: 0.09076666831970215']\n",
      "['val_loss: 17.850439071655273', 'val_acc: 0.0940999984741211']\n",
      "Epoch: 0, optimizer: <keras.optimizers.optimizer_v2.adagrad.Adagrad object at 0x00000198C7EC2890>\n"
     ]
    },
    {
     "name": "stderr",
     "output_type": "stream",
     "text": [
      "100%|██████████| 1875/1875 [00:14<00:00, 127.77it/s]\n"
     ]
    },
    {
     "name": "stdout",
     "output_type": "stream",
     "text": [
      "['train_loss: 17.772499084472656', 'train_acc: 0.09206666797399521']\n",
      "['val_loss: 17.78704071044922', 'val_acc: 0.0869000032544136']\n",
      "Epoch: 1, optimizer: <keras.optimizers.optimizer_v2.adagrad.Adagrad object at 0x00000198C7EC2890>\n"
     ]
    },
    {
     "name": "stderr",
     "output_type": "stream",
     "text": [
      "100%|██████████| 1875/1875 [00:14<00:00, 133.70it/s]\n"
     ]
    },
    {
     "name": "stdout",
     "output_type": "stream",
     "text": [
      "['train_loss: 17.723432540893555', 'train_acc: 0.09000000357627869']\n",
      "['val_loss: 17.65545082092285', 'val_acc: 0.08330000191926956']\n",
      "Epoch: 2, optimizer: <keras.optimizers.optimizer_v2.adagrad.Adagrad object at 0x00000198C7EC2890>\n"
     ]
    },
    {
     "name": "stderr",
     "output_type": "stream",
     "text": [
      "100%|██████████| 1875/1875 [00:13<00:00, 134.12it/s]\n"
     ]
    },
    {
     "name": "stdout",
     "output_type": "stream",
     "text": [
      "['train_loss: 17.726200103759766', 'train_acc: 0.0880500003695488']\n",
      "['val_loss: 17.661142349243164', 'val_acc: 0.08990000188350677']\n",
      "Epoch: 3, optimizer: <keras.optimizers.optimizer_v2.adagrad.Adagrad object at 0x00000198C7EC2890>\n"
     ]
    },
    {
     "name": "stderr",
     "output_type": "stream",
     "text": [
      "100%|██████████| 1875/1875 [00:14<00:00, 128.90it/s]\n"
     ]
    },
    {
     "name": "stdout",
     "output_type": "stream",
     "text": [
      "['train_loss: 17.591533660888672', 'train_acc: 0.08998333662748337']\n",
      "['val_loss: 17.70047950744629', 'val_acc: 0.09070000052452087']\n",
      "Epoch: 4, optimizer: <keras.optimizers.optimizer_v2.adagrad.Adagrad object at 0x00000198C7EC2890>\n"
     ]
    },
    {
     "name": "stderr",
     "output_type": "stream",
     "text": [
      "100%|██████████| 1875/1875 [00:13<00:00, 134.59it/s]\n"
     ]
    },
    {
     "name": "stdout",
     "output_type": "stream",
     "text": [
      "['train_loss: 17.626432418823242', 'train_acc: 0.09216666966676712']\n",
      "['val_loss: 17.565296173095703', 'val_acc: 0.09120000153779984']\n",
      "Epoch: 5, optimizer: <keras.optimizers.optimizer_v2.adagrad.Adagrad object at 0x00000198C7EC2890>\n"
     ]
    },
    {
     "name": "stderr",
     "output_type": "stream",
     "text": [
      "100%|██████████| 1875/1875 [00:13<00:00, 140.50it/s]\n"
     ]
    },
    {
     "name": "stdout",
     "output_type": "stream",
     "text": [
      "['train_loss: 17.68796730041504', 'train_acc: 0.08936666697263718']\n",
      "['val_loss: 17.863618850708008', 'val_acc: 0.09470000118017197']\n",
      "Epoch: 6, optimizer: <keras.optimizers.optimizer_v2.adagrad.Adagrad object at 0x00000198C7EC2890>\n"
     ]
    },
    {
     "name": "stderr",
     "output_type": "stream",
     "text": [
      "100%|██████████| 1875/1875 [00:13<00:00, 135.08it/s]\n"
     ]
    },
    {
     "name": "stdout",
     "output_type": "stream",
     "text": [
      "['train_loss: 17.6380672454834', 'train_acc: 0.09091666340827942']\n",
      "['val_loss: 18.159046173095703', 'val_acc: 0.08839999884366989']\n",
      "Epoch: 7, optimizer: <keras.optimizers.optimizer_v2.adagrad.Adagrad object at 0x00000198C7EC2890>\n"
     ]
    },
    {
     "name": "stderr",
     "output_type": "stream",
     "text": [
      "100%|██████████| 1875/1875 [00:13<00:00, 135.91it/s]\n"
     ]
    },
    {
     "name": "stdout",
     "output_type": "stream",
     "text": [
      "['train_loss: 17.750865936279297', 'train_acc: 0.08924999833106995']\n",
      "['val_loss: 17.83865737915039', 'val_acc: 0.08879999816417694']\n",
      "Epoch: 8, optimizer: <keras.optimizers.optimizer_v2.adagrad.Adagrad object at 0x00000198C7EC2890>\n"
     ]
    },
    {
     "name": "stderr",
     "output_type": "stream",
     "text": [
      "100%|██████████| 1875/1875 [00:14<00:00, 132.19it/s]\n"
     ]
    },
    {
     "name": "stdout",
     "output_type": "stream",
     "text": [
      "['train_loss: 17.7016658782959', 'train_acc: 0.09178332984447479']\n",
      "['val_loss: 18.21405792236328', 'val_acc: 0.08969999849796295']\n",
      "Epoch: 9, optimizer: <keras.optimizers.optimizer_v2.adagrad.Adagrad object at 0x00000198C7EC2890>\n"
     ]
    },
    {
     "name": "stderr",
     "output_type": "stream",
     "text": [
      "100%|██████████| 1875/1875 [00:14<00:00, 131.84it/s]\n"
     ]
    },
    {
     "name": "stdout",
     "output_type": "stream",
     "text": [
      "['train_loss: 17.75320053100586', 'train_acc: 0.09175000339746475']\n",
      "['val_loss: 18.10782814025879', 'val_acc: 0.09189999848604202']\n"
     ]
    }
   ],
   "source": [
    "# Train a model to solve the first math problem & save lists of loss and acc for visualization\n",
    "training(5, 1, tf.keras.optimizers.Adam())\n",
    "Adam_1 = [train_losses, val_losses]\n",
    "\n",
    "training(5, 1, tf.keras.optimizers.SGD(learning_rate=learning_rate, momentum=0.0))\n",
    "SDG_1 = [train_losses, val_losses]\n",
    "\n",
    "training(5, 1, tf.keras.optimizers.SGD(learning_rate=learning_rate, momentum=0.5))\n",
    "SDG_w_mom_1 = [train_losses, val_losses]\n",
    "\n",
    "training(5, 1, tf.keras.optimizers.RMSprop())\n",
    "RMS_1 = [train_losses, val_losses]\n",
    "\n",
    "training(5, 1, tf.keras.optimizers.Adagrad())\n",
    "Adagrad_1 = [train_losses, val_losses]\n",
    "\n",
    "# we don't plot the accuracy for this subtask 1 because it make little sense for regression"
   ]
  },
  {
   "cell_type": "code",
   "execution_count": 123,
   "metadata": {},
   "outputs": [
    {
     "data": {
      "image/png": "[encoded data removed]",
      "text/plain": [
       "<Figure size 576x720 with 5 Axes>"
      ]
     },
     "metadata": {
      "needs_background": "light"
     },
     "output_type": "display_data"
    }
   ],
   "source": [
    "# multiple plots for subtask 1\n",
    "fig, (ax1, ax2, ax3, ax4, ax5) = plt.subplots(5, 1, figsize=(8, 10))\n",
    "\n",
    "ax1.set_title(\"Adam_1\")\n",
    "ax1.plot(Adam_1[0], label='train_losses')\n",
    "ax1.plot(Adam_1[1], label='val_losses')\n",
    "\n",
    "ax1.set_xlabel(\"Epochs\")\n",
    "ax1.set_ylabel(\"Loss/Accuracy\")\n",
    "\n",
    "ax2.set_title(\"SDG_1\")\n",
    "ax2.plot(SDG_1[0], label='train_losses')\n",
    "ax2.plot(SDG_1[1], label='val_losses')\n",
    "\n",
    "ax2.set_xlabel(\"Epochs\")\n",
    "ax2.set_ylabel(\"Loss/Accuracy\")\n",
    "\n",
    "ax3.set_title(\"SDG_w_mom_1\")\n",
    "ax3.plot(SDG_w_mom_1[0], label='train_losses')\n",
    "ax3.plot(SDG_w_mom_1[1], label='val_losses')\n",
    "\n",
    "ax3.set_xlabel(\"Epochs\")\n",
    "ax3.set_ylabel(\"Loss/Accuracy\")\n",
    "\n",
    "ax4.set_title(\"RMS_1\")\n",
    "ax4.plot(RMS_1[0], label='train_losses')\n",
    "ax4.plot(RMS_1[1], label='val_losses')\n",
    "\n",
    "ax4.set_xlabel(\"Epochs\")\n",
    "ax4.set_ylabel(\"Loss/Accuracy\")\n",
    "\n",
    "ax5.set_title(\"Adagrad_0\")\n",
    "ax5.plot(Adagrad_1[0], label='train_losses')\n",
    "ax5.plot(Adagrad_1[1], label='val_losses')\n",
    "\n",
    "ax5.set_xlabel(\"Epochs\")\n",
    "ax5.set_ylabel(\"Loss/Accuracy\")\n",
    "\n",
    "plt.legend()\n",
    "fig.savefig(\"Plots for subtask 1\")\n",
    "\n",
    "fig.tight_layout(pad=0.1)\n",
    "plt.show()"
   ]
  },
  {
   "cell_type": "markdown",
   "metadata": {},
   "source": [
    "**Accuracy does initially seem to go up over the epochs, but then drops again. But then this is the harder task I think. Visualization should be a matter of pulling out the metric results into the lists we created so we can use those lists for the next part. I tried this with the code I added above (marked as my attempt), but no luck.**"
   ]
  }
 ],
 "metadata": {
  "kernelspec": {
   "display_name": "Python 3.10.8 64-bit (microsoft store)",
   "language": "python",
   "name": "python3"
  },
  "language_info": {
   "codemirror_mode": {
    "name": "ipython",
    "version": 3
   },
   "file_extension": ".py",
   "mimetype": "text/x-python",
   "name": "python",
   "nbconvert_exporter": "python",
   "pygments_lexer": "ipython3",
   "version": "3.10.8"
  },
  "vscode": {
   "interpreter": {
    "hash": "9045caf6303e7720903cf179822b02fa228c285a06d63d48b635a33538dcbdb3"
   }
  }
 },
 "nbformat": 4,
 "nbformat_minor": 0
}
