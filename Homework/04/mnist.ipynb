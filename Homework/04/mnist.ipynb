{
 "cells": [
  {
   "cell_type": "markdown",
   "metadata": {},
   "source": [
    "2.1 Preparing MNIST math dataset"
   ]
  },
  {
   "cell_type": "code",
   "execution_count": 20,
   "metadata": {},
   "outputs": [],
   "source": [
    "import tensorflow_datasets as tfds\n",
    "import tensorflow as tf\n",
    "\n",
    "(train_ds, test_ds) , ds_info = tfds . load ('mnist', split =['train', 'test'], as_supervised = True , with_info = True )"
   ]
  },
  {
   "cell_type": "markdown",
   "metadata": {},
   "source": [
    "2.2 Two MNIST math datasets"
   ]
  },
  {
   "cell_type": "code",
   "execution_count": 25,
   "metadata": {},
   "outputs": [],
   "source": [
    "def prepare_data(dataset):\n",
    "\n",
    "    '''\n",
    "    :param dataset: the dataset to be prepared for input into the network\n",
    "    :return: dataset run through the prep steps below\n",
    "    '''\n",
    "\n",
    "    # first step\n",
    "    # convert data from uint8 to float32\n",
    "    dataset = dataset.map(lambda x, t: (tf.cast(x, tf.float32), t))\n",
    "    # flatten the images into vectors\n",
    "    dataset = dataset.map(lambda x, t: (tf.reshape(x, (-1,)), t))\n",
    "    # input normalization, just bringing image values from range [0, 255] to [-1, 1]\n",
    "    dataset = dataset.map(lambda x, t: ((x / 128.) - 1., t))\n",
    "\n",
    "    # second step (check out the flippedclassroom04 in the course github, we did sth similiar last week)\n",
    "    # we want to have two mnist images in each example\n",
    "    # this leads to a single example being ((x1,y1),(x2,y2))\n",
    "    zipped_ds = tf.data.Dataset.zip((dataset.shuffle(2000), \n",
    "                                     dataset.shuffle(2000)))\n",
    "\n",
    "    # subtask (1)\n",
    "    # map ((x1,y1),(x2,y2)) to (x1,x2, y1+y2>=5*) *boolean\n",
    "    zipped_ds1 = zipped_ds.map(lambda x1, x2: (x1[0], x2[0], x1[1] + x2[1] >= 5))\n",
    "    # transform boolean target to int\n",
    "    zipped_ds1 = zipped_ds1.map(lambda x1, x2, t: (x1, x2, tf.cast(t, tf.int32)))\n",
    "\n",
    "    # subtask (2)\n",
    "    # map ((x1,y1),(x2,y2)) to (x1,x2, y1-y2=t*) *t=target\n",
    "    zipped_ds2 = zipped_ds.map(lambda x1, x2: (x1[0], x2[0], x1[1] - x2[1]))\n",
    "\n",
    "    # third step\n",
    "    # batch, prefetch\n",
    "    zipped_ds1 = zipped_ds1.batch(2**6)\n",
    "    zipped_ds1 = zipped_ds1.prefetch(tf.data.AUTOTUNE)\n",
    "    \n",
    "    return zipped_ds1\n",
    "\n",
    "test_ds = prepare_data(test_ds)\n",
    "train_ds = prepare_data(train_ds)"
   ]
  },
  {
   "cell_type": "code",
   "execution_count": 26,
   "metadata": {},
   "outputs": [
    {
     "name": "stdout",
     "output_type": "stream",
     "text": [
      "(64, 784) (64, 784) (64,)\n"
     ]
    }
   ],
   "source": [
    "# check the contents of the dataset\n",
    "for img1, img2, label in train_ds.take(1):\n",
    "    print(img1.shape, img2.shape, label.shape)"
   ]
  },
  {
   "cell_type": "code",
   "execution_count": null,
   "metadata": {},
   "outputs": [],
   "source": []
  }
 ],
 "metadata": {
  "kernelspec": {
   "display_name": "Python 3.10.8 64-bit (microsoft store)",
   "language": "python",
   "name": "python3"
  },
  "language_info": {
   "codemirror_mode": {
    "name": "ipython",
    "version": 3
   },
   "file_extension": ".py",
   "mimetype": "text/x-python",
   "name": "python",
   "nbconvert_exporter": "python",
   "pygments_lexer": "ipython3",
   "version": "3.10.8"
  },
  "orig_nbformat": 4,
  "vscode": {
   "interpreter": {
    "hash": "9045caf6303e7720903cf179822b02fa228c285a06d63d48b635a33538dcbdb3"
   }
  }
 },
 "nbformat": 4,
 "nbformat_minor": 2
}
